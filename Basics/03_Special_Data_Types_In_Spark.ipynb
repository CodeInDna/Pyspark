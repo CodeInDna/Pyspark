{
 "cells": [
  {
   "cell_type": "markdown",
   "id": "fa8aad81",
   "metadata": {},
   "source": [
    "### Overview of special data types in spark"
   ]
  },
  {
   "cell_type": "markdown",
   "id": "75a5a00e",
   "metadata": {},
   "source": [
    "* Here are the special data types in spark\n",
    "    * ARRAY\n",
    "    * MAP\n",
    "    * STRUCT\n",
    "* Python structures such as list and dict can be implicitly converted to Spark ARRAY and MAP resp.\n",
    "* We need to use few spark related APIs to convert Python data structures to STRUCT type."
   ]
  },
  {
   "cell_type": "code",
   "execution_count": 6,
   "id": "ce109e18",
   "metadata": {},
   "outputs": [],
   "source": [
    "# Import libraries\n",
    "from pyspark.sql import SparkSession, Row\n",
    "from pyspark.sql.functions import *\n",
    "import datetime"
   ]
  },
  {
   "cell_type": "code",
   "execution_count": 2,
   "id": "7051b6d9",
   "metadata": {},
   "outputs": [],
   "source": [
    "# Initiate spark session\n",
    "spark = SparkSession \\\n",
    "        .builder \\\n",
    "        .appName('SparkSpecialDataTypes') \\\n",
    "        .getOrCreate()"
   ]
  },
  {
   "cell_type": "markdown",
   "id": "746d3200",
   "metadata": {},
   "source": [
    "#### ARRAY ~ LIST"
   ]
  },
  {
   "cell_type": "code",
   "execution_count": 15,
   "id": "d90c1e0f",
   "metadata": {},
   "outputs": [],
   "source": [
    "users = [\n",
    "            {\n",
    "                \"id\": 1,\n",
    "                \"first_name\": \"Pheobe\",\n",
    "                \"last_name\": \"Buffay\",\n",
    "                \"phone_numbers\": [\"82349238942\", \"2348910249\", \"8273929\"],\n",
    "                \"email\": \"pheobebuffay@abc.com\",\n",
    "                \"is_customer\": True,\n",
    "                \"amount_paid\": 1000.55,\n",
    "                \"customer_from\": datetime.date(2021, 1, 13),\n",
    "                \"last_updated_ts\": datetime.datetime(2021, 2, 10, 1, 15, 0)\n",
    "            },\n",
    "            {\n",
    "                \"id\": 2,\n",
    "                \"first_name\": \"Joey\",\n",
    "                \"last_name\": \"Tribbiani\",\n",
    "                \"phone_numbers\": [\"82349238942\", \"2348910249\"],\n",
    "                \"email\": \"joey@abc.com\",\n",
    "                \"is_customer\": True,\n",
    "                \"amount_paid\": 900.0,\n",
    "                \"customer_from\": datetime.date(2021, 2, 14),\n",
    "                \"last_updated_ts\": datetime.datetime(2021, 2, 18, 3, 33, 0)\n",
    "            },\n",
    "            {\n",
    "                \"id\": 3,\n",
    "                \"first_name\": \"Monica\",\n",
    "                \"last_name\": \"Geller\",\n",
    "                \"phone_numbers\": None,\n",
    "                \"email\": \"monica@abc.com\",\n",
    "                \"is_customer\": True,\n",
    "                \"amount_paid\": 1000.90,\n",
    "                \"customer_from\": datetime.date(2021, 2, 22),\n",
    "                \"last_updated_ts\": datetime.datetime(2021, 2, 28, 7, 33, 0)\n",
    "            },\n",
    "            {\n",
    "                \"id\": 4,\n",
    "                \"first_name\": \"Ross\",\n",
    "                \"last_name\": \"Geller\",\n",
    "                \"phone_numbers\": [\"82349238942\"],\n",
    "                \"email\": \"ross@abc.com\",\n",
    "                \"is_customer\": True,\n",
    "                \"amount_paid\": 1200.55,\n",
    "                \"customer_from\": datetime.date(2021, 1, 19),\n",
    "                \"last_updated_ts\": datetime.datetime(2021, 2, 18, 1, 10, 0)\n",
    "            },\n",
    "            {\n",
    "                \"id\": 5,\n",
    "                \"first_name\": \"Rachel\",\n",
    "                \"last_name\": \"Green\",\n",
    "                \"phone_numbers\": [\"82349238942\", \"2348910249\", \"8273929\", \"5343434654\"],\n",
    "                \"email\": \"rachel@abc.com\",\n",
    "                \"is_customer\": True,\n",
    "                \"amount_paid\": None,\n",
    "                \"customer_from\": datetime.date(2021, 2, 24),\n",
    "                \"last_updated_ts\": datetime.datetime(2021, 2, 18, 3, 33, 0)\n",
    "            },\n",
    "            {\n",
    "                \"id\": 6,\n",
    "                \"first_name\": \"Chandler\",\n",
    "                \"last_name\": \"Bing\",\n",
    "                \"phone_numbers\": [\"8273929\"],\n",
    "                \"email\": \"bing@abc.com\",\n",
    "                \"is_customer\": True,\n",
    "                \"amount_paid\": 1000.80,\n",
    "                \"customer_from\": datetime.date(2021, 2, 22),\n",
    "                \"last_updated_ts\": datetime.datetime(2021, 2, 25, 7, 33, 0)\n",
    "            }\n",
    "        ]"
   ]
  },
  {
   "cell_type": "code",
   "execution_count": 16,
   "id": "3dde2ac8",
   "metadata": {},
   "outputs": [],
   "source": [
    "user_df = spark.createDataFrame([Row(**user) for user in users])"
   ]
  },
  {
   "cell_type": "code",
   "execution_count": 17,
   "id": "93d179d3",
   "metadata": {},
   "outputs": [
    {
     "name": "stdout",
     "output_type": "stream",
     "text": [
      "root\n",
      " |-- id: long (nullable = true)\n",
      " |-- first_name: string (nullable = true)\n",
      " |-- last_name: string (nullable = true)\n",
      " |-- phone_numbers: array (nullable = true)\n",
      " |    |-- element: string (containsNull = true)\n",
      " |-- email: string (nullable = true)\n",
      " |-- is_customer: boolean (nullable = true)\n",
      " |-- amount_paid: double (nullable = true)\n",
      " |-- customer_from: date (nullable = true)\n",
      " |-- last_updated_ts: timestamp (nullable = true)\n",
      "\n"
     ]
    }
   ],
   "source": [
    "user_df.printSchema()"
   ]
  },
  {
   "cell_type": "code",
   "execution_count": 18,
   "id": "68294612",
   "metadata": {},
   "outputs": [
    {
     "name": "stdout",
     "output_type": "stream",
     "text": [
      "+---+----------+---------+--------------------+--------------------+-----------+-----------+-------------+-------------------+\n",
      "| id|first_name|last_name|       phone_numbers|               email|is_customer|amount_paid|customer_from|    last_updated_ts|\n",
      "+---+----------+---------+--------------------+--------------------+-----------+-----------+-------------+-------------------+\n",
      "|  1|    Pheobe|   Buffay|[82349238942, 234...|pheobebuffay@abc.com|       true|    1000.55|   2021-01-13|2021-02-10 01:15:00|\n",
      "|  2|      Joey|Tribbiani|[82349238942, 234...|        joey@abc.com|       true|      900.0|   2021-02-14|2021-02-18 03:33:00|\n",
      "|  3|    Monica|   Geller|                null|      monica@abc.com|       true|     1000.9|   2021-02-22|2021-02-28 07:33:00|\n",
      "|  4|      Ross|   Geller|       [82349238942]|        ross@abc.com|       true|    1200.55|   2021-01-19|2021-02-18 01:10:00|\n",
      "|  5|    Rachel|    Green|[82349238942, 234...|      rachel@abc.com|       true|       null|   2021-02-24|2021-02-18 03:33:00|\n",
      "|  6|  Chandler|     Bing|           [8273929]|        bing@abc.com|       true|     1000.8|   2021-02-22|2021-02-25 07:33:00|\n",
      "+---+----------+---------+--------------------+--------------------+-----------+-----------+-------------+-------------------+\n",
      "\n"
     ]
    }
   ],
   "source": [
    "user_df.show()"
   ]
  },
  {
   "cell_type": "code",
   "execution_count": 20,
   "id": "0922a10a",
   "metadata": {},
   "outputs": [
    {
     "name": "stdout",
     "output_type": "stream",
     "text": [
      "+---+--------------------+\n",
      "| id|       phone_numbers|\n",
      "+---+--------------------+\n",
      "|  1|[82349238942, 234...|\n",
      "|  2|[82349238942, 234...|\n",
      "|  3|                null|\n",
      "|  4|       [82349238942]|\n",
      "|  5|[82349238942, 234...|\n",
      "|  6|           [8273929]|\n",
      "+---+--------------------+\n",
      "\n"
     ]
    }
   ],
   "source": [
    "user_df.select(['id', 'phone_numbers']).show()"
   ]
  },
  {
   "cell_type": "code",
   "execution_count": 22,
   "id": "b5f2183b",
   "metadata": {},
   "outputs": [
    {
     "name": "stdout",
     "output_type": "stream",
     "text": [
      "+---+----------------------------------------------+\n",
      "|id |phone_numbers                                 |\n",
      "+---+----------------------------------------------+\n",
      "|1  |[82349238942, 2348910249, 8273929]            |\n",
      "|2  |[82349238942, 2348910249]                     |\n",
      "|3  |null                                          |\n",
      "|4  |[82349238942]                                 |\n",
      "|5  |[82349238942, 2348910249, 8273929, 5343434654]|\n",
      "|6  |[8273929]                                     |\n",
      "+---+----------------------------------------------+\n",
      "\n"
     ]
    }
   ],
   "source": [
    "user_df.select(['id', 'phone_numbers']).show(truncate=False)"
   ]
  },
  {
   "cell_type": "code",
   "execution_count": 23,
   "id": "500abdb6",
   "metadata": {},
   "outputs": [
    {
     "data": {
      "text/plain": [
       "['id',\n",
       " 'first_name',\n",
       " 'last_name',\n",
       " 'phone_numbers',\n",
       " 'email',\n",
       " 'is_customer',\n",
       " 'amount_paid',\n",
       " 'customer_from',\n",
       " 'last_updated_ts']"
      ]
     },
     "execution_count": 23,
     "metadata": {},
     "output_type": "execute_result"
    }
   ],
   "source": [
    "user_df.columns "
   ]
  },
  {
   "cell_type": "code",
   "execution_count": 25,
   "id": "a3095404",
   "metadata": {},
   "outputs": [
    {
     "name": "stdout",
     "output_type": "stream",
     "text": [
      "+---+----------+---------+--------------------+-----------+-----------+-------------+-------------------+------------+\n",
      "| id|first_name|last_name|               email|is_customer|amount_paid|customer_from|    last_updated_ts|phone_number|\n",
      "+---+----------+---------+--------------------+-----------+-----------+-------------+-------------------+------------+\n",
      "|  1|    Pheobe|   Buffay|pheobebuffay@abc.com|       true|    1000.55|   2021-01-13|2021-02-10 01:15:00| 82349238942|\n",
      "|  1|    Pheobe|   Buffay|pheobebuffay@abc.com|       true|    1000.55|   2021-01-13|2021-02-10 01:15:00|  2348910249|\n",
      "|  1|    Pheobe|   Buffay|pheobebuffay@abc.com|       true|    1000.55|   2021-01-13|2021-02-10 01:15:00|     8273929|\n",
      "|  2|      Joey|Tribbiani|        joey@abc.com|       true|      900.0|   2021-02-14|2021-02-18 03:33:00| 82349238942|\n",
      "|  2|      Joey|Tribbiani|        joey@abc.com|       true|      900.0|   2021-02-14|2021-02-18 03:33:00|  2348910249|\n",
      "|  4|      Ross|   Geller|        ross@abc.com|       true|    1200.55|   2021-01-19|2021-02-18 01:10:00| 82349238942|\n",
      "|  5|    Rachel|    Green|      rachel@abc.com|       true|       null|   2021-02-24|2021-02-18 03:33:00| 82349238942|\n",
      "|  5|    Rachel|    Green|      rachel@abc.com|       true|       null|   2021-02-24|2021-02-18 03:33:00|  2348910249|\n",
      "|  5|    Rachel|    Green|      rachel@abc.com|       true|       null|   2021-02-24|2021-02-18 03:33:00|     8273929|\n",
      "|  5|    Rachel|    Green|      rachel@abc.com|       true|       null|   2021-02-24|2021-02-18 03:33:00|  5343434654|\n",
      "|  6|  Chandler|     Bing|        bing@abc.com|       true|     1000.8|   2021-02-22|2021-02-25 07:33:00|     8273929|\n",
      "+---+----------+---------+--------------------+-----------+-----------+-------------+-------------------+------------+\n",
      "\n"
     ]
    }
   ],
   "source": [
    "# Create new rows for each element in the array or map\n",
    "user_df \\\n",
    ".withColumn('phone_number', explode('phone_numbers')) \\\n",
    ".drop('phone_numbers') \\\n",
    ".show()"
   ]
  },
  {
   "cell_type": "code",
   "execution_count": 26,
   "id": "e08f5dda",
   "metadata": {
    "scrolled": true
   },
   "outputs": [
    {
     "name": "stdout",
     "output_type": "stream",
     "text": [
      "+---+----------+---------+--------------------+-----------+-----------+-------------+-------------------+------------+\n",
      "| id|first_name|last_name|               email|is_customer|amount_paid|customer_from|    last_updated_ts|phone_number|\n",
      "+---+----------+---------+--------------------+-----------+-----------+-------------+-------------------+------------+\n",
      "|  1|    Pheobe|   Buffay|pheobebuffay@abc.com|       true|    1000.55|   2021-01-13|2021-02-10 01:15:00| 82349238942|\n",
      "|  1|    Pheobe|   Buffay|pheobebuffay@abc.com|       true|    1000.55|   2021-01-13|2021-02-10 01:15:00|  2348910249|\n",
      "|  1|    Pheobe|   Buffay|pheobebuffay@abc.com|       true|    1000.55|   2021-01-13|2021-02-10 01:15:00|     8273929|\n",
      "|  2|      Joey|Tribbiani|        joey@abc.com|       true|      900.0|   2021-02-14|2021-02-18 03:33:00| 82349238942|\n",
      "|  2|      Joey|Tribbiani|        joey@abc.com|       true|      900.0|   2021-02-14|2021-02-18 03:33:00|  2348910249|\n",
      "|  3|    Monica|   Geller|      monica@abc.com|       true|     1000.9|   2021-02-22|2021-02-28 07:33:00|        null|\n",
      "|  4|      Ross|   Geller|        ross@abc.com|       true|    1200.55|   2021-01-19|2021-02-18 01:10:00| 82349238942|\n",
      "|  5|    Rachel|    Green|      rachel@abc.com|       true|       null|   2021-02-24|2021-02-18 03:33:00| 82349238942|\n",
      "|  5|    Rachel|    Green|      rachel@abc.com|       true|       null|   2021-02-24|2021-02-18 03:33:00|  2348910249|\n",
      "|  5|    Rachel|    Green|      rachel@abc.com|       true|       null|   2021-02-24|2021-02-18 03:33:00|     8273929|\n",
      "|  5|    Rachel|    Green|      rachel@abc.com|       true|       null|   2021-02-24|2021-02-18 03:33:00|  5343434654|\n",
      "|  6|  Chandler|     Bing|        bing@abc.com|       true|     1000.8|   2021-02-22|2021-02-25 07:33:00|     8273929|\n",
      "+---+----------+---------+--------------------+-----------+-----------+-------------+-------------------+------------+\n",
      "\n"
     ]
    }
   ],
   "source": [
    "# Unlike explode, explode_outer will create row for user with no phone number\n",
    "user_df \\\n",
    ".withColumn('phone_number', explode_outer('phone_numbers')) \\\n",
    ".drop('phone_numbers') \\\n",
    ".show()"
   ]
  },
  {
   "cell_type": "code",
   "execution_count": 27,
   "id": "2a3d39de",
   "metadata": {
    "scrolled": true
   },
   "outputs": [
    {
     "name": "stdout",
     "output_type": "stream",
     "text": [
      "+---+-----------+----------+\n",
      "| id|     mobile|      home|\n",
      "+---+-----------+----------+\n",
      "|  1|82349238942|2348910249|\n",
      "|  2|82349238942|2348910249|\n",
      "|  3|       null|      null|\n",
      "|  4|82349238942|      null|\n",
      "|  5|82349238942|2348910249|\n",
      "|  6|    8273929|      null|\n",
      "+---+-----------+----------+\n",
      "\n"
     ]
    }
   ],
   "source": [
    "user_df \\\n",
    ".select('id', col('phone_numbers')[0].alias('mobile'), col('phone_numbers')[1].alias('home')) \\\n",
    ".show()"
   ]
  },
  {
   "cell_type": "markdown",
   "id": "28940deb",
   "metadata": {},
   "source": [
    "#### MAP ~ DICT"
   ]
  },
  {
   "cell_type": "code",
   "execution_count": 28,
   "id": "f57122b6",
   "metadata": {},
   "outputs": [],
   "source": [
    "users = [\n",
    "            {\n",
    "                \"id\": 1,\n",
    "                \"first_name\": \"Pheobe\",\n",
    "                \"last_name\": \"Buffay\",\n",
    "                \"phone_numbers\": {\"mobile\": \"82349238942\", \"home\": \"2348910249\", \"office\": \"8273929\"},\n",
    "                \"email\": \"pheobebuffay@abc.com\",\n",
    "                \"is_customer\": True,\n",
    "                \"amount_paid\": 1000.55,\n",
    "                \"customer_from\": datetime.date(2021, 1, 13),\n",
    "                \"last_updated_ts\": datetime.datetime(2021, 2, 10, 1, 15, 0)\n",
    "            },\n",
    "            {\n",
    "                \"id\": 2,\n",
    "                \"first_name\": \"Joey\",\n",
    "                \"last_name\": \"Tribbiani\",\n",
    "                \"phone_numbers\": {\"mobile\": \"82349238942\", \"home\": \"2348910249\"},\n",
    "                \"email\": \"joey@abc.com\",\n",
    "                \"is_customer\": True,\n",
    "                \"amount_paid\": 900.0,\n",
    "                \"customer_from\": datetime.date(2021, 2, 14),\n",
    "                \"last_updated_ts\": datetime.datetime(2021, 2, 18, 3, 33, 0)\n",
    "            },\n",
    "            {\n",
    "                \"id\": 3,\n",
    "                \"first_name\": \"Monica\",\n",
    "                \"last_name\": \"Geller\",\n",
    "                \"phone_numbers\": {},\n",
    "                \"email\": \"monica@abc.com\",\n",
    "                \"is_customer\": True,\n",
    "                \"amount_paid\": 1000.90,\n",
    "                \"customer_from\": datetime.date(2021, 2, 22),\n",
    "                \"last_updated_ts\": datetime.datetime(2021, 2, 28, 7, 33, 0)\n",
    "            },\n",
    "            {\n",
    "                \"id\": 4,\n",
    "                \"first_name\": \"Ross\",\n",
    "                \"last_name\": \"Geller\",\n",
    "                \"phone_numbers\": {\"mobile\": \"82349238942\"},\n",
    "                \"email\": \"ross@abc.com\",\n",
    "                \"is_customer\": True,\n",
    "                \"amount_paid\": 1200.55,\n",
    "                \"customer_from\": datetime.date(2021, 1, 19),\n",
    "                \"last_updated_ts\": datetime.datetime(2021, 2, 18, 1, 10, 0)\n",
    "            },\n",
    "            {\n",
    "                \"id\": 5,\n",
    "                \"first_name\": \"Rachel\",\n",
    "                \"last_name\": \"Green\",\n",
    "                \"phone_numbers\": {\"mobile\": \"82349238942\", \"home\": \"2348910249\", \"office\": \"8273929\", \"shop\": \"5343434654\"},\n",
    "                \"email\": \"rachel@abc.com\",\n",
    "                \"is_customer\": True,\n",
    "                \"amount_paid\": None,\n",
    "                \"customer_from\": datetime.date(2021, 2, 24),\n",
    "                \"last_updated_ts\": datetime.datetime(2021, 2, 18, 3, 33, 0)\n",
    "            },\n",
    "            {\n",
    "                \"id\": 6,\n",
    "                \"first_name\": \"Chandler\",\n",
    "                \"last_name\": \"Bing\",\n",
    "                \"phone_numbers\": {\"mobile\": \"8273929\"},\n",
    "                \"email\": \"bing@abc.com\",\n",
    "                \"is_customer\": True,\n",
    "                \"amount_paid\": 1000.80,\n",
    "                \"customer_from\": datetime.date(2021, 2, 22),\n",
    "                \"last_updated_ts\": datetime.datetime(2021, 2, 25, 7, 33, 0)\n",
    "            }\n",
    "        ]"
   ]
  },
  {
   "cell_type": "code",
   "execution_count": 30,
   "id": "09485278",
   "metadata": {},
   "outputs": [],
   "source": [
    "user_df = spark.createDataFrame([Row(**user) for user in users])"
   ]
  },
  {
   "cell_type": "code",
   "execution_count": 31,
   "id": "19f1d9c0",
   "metadata": {
    "scrolled": true
   },
   "outputs": [
    {
     "name": "stdout",
     "output_type": "stream",
     "text": [
      "root\n",
      " |-- id: long (nullable = true)\n",
      " |-- first_name: string (nullable = true)\n",
      " |-- last_name: string (nullable = true)\n",
      " |-- phone_numbers: map (nullable = true)\n",
      " |    |-- key: string\n",
      " |    |-- value: string (valueContainsNull = true)\n",
      " |-- email: string (nullable = true)\n",
      " |-- is_customer: boolean (nullable = true)\n",
      " |-- amount_paid: double (nullable = true)\n",
      " |-- customer_from: date (nullable = true)\n",
      " |-- last_updated_ts: timestamp (nullable = true)\n",
      "\n"
     ]
    }
   ],
   "source": [
    "user_df.printSchema()"
   ]
  },
  {
   "cell_type": "code",
   "execution_count": 32,
   "id": "29161a49",
   "metadata": {},
   "outputs": [
    {
     "name": "stdout",
     "output_type": "stream",
     "text": [
      "+---+----------+---------+--------------------+--------------------+-----------+-----------+-------------+-------------------+\n",
      "| id|first_name|last_name|       phone_numbers|               email|is_customer|amount_paid|customer_from|    last_updated_ts|\n",
      "+---+----------+---------+--------------------+--------------------+-----------+-----------+-------------+-------------------+\n",
      "|  1|    Pheobe|   Buffay|[mobile -> 823492...|pheobebuffay@abc.com|       true|    1000.55|   2021-01-13|2021-02-10 01:15:00|\n",
      "|  2|      Joey|Tribbiani|[mobile -> 823492...|        joey@abc.com|       true|      900.0|   2021-02-14|2021-02-18 03:33:00|\n",
      "|  3|    Monica|   Geller|                  []|      monica@abc.com|       true|     1000.9|   2021-02-22|2021-02-28 07:33:00|\n",
      "|  4|      Ross|   Geller|[mobile -> 823492...|        ross@abc.com|       true|    1200.55|   2021-01-19|2021-02-18 01:10:00|\n",
      "|  5|    Rachel|    Green|[mobile -> 823492...|      rachel@abc.com|       true|       null|   2021-02-24|2021-02-18 03:33:00|\n",
      "|  6|  Chandler|     Bing| [mobile -> 8273929]|        bing@abc.com|       true|     1000.8|   2021-02-22|2021-02-25 07:33:00|\n",
      "+---+----------+---------+--------------------+--------------------+-----------+-----------+-------------+-------------------+\n",
      "\n"
     ]
    }
   ],
   "source": [
    "user_df.show()"
   ]
  },
  {
   "cell_type": "code",
   "execution_count": 33,
   "id": "1f63ac5c",
   "metadata": {},
   "outputs": [
    {
     "data": {
      "text/plain": [
       "['id',\n",
       " 'first_name',\n",
       " 'last_name',\n",
       " 'phone_numbers',\n",
       " 'email',\n",
       " 'is_customer',\n",
       " 'amount_paid',\n",
       " 'customer_from',\n",
       " 'last_updated_ts']"
      ]
     },
     "execution_count": 33,
     "metadata": {},
     "output_type": "execute_result"
    }
   ],
   "source": [
    "user_df.columns"
   ]
  },
  {
   "cell_type": "code",
   "execution_count": 36,
   "id": "bf0e2340",
   "metadata": {},
   "outputs": [
    {
     "data": {
      "text/plain": [
       "[('id', 'bigint'),\n",
       " ('first_name', 'string'),\n",
       " ('last_name', 'string'),\n",
       " ('phone_numbers', 'map<string,string>'),\n",
       " ('email', 'string'),\n",
       " ('is_customer', 'boolean'),\n",
       " ('amount_paid', 'double'),\n",
       " ('customer_from', 'date'),\n",
       " ('last_updated_ts', 'timestamp')]"
      ]
     },
     "execution_count": 36,
     "metadata": {},
     "output_type": "execute_result"
    }
   ],
   "source": [
    "user_df.dtypes"
   ]
  },
  {
   "cell_type": "code",
   "execution_count": 35,
   "id": "d3728cd0",
   "metadata": {
    "scrolled": true
   },
   "outputs": [
    {
     "name": "stdout",
     "output_type": "stream",
     "text": [
      "+---+----------------------------------------------------------------------------------+\n",
      "|id |phone_numbers                                                                     |\n",
      "+---+----------------------------------------------------------------------------------+\n",
      "|1  |[mobile -> 82349238942, office -> 8273929, home -> 2348910249]                    |\n",
      "|2  |[mobile -> 82349238942, home -> 2348910249]                                       |\n",
      "|3  |[]                                                                                |\n",
      "|4  |[mobile -> 82349238942]                                                           |\n",
      "|5  |[mobile -> 82349238942, shop -> 5343434654, office -> 8273929, home -> 2348910249]|\n",
      "|6  |[mobile -> 8273929]                                                               |\n",
      "+---+----------------------------------------------------------------------------------+\n",
      "\n"
     ]
    }
   ],
   "source": [
    "user_df.select(['id', 'phone_numbers']).show(truncate=False)"
   ]
  },
  {
   "cell_type": "code",
   "execution_count": 40,
   "id": "f13323e4",
   "metadata": {},
   "outputs": [
    {
     "name": "stdout",
     "output_type": "stream",
     "text": [
      "+---+-----------+----------+\n",
      "| id|     mobile|    mobile|\n",
      "+---+-----------+----------+\n",
      "|  1|82349238942|2348910249|\n",
      "|  2|82349238942|2348910249|\n",
      "|  3|       null|      null|\n",
      "|  4|82349238942|      null|\n",
      "|  5|82349238942|2348910249|\n",
      "|  6|    8273929|      null|\n",
      "+---+-----------+----------+\n",
      "\n"
     ]
    }
   ],
   "source": [
    "user_df \\\n",
    ".select('id', col('phone_numbers')['mobile'].alias('mobile'), col('phone_numbers')['home'].alias('mobile')) \\\n",
    ".show()"
   ]
  },
  {
   "cell_type": "code",
   "execution_count": 44,
   "id": "15d12765",
   "metadata": {},
   "outputs": [
    {
     "data": {
      "text/plain": [
       "['id',\n",
       " 'first_name',\n",
       " 'last_name',\n",
       " 'phone_numbers',\n",
       " 'email',\n",
       " 'is_customer',\n",
       " 'amount_paid',\n",
       " 'customer_from',\n",
       " 'last_updated_ts']"
      ]
     },
     "execution_count": 44,
     "metadata": {},
     "output_type": "execute_result"
    }
   ],
   "source": [
    "user_df.columns"
   ]
  },
  {
   "cell_type": "code",
   "execution_count": 48,
   "id": "b8713839",
   "metadata": {
    "scrolled": true
   },
   "outputs": [
    {
     "name": "stdout",
     "output_type": "stream",
     "text": [
      "+---+------+-----------+\n",
      "| id|   key|      value|\n",
      "+---+------+-----------+\n",
      "|  1|mobile|82349238942|\n",
      "|  1|office|    8273929|\n",
      "|  1|  home| 2348910249|\n",
      "|  2|mobile|82349238942|\n",
      "|  2|  home| 2348910249|\n",
      "|  4|mobile|82349238942|\n",
      "|  5|mobile|82349238942|\n",
      "|  5|  shop| 5343434654|\n",
      "|  5|office|    8273929|\n",
      "|  5|  home| 2348910249|\n",
      "|  6|mobile|    8273929|\n",
      "+---+------+-----------+\n",
      "\n"
     ]
    }
   ],
   "source": [
    "# Won't be able to give alias when we explode on top of map columns\n",
    "user_df \\\n",
    ".select('id', explode('phone_numbers')) \\\n",
    ".show()"
   ]
  },
  {
   "cell_type": "code",
   "execution_count": 49,
   "id": "58fcbd8b",
   "metadata": {
    "scrolled": true
   },
   "outputs": [
    {
     "name": "stdout",
     "output_type": "stream",
     "text": [
      "+---+------+-----------+\n",
      "| id|   key|      value|\n",
      "+---+------+-----------+\n",
      "|  1|mobile|82349238942|\n",
      "|  1|office|    8273929|\n",
      "|  1|  home| 2348910249|\n",
      "|  2|mobile|82349238942|\n",
      "|  2|  home| 2348910249|\n",
      "|  3|  null|       null|\n",
      "|  4|mobile|82349238942|\n",
      "|  5|mobile|82349238942|\n",
      "|  5|  shop| 5343434654|\n",
      "|  5|office|    8273929|\n",
      "|  5|  home| 2348910249|\n",
      "|  6|mobile|    8273929|\n",
      "+---+------+-----------+\n",
      "\n"
     ]
    }
   ],
   "source": [
    "# Consider null values as well\n",
    "user_df \\\n",
    ".select('id', explode_outer('phone_numbers')) \\\n",
    ".show()"
   ]
  },
  {
   "cell_type": "code",
   "execution_count": 52,
   "id": "0fb9768a",
   "metadata": {
    "scrolled": true
   },
   "outputs": [
    {
     "name": "stdout",
     "output_type": "stream",
     "text": [
      "+---+----------+---------+--------------------+-----------+-----------+-------------+-------------------+----------+------------+\n",
      "| id|first_name|last_name|               email|is_customer|amount_paid|customer_from|    last_updated_ts|phone_type|phone_number|\n",
      "+---+----------+---------+--------------------+-----------+-----------+-------------+-------------------+----------+------------+\n",
      "|  1|    Pheobe|   Buffay|pheobebuffay@abc.com|       true|    1000.55|   2021-01-13|2021-02-10 01:15:00|    mobile| 82349238942|\n",
      "|  1|    Pheobe|   Buffay|pheobebuffay@abc.com|       true|    1000.55|   2021-01-13|2021-02-10 01:15:00|    office|     8273929|\n",
      "|  1|    Pheobe|   Buffay|pheobebuffay@abc.com|       true|    1000.55|   2021-01-13|2021-02-10 01:15:00|      home|  2348910249|\n",
      "|  2|      Joey|Tribbiani|        joey@abc.com|       true|      900.0|   2021-02-14|2021-02-18 03:33:00|    mobile| 82349238942|\n",
      "|  2|      Joey|Tribbiani|        joey@abc.com|       true|      900.0|   2021-02-14|2021-02-18 03:33:00|      home|  2348910249|\n",
      "|  3|    Monica|   Geller|      monica@abc.com|       true|     1000.9|   2021-02-22|2021-02-28 07:33:00|      null|        null|\n",
      "|  4|      Ross|   Geller|        ross@abc.com|       true|    1200.55|   2021-01-19|2021-02-18 01:10:00|    mobile| 82349238942|\n",
      "|  5|    Rachel|    Green|      rachel@abc.com|       true|       null|   2021-02-24|2021-02-18 03:33:00|    mobile| 82349238942|\n",
      "|  5|    Rachel|    Green|      rachel@abc.com|       true|       null|   2021-02-24|2021-02-18 03:33:00|      shop|  5343434654|\n",
      "|  5|    Rachel|    Green|      rachel@abc.com|       true|       null|   2021-02-24|2021-02-18 03:33:00|    office|     8273929|\n",
      "|  5|    Rachel|    Green|      rachel@abc.com|       true|       null|   2021-02-24|2021-02-18 03:33:00|      home|  2348910249|\n",
      "|  6|  Chandler|     Bing|        bing@abc.com|       true|     1000.8|   2021-02-22|2021-02-25 07:33:00|    mobile|     8273929|\n",
      "+---+----------+---------+--------------------+-----------+-----------+-------------+-------------------+----------+------------+\n",
      "\n"
     ]
    }
   ],
   "source": [
    "user_df \\\n",
    ".select('*', explode_outer('phone_numbers')) \\\n",
    ".withColumnRenamed('key', 'phone_type') \\\n",
    ".withColumnRenamed('value', 'phone_number') \\\n",
    ".drop('phone_numbers') \\\n",
    ".show()"
   ]
  },
  {
   "cell_type": "markdown",
   "id": "67298055",
   "metadata": {},
   "source": [
    "#### Struct Type - has predefined structure"
   ]
  },
  {
   "cell_type": "code",
   "execution_count": 65,
   "id": "a9ceacce",
   "metadata": {},
   "outputs": [],
   "source": [
    "users = [\n",
    "            {\n",
    "                \"id\": 1,\n",
    "                \"first_name\": \"Pheobe\",\n",
    "                \"last_name\": \"Buffay\",\n",
    "                \"phone_numbers\": Row(mobile= \"82349238942\", home= \"2348910249\", office= \"8273929\", shop=None),\n",
    "                \"email\": \"pheobebuffay@abc.com\",\n",
    "                \"is_customer\": True,\n",
    "                \"amount_paid\": 1000.55,\n",
    "                \"customer_from\": datetime.date(2021, 1, 13),\n",
    "                \"last_updated_ts\": datetime.datetime(2021, 2, 10, 1, 15, 0)\n",
    "            },\n",
    "            {\n",
    "                \"id\": 2,\n",
    "                \"first_name\": \"Joey\",\n",
    "                \"last_name\": \"Tribbiani\",\n",
    "                \"phone_numbers\": Row(mobile= \"82349238942\", home= \"2348910249\", office= None, shop=None),\n",
    "                \"email\": \"joey@abc.com\",\n",
    "                \"is_customer\": True,\n",
    "                \"amount_paid\": 900.0,\n",
    "                \"customer_from\": datetime.date(2021, 2, 14),\n",
    "                \"last_updated_ts\": datetime.datetime(2021, 2, 18, 3, 33, 0)\n",
    "            },\n",
    "            {\n",
    "                \"id\": 3,\n",
    "                \"first_name\": \"Monica\",\n",
    "                \"last_name\": \"Geller\",\n",
    "                \"phone_numbers\": Row(mobile= None, home= None, office= None, shop=None),\n",
    "                \"email\": \"monica@abc.com\",\n",
    "                \"is_customer\": True,\n",
    "                \"amount_paid\": 1000.90,\n",
    "                \"customer_from\": datetime.date(2021, 2, 22),\n",
    "                \"last_updated_ts\": datetime.datetime(2021, 2, 28, 7, 33, 0)\n",
    "            },\n",
    "            {\n",
    "                \"id\": 4,\n",
    "                \"first_name\": \"Ross\",\n",
    "                \"last_name\": \"Geller\",\n",
    "                \"phone_numbers\": Row(mobile= \"82349238942\", home= None, office= None, shop=None),\n",
    "                \"email\": \"ross@abc.com\",\n",
    "                \"is_customer\": True,\n",
    "                \"amount_paid\": 1200.55,\n",
    "                \"customer_from\": datetime.date(2021, 1, 19),\n",
    "                \"last_updated_ts\": datetime.datetime(2021, 2, 18, 1, 10, 0)\n",
    "            },\n",
    "            {\n",
    "                \"id\": 5,\n",
    "                \"first_name\": \"Rachel\",\n",
    "                \"last_name\": \"Green\",\n",
    "                \"phone_numbers\": Row(mobile= \"82349238942\", home= \"2348910249\", office= \"8273929\", shop= \"5343434654\"),\n",
    "                \"email\": \"rachel@abc.com\",\n",
    "                \"is_customer\": True,\n",
    "                \"amount_paid\": None,\n",
    "                \"customer_from\": datetime.date(2021, 2, 24),\n",
    "                \"last_updated_ts\": datetime.datetime(2021, 2, 18, 3, 33, 0)\n",
    "            },\n",
    "            {\n",
    "                \"id\": 6,\n",
    "                \"first_name\": \"Chandler\",\n",
    "                \"last_name\": \"Bing\",\n",
    "                \"phone_numbers\": Row(mobile= \"8273929\", home= None, office= None, shop=None),\n",
    "                \"email\": \"bing@abc.com\",\n",
    "                \"is_customer\": True,\n",
    "                \"amount_paid\": 1000.80,\n",
    "                \"customer_from\": datetime.date(2021, 2, 22),\n",
    "                \"last_updated_ts\": datetime.datetime(2021, 2, 25, 7, 33, 0)\n",
    "            }\n",
    "        ]"
   ]
  },
  {
   "cell_type": "code",
   "execution_count": 66,
   "id": "40ac6b84",
   "metadata": {
    "scrolled": true
   },
   "outputs": [],
   "source": [
    "user_df = spark.createDataFrame([Row(**user) for user in users])"
   ]
  },
  {
   "cell_type": "code",
   "execution_count": 67,
   "id": "c61dd933",
   "metadata": {},
   "outputs": [
    {
     "name": "stdout",
     "output_type": "stream",
     "text": [
      "root\n",
      " |-- id: long (nullable = true)\n",
      " |-- first_name: string (nullable = true)\n",
      " |-- last_name: string (nullable = true)\n",
      " |-- phone_numbers: struct (nullable = true)\n",
      " |    |-- mobile: string (nullable = true)\n",
      " |    |-- home: string (nullable = true)\n",
      " |    |-- office: string (nullable = true)\n",
      " |    |-- shop: string (nullable = true)\n",
      " |-- email: string (nullable = true)\n",
      " |-- is_customer: boolean (nullable = true)\n",
      " |-- amount_paid: double (nullable = true)\n",
      " |-- customer_from: date (nullable = true)\n",
      " |-- last_updated_ts: timestamp (nullable = true)\n",
      "\n"
     ]
    }
   ],
   "source": [
    "user_df.printSchema()"
   ]
  },
  {
   "cell_type": "code",
   "execution_count": 69,
   "id": "8c342fc3",
   "metadata": {
    "scrolled": true
   },
   "outputs": [
    {
     "name": "stdout",
     "output_type": "stream",
     "text": [
      "+---+----------------------------------------------+\n",
      "|id |phone_numbers                                 |\n",
      "+---+----------------------------------------------+\n",
      "|1  |[82349238942, 2348910249, 8273929,]           |\n",
      "|2  |[82349238942, 2348910249,,]                   |\n",
      "|3  |[,,,]                                         |\n",
      "|4  |[82349238942,,,]                              |\n",
      "|5  |[82349238942, 2348910249, 8273929, 5343434654]|\n",
      "|6  |[8273929,,,]                                  |\n",
      "+---+----------------------------------------------+\n",
      "\n"
     ]
    }
   ],
   "source": [
    "user_df.select('id', 'phone_numbers').show(truncate=False)"
   ]
  },
  {
   "cell_type": "code",
   "execution_count": 70,
   "id": "3ce6dcf6",
   "metadata": {
    "scrolled": true
   },
   "outputs": [
    {
     "data": {
      "text/plain": [
       "['id',\n",
       " 'first_name',\n",
       " 'last_name',\n",
       " 'phone_numbers',\n",
       " 'email',\n",
       " 'is_customer',\n",
       " 'amount_paid',\n",
       " 'customer_from',\n",
       " 'last_updated_ts']"
      ]
     },
     "execution_count": 70,
     "metadata": {},
     "output_type": "execute_result"
    }
   ],
   "source": [
    "user_df.columns"
   ]
  },
  {
   "cell_type": "code",
   "execution_count": 72,
   "id": "7c536ca4",
   "metadata": {},
   "outputs": [
    {
     "name": "stdout",
     "output_type": "stream",
     "text": [
      "+---+-----------+----------+\n",
      "|id |mobile     |home      |\n",
      "+---+-----------+----------+\n",
      "|1  |82349238942|2348910249|\n",
      "|2  |82349238942|2348910249|\n",
      "|3  |null       |null      |\n",
      "|4  |82349238942|null      |\n",
      "|5  |82349238942|2348910249|\n",
      "|6  |8273929    |null      |\n",
      "+---+-----------+----------+\n",
      "\n"
     ]
    }
   ],
   "source": [
    "user_df.select('id', 'phone_numbers.mobile', 'phone_numbers.home').show(truncate=False)"
   ]
  },
  {
   "cell_type": "code",
   "execution_count": 74,
   "id": "710c9daa",
   "metadata": {
    "scrolled": true
   },
   "outputs": [
    {
     "name": "stdout",
     "output_type": "stream",
     "text": [
      "+---+--------------------+------------------+\n",
      "|id |phone_numbers.mobile|phone_numbers.home|\n",
      "+---+--------------------+------------------+\n",
      "|1  |82349238942         |2348910249        |\n",
      "|2  |82349238942         |2348910249        |\n",
      "|3  |null                |null              |\n",
      "|4  |82349238942         |null              |\n",
      "|5  |82349238942         |2348910249        |\n",
      "|6  |8273929             |null              |\n",
      "+---+--------------------+------------------+\n",
      "\n"
     ]
    }
   ],
   "source": [
    "user_df.select('id', col('phone_numbers')['mobile'], col('phone_numbers')['home']).show(truncate=False)"
   ]
  },
  {
   "cell_type": "code",
   "execution_count": 75,
   "id": "c04d0109",
   "metadata": {
    "scrolled": true
   },
   "outputs": [
    {
     "name": "stdout",
     "output_type": "stream",
     "text": [
      "+---+-----------+----------+-------+----------+\n",
      "|id |mobile     |home      |office |shop      |\n",
      "+---+-----------+----------+-------+----------+\n",
      "|1  |82349238942|2348910249|8273929|null      |\n",
      "|2  |82349238942|2348910249|null   |null      |\n",
      "|3  |null       |null      |null   |null      |\n",
      "|4  |82349238942|null      |null   |null      |\n",
      "|5  |82349238942|2348910249|8273929|5343434654|\n",
      "|6  |8273929    |null      |null   |null      |\n",
      "+---+-----------+----------+-------+----------+\n",
      "\n"
     ]
    }
   ],
   "source": [
    "user_df.select('id', 'phone_numbers.*').show(truncate=False)"
   ]
  }
 ],
 "metadata": {
  "kernelspec": {
   "display_name": "Python 3 (ipykernel)",
   "language": "python",
   "name": "python3"
  },
  "language_info": {
   "codemirror_mode": {
    "name": "ipython",
    "version": 3
   },
   "file_extension": ".py",
   "mimetype": "text/x-python",
   "name": "python",
   "nbconvert_exporter": "python",
   "pygments_lexer": "ipython3",
   "version": "3.9.7"
  }
 },
 "nbformat": 4,
 "nbformat_minor": 5
}
