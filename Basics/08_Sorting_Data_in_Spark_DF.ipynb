{
 "cells": [
  {
   "cell_type": "markdown",
   "id": "4111a874",
   "metadata": {},
   "source": [
    "## Sorting Data In Spark DataFrame"
   ]
  },
  {
   "cell_type": "markdown",
   "id": "14efb21a",
   "metadata": {},
   "source": [
    "* Sort a data using ascending order by a specific column.\n",
    "* Sort a data using descending order by a specific column.\n",
    "* Dealing with nulls while sorting the data (having the null values at the begining or at the end).\n",
    "* Sort a dataframe using multiple columns (composite sorting). We also need to be aware of how to sort the data in ascending order by first column and then descending order by second column as well as vice versa.\n",
    "* We also need to make sure how to perform prioritized sorting. For example, let's say we want USA at the top and rest of the countries in ascending order by their respective names."
   ]
  },
  {
   "cell_type": "code",
   "execution_count": 2,
   "id": "f09c9341",
   "metadata": {},
   "outputs": [],
   "source": [
    "from pyspark.sql import *\n",
    "from pyspark.sql.functions import *\n",
    "import datetime"
   ]
  },
  {
   "cell_type": "code",
   "execution_count": 3,
   "id": "c0bbf051",
   "metadata": {},
   "outputs": [],
   "source": [
    "spark = SparkSession.builder.appName('SortingDataSpark').getOrCreate()"
   ]
  },
  {
   "cell_type": "code",
   "execution_count": 4,
   "id": "6f34a4ed",
   "metadata": {},
   "outputs": [],
   "source": [
    "users = [\n",
    "            {\n",
    "                \"id\": 1,\n",
    "                \"first_name\": \"Pheobe\",\n",
    "                \"last_name\": \"Buffay\",\n",
    "                \"phone_numbers\": Row(mobile= \"82349238942\", home= \"2348910249\", office= \"8273929\", shop=None),\n",
    "                \"courses\": [1, 3, 5, 7],\n",
    "                \"email\": \"pheobebuffay@abc.com\",\n",
    "                \"is_customer\": True,\n",
    "                \"amount_paid\": 1000.55,\n",
    "                \"customer_from\": datetime.date(2021, 1, 13),\n",
    "                \"last_updated_ts\": datetime.datetime(2021, 2, 10, 1, 15, 0)\n",
    "            },\n",
    "            {\n",
    "                \"id\": 2,\n",
    "                \"first_name\": \"Joey\",\n",
    "                \"last_name\": \"Tribbiani\",\n",
    "                \"phone_numbers\": Row(mobile= \"82349238942\", home= \"2348910249\", office= None, shop=None),\n",
    "                \"courses\": [2, 4, 5],\n",
    "                \"email\": \"joey@abc.com\",\n",
    "                \"is_customer\": True,\n",
    "                \"amount_paid\": 900.0,\n",
    "                \"customer_from\": datetime.date(2021, 2, 14),\n",
    "                \"last_updated_ts\": datetime.datetime(2021, 2, 18, 3, 33, 0)\n",
    "            },\n",
    "            {\n",
    "                \"id\": 3,\n",
    "                \"first_name\": \"Monica\",\n",
    "                \"last_name\": \"Geller\",\n",
    "                \"phone_numbers\": Row(mobile= None, home= None, office= None, shop=None),\n",
    "                \"courses\": [2],\n",
    "                \"email\": \"monica@abc.com\",\n",
    "                \"is_customer\": True,\n",
    "                \"amount_paid\": 1000.90,\n",
    "                \"customer_from\": datetime.date(2021, 2, 22),\n",
    "                \"last_updated_ts\": datetime.datetime(2021, 2, 28, 7, 33, 0)\n",
    "            },\n",
    "            {\n",
    "                \"id\": 4,\n",
    "                \"first_name\": \"Ross\",\n",
    "                \"last_name\": \"Geller\",\n",
    "                \"phone_numbers\": Row(mobile= \"82349238942\", home= None, office= None, shop=None),\n",
    "                \"courses\": [],\n",
    "                \"email\": \"ross@abc.com\",\n",
    "                \"is_customer\": True,\n",
    "                \"amount_paid\": 1200.55,\n",
    "                \"customer_from\": datetime.date(2021, 1, 19),\n",
    "                \"last_updated_ts\": datetime.datetime(2021, 2, 18, 1, 10, 0)\n",
    "            },\n",
    "            {\n",
    "                \"id\": 5,\n",
    "                \"first_name\": \"Rachel\",\n",
    "                \"last_name\": \"Green\",\n",
    "                \"phone_numbers\": Row(mobile= \"82349238942\", home= \"2348910249\", office= \"8273929\", shop= \"5343434654\"),\n",
    "                \"courses\": [3],\n",
    "                \"email\": \"rachel@abc.com\",\n",
    "                \"is_customer\": True,\n",
    "                \"amount_paid\": None,\n",
    "                \"customer_from\": datetime.date(2021, 2, 24),\n",
    "                \"last_updated_ts\": datetime.datetime(2021, 2, 18, 3, 33, 0)\n",
    "            },\n",
    "            {\n",
    "                \"id\": 6,\n",
    "                \"first_name\": \"Chandler\",\n",
    "                \"last_name\": \"Bing\",\n",
    "                \"phone_numbers\": Row(mobile= \"8273929\", home= None, office= None, shop=None),\n",
    "                \"courses\": [2, 4],\n",
    "                \"email\": \"bing@abc.com\",\n",
    "                \"is_customer\": True,\n",
    "                \"amount_paid\": 1000.80,\n",
    "                \"customer_from\": None,\n",
    "                \"last_updated_ts\": datetime.datetime(2021, 2, 25, 7, 33, 0)\n",
    "            }\n",
    "        ]"
   ]
  },
  {
   "cell_type": "code",
   "execution_count": 5,
   "id": "db356ab1",
   "metadata": {},
   "outputs": [
    {
     "name": "stderr",
     "output_type": "stream",
     "text": [
      "C:\\Spark\\spark-3.0.1-bin-hadoop2.7\\python\\pyspark\\sql\\session.py:381: UserWarning: inferring schema from dict is deprecated,please use pyspark.sql.Row instead\n",
      "  warnings.warn(\"inferring schema from dict is deprecated,\"\n"
     ]
    },
    {
     "name": "stdout",
     "output_type": "stream",
     "text": [
      "root\n",
      " |-- amount_paid: double (nullable = true)\n",
      " |-- courses: array (nullable = true)\n",
      " |    |-- element: long (containsNull = true)\n",
      " |-- customer_from: date (nullable = true)\n",
      " |-- email: string (nullable = true)\n",
      " |-- first_name: string (nullable = true)\n",
      " |-- id: long (nullable = true)\n",
      " |-- is_customer: boolean (nullable = true)\n",
      " |-- last_name: string (nullable = true)\n",
      " |-- last_updated_ts: timestamp (nullable = true)\n",
      " |-- phone_numbers: struct (nullable = true)\n",
      " |    |-- mobile: string (nullable = true)\n",
      " |    |-- home: string (nullable = true)\n",
      " |    |-- office: string (nullable = true)\n",
      " |    |-- shop: string (nullable = true)\n",
      "\n"
     ]
    }
   ],
   "source": [
    "usersDF = spark.createDataFrame(users)\n",
    "\n",
    "usersDF.printSchema()"
   ]
  },
  {
   "cell_type": "code",
   "execution_count": 6,
   "id": "7c6408fd",
   "metadata": {},
   "outputs": [
    {
     "name": "stdout",
     "output_type": "stream",
     "text": [
      "Help on method sort in module pyspark.sql.dataframe:\n",
      "\n",
      "sort(*cols, **kwargs) method of pyspark.sql.dataframe.DataFrame instance\n",
      "    Returns a new :class:`DataFrame` sorted by the specified column(s).\n",
      "    \n",
      "    :param cols: list of :class:`Column` or column names to sort by.\n",
      "    :param ascending: boolean or list of boolean (default ``True``).\n",
      "        Sort ascending vs. descending. Specify list for multiple sort orders.\n",
      "        If a list is specified, length of the list must equal length of the `cols`.\n",
      "    \n",
      "    >>> df.sort(df.age.desc()).collect()\n",
      "    [Row(age=5, name='Bob'), Row(age=2, name='Alice')]\n",
      "    >>> df.sort(\"age\", ascending=False).collect()\n",
      "    [Row(age=5, name='Bob'), Row(age=2, name='Alice')]\n",
      "    >>> df.orderBy(df.age.desc()).collect()\n",
      "    [Row(age=5, name='Bob'), Row(age=2, name='Alice')]\n",
      "    >>> from pyspark.sql.functions import *\n",
      "    >>> df.sort(asc(\"age\")).collect()\n",
      "    [Row(age=2, name='Alice'), Row(age=5, name='Bob')]\n",
      "    >>> df.orderBy(desc(\"age\"), \"name\").collect()\n",
      "    [Row(age=5, name='Bob'), Row(age=2, name='Alice')]\n",
      "    >>> df.orderBy([\"age\", \"name\"], ascending=[0, 1]).collect()\n",
      "    [Row(age=5, name='Bob'), Row(age=2, name='Alice')]\n",
      "    \n",
      "    .. versionadded:: 1.3\n",
      "\n"
     ]
    }
   ],
   "source": [
    "help(usersDF.sort)"
   ]
  },
  {
   "cell_type": "code",
   "execution_count": 7,
   "id": "b87514aa",
   "metadata": {},
   "outputs": [
    {
     "name": "stdout",
     "output_type": "stream",
     "text": [
      "Help on method sort in module pyspark.sql.dataframe:\n",
      "\n",
      "sort(*cols, **kwargs) method of pyspark.sql.dataframe.DataFrame instance\n",
      "    Returns a new :class:`DataFrame` sorted by the specified column(s).\n",
      "    \n",
      "    :param cols: list of :class:`Column` or column names to sort by.\n",
      "    :param ascending: boolean or list of boolean (default ``True``).\n",
      "        Sort ascending vs. descending. Specify list for multiple sort orders.\n",
      "        If a list is specified, length of the list must equal length of the `cols`.\n",
      "    \n",
      "    >>> df.sort(df.age.desc()).collect()\n",
      "    [Row(age=5, name='Bob'), Row(age=2, name='Alice')]\n",
      "    >>> df.sort(\"age\", ascending=False).collect()\n",
      "    [Row(age=5, name='Bob'), Row(age=2, name='Alice')]\n",
      "    >>> df.orderBy(df.age.desc()).collect()\n",
      "    [Row(age=5, name='Bob'), Row(age=2, name='Alice')]\n",
      "    >>> from pyspark.sql.functions import *\n",
      "    >>> df.sort(asc(\"age\")).collect()\n",
      "    [Row(age=2, name='Alice'), Row(age=5, name='Bob')]\n",
      "    >>> df.orderBy(desc(\"age\"), \"name\").collect()\n",
      "    [Row(age=5, name='Bob'), Row(age=2, name='Alice')]\n",
      "    >>> df.orderBy([\"age\", \"name\"], ascending=[0, 1]).collect()\n",
      "    [Row(age=5, name='Bob'), Row(age=2, name='Alice')]\n",
      "    \n",
      "    .. versionadded:: 1.3\n",
      "\n"
     ]
    }
   ],
   "source": [
    "help(usersDF.orderBy)"
   ]
  },
  {
   "cell_type": "code",
   "execution_count": 8,
   "id": "8cdd27ad",
   "metadata": {},
   "outputs": [
    {
     "name": "stdout",
     "output_type": "stream",
     "text": [
      "+-----------+------------+-------------+--------------------+----------+---+-----------+---------+-------------------+--------------------+\n",
      "|amount_paid|     courses|customer_from|               email|first_name| id|is_customer|last_name|    last_updated_ts|       phone_numbers|\n",
      "+-----------+------------+-------------+--------------------+----------+---+-----------+---------+-------------------+--------------------+\n",
      "|    1000.55|[1, 3, 5, 7]|   2021-01-13|pheobebuffay@abc.com|    Pheobe|  1|       true|   Buffay|2021-02-10 01:15:00|[82349238942, 234...|\n",
      "|      900.0|   [2, 4, 5]|   2021-02-14|        joey@abc.com|      Joey|  2|       true|Tribbiani|2021-02-18 03:33:00|[82349238942, 234...|\n",
      "|     1000.9|         [2]|   2021-02-22|      monica@abc.com|    Monica|  3|       true|   Geller|2021-02-28 07:33:00|               [,,,]|\n",
      "|    1200.55|          []|   2021-01-19|        ross@abc.com|      Ross|  4|       true|   Geller|2021-02-18 01:10:00|    [82349238942,,,]|\n",
      "|       null|         [3]|   2021-02-24|      rachel@abc.com|    Rachel|  5|       true|    Green|2021-02-18 03:33:00|[82349238942, 234...|\n",
      "|     1000.8|      [2, 4]|         null|        bing@abc.com|  Chandler|  6|       true|     Bing|2021-02-25 07:33:00|        [8273929,,,]|\n",
      "+-----------+------------+-------------+--------------------+----------+---+-----------+---------+-------------------+--------------------+\n",
      "\n"
     ]
    }
   ],
   "source": [
    "usersDF.show()"
   ]
  },
  {
   "cell_type": "markdown",
   "id": "23709c0b",
   "metadata": {},
   "source": [
    "Sort users data in ascending order by **first_name**"
   ]
  },
  {
   "cell_type": "code",
   "execution_count": 9,
   "id": "4dfbdec6",
   "metadata": {},
   "outputs": [
    {
     "name": "stdout",
     "output_type": "stream",
     "text": [
      "+-----------+------------+-------------+--------------------+----------+---+-----------+---------+-------------------+--------------------+\n",
      "|amount_paid|     courses|customer_from|               email|first_name| id|is_customer|last_name|    last_updated_ts|       phone_numbers|\n",
      "+-----------+------------+-------------+--------------------+----------+---+-----------+---------+-------------------+--------------------+\n",
      "|     1000.8|      [2, 4]|         null|        bing@abc.com|  Chandler|  6|       true|     Bing|2021-02-25 07:33:00|        [8273929,,,]|\n",
      "|      900.0|   [2, 4, 5]|   2021-02-14|        joey@abc.com|      Joey|  2|       true|Tribbiani|2021-02-18 03:33:00|[82349238942, 234...|\n",
      "|     1000.9|         [2]|   2021-02-22|      monica@abc.com|    Monica|  3|       true|   Geller|2021-02-28 07:33:00|               [,,,]|\n",
      "|    1000.55|[1, 3, 5, 7]|   2021-01-13|pheobebuffay@abc.com|    Pheobe|  1|       true|   Buffay|2021-02-10 01:15:00|[82349238942, 234...|\n",
      "|       null|         [3]|   2021-02-24|      rachel@abc.com|    Rachel|  5|       true|    Green|2021-02-18 03:33:00|[82349238942, 234...|\n",
      "|    1200.55|          []|   2021-01-19|        ross@abc.com|      Ross|  4|       true|   Geller|2021-02-18 01:10:00|    [82349238942,,,]|\n",
      "+-----------+------------+-------------+--------------------+----------+---+-----------+---------+-------------------+--------------------+\n",
      "\n"
     ]
    }
   ],
   "source": [
    "usersDF.sort('first_name').show()"
   ]
  },
  {
   "cell_type": "code",
   "execution_count": 10,
   "id": "560eb8ef",
   "metadata": {},
   "outputs": [
    {
     "name": "stdout",
     "output_type": "stream",
     "text": [
      "+-----------+------------+-------------+--------------------+----------+---+-----------+---------+-------------------+--------------------+\n",
      "|amount_paid|     courses|customer_from|               email|first_name| id|is_customer|last_name|    last_updated_ts|       phone_numbers|\n",
      "+-----------+------------+-------------+--------------------+----------+---+-----------+---------+-------------------+--------------------+\n",
      "|     1000.8|      [2, 4]|         null|        bing@abc.com|  Chandler|  6|       true|     Bing|2021-02-25 07:33:00|        [8273929,,,]|\n",
      "|      900.0|   [2, 4, 5]|   2021-02-14|        joey@abc.com|      Joey|  2|       true|Tribbiani|2021-02-18 03:33:00|[82349238942, 234...|\n",
      "|     1000.9|         [2]|   2021-02-22|      monica@abc.com|    Monica|  3|       true|   Geller|2021-02-28 07:33:00|               [,,,]|\n",
      "|    1000.55|[1, 3, 5, 7]|   2021-01-13|pheobebuffay@abc.com|    Pheobe|  1|       true|   Buffay|2021-02-10 01:15:00|[82349238942, 234...|\n",
      "|       null|         [3]|   2021-02-24|      rachel@abc.com|    Rachel|  5|       true|    Green|2021-02-18 03:33:00|[82349238942, 234...|\n",
      "|    1200.55|          []|   2021-01-19|        ross@abc.com|      Ross|  4|       true|   Geller|2021-02-18 01:10:00|    [82349238942,,,]|\n",
      "+-----------+------------+-------------+--------------------+----------+---+-----------+---------+-------------------+--------------------+\n",
      "\n"
     ]
    }
   ],
   "source": [
    "usersDF.sort(col('first_name')).show()"
   ]
  },
  {
   "cell_type": "markdown",
   "id": "e93c428c",
   "metadata": {},
   "source": [
    "Sort users data in ascending order by **customer_from**"
   ]
  },
  {
   "cell_type": "code",
   "execution_count": 11,
   "id": "5f98cf41",
   "metadata": {},
   "outputs": [
    {
     "name": "stdout",
     "output_type": "stream",
     "text": [
      "+-----------+------------+-------------+--------------------+----------+---+-----------+---------+-------------------+--------------------+\n",
      "|amount_paid|     courses|customer_from|               email|first_name| id|is_customer|last_name|    last_updated_ts|       phone_numbers|\n",
      "+-----------+------------+-------------+--------------------+----------+---+-----------+---------+-------------------+--------------------+\n",
      "|     1000.8|      [2, 4]|         null|        bing@abc.com|  Chandler|  6|       true|     Bing|2021-02-25 07:33:00|        [8273929,,,]|\n",
      "|    1000.55|[1, 3, 5, 7]|   2021-01-13|pheobebuffay@abc.com|    Pheobe|  1|       true|   Buffay|2021-02-10 01:15:00|[82349238942, 234...|\n",
      "|    1200.55|          []|   2021-01-19|        ross@abc.com|      Ross|  4|       true|   Geller|2021-02-18 01:10:00|    [82349238942,,,]|\n",
      "|      900.0|   [2, 4, 5]|   2021-02-14|        joey@abc.com|      Joey|  2|       true|Tribbiani|2021-02-18 03:33:00|[82349238942, 234...|\n",
      "|     1000.9|         [2]|   2021-02-22|      monica@abc.com|    Monica|  3|       true|   Geller|2021-02-28 07:33:00|               [,,,]|\n",
      "|       null|         [3]|   2021-02-24|      rachel@abc.com|    Rachel|  5|       true|    Green|2021-02-18 03:33:00|[82349238942, 234...|\n",
      "+-----------+------------+-------------+--------------------+----------+---+-----------+---------+-------------------+--------------------+\n",
      "\n"
     ]
    }
   ],
   "source": [
    "usersDF.sort(col('customer_from')).show()"
   ]
  },
  {
   "cell_type": "markdown",
   "id": "6bfd6fb9",
   "metadata": {},
   "source": [
    "Sort users data in ascending order by **number of enrolled courses**"
   ]
  },
  {
   "cell_type": "code",
   "execution_count": 12,
   "id": "6c4ef47b",
   "metadata": {},
   "outputs": [
    {
     "name": "stdout",
     "output_type": "stream",
     "text": [
      "+-----------+------------+-------------+--------------------+----------+---+-----------+---------+-------------------+--------------------+\n",
      "|amount_paid|     courses|customer_from|               email|first_name| id|is_customer|last_name|    last_updated_ts|       phone_numbers|\n",
      "+-----------+------------+-------------+--------------------+----------+---+-----------+---------+-------------------+--------------------+\n",
      "|    1200.55|          []|   2021-01-19|        ross@abc.com|      Ross|  4|       true|   Geller|2021-02-18 01:10:00|    [82349238942,,,]|\n",
      "|       null|         [3]|   2021-02-24|      rachel@abc.com|    Rachel|  5|       true|    Green|2021-02-18 03:33:00|[82349238942, 234...|\n",
      "|     1000.9|         [2]|   2021-02-22|      monica@abc.com|    Monica|  3|       true|   Geller|2021-02-28 07:33:00|               [,,,]|\n",
      "|     1000.8|      [2, 4]|         null|        bing@abc.com|  Chandler|  6|       true|     Bing|2021-02-25 07:33:00|        [8273929,,,]|\n",
      "|      900.0|   [2, 4, 5]|   2021-02-14|        joey@abc.com|      Joey|  2|       true|Tribbiani|2021-02-18 03:33:00|[82349238942, 234...|\n",
      "|    1000.55|[1, 3, 5, 7]|   2021-01-13|pheobebuffay@abc.com|    Pheobe|  1|       true|   Buffay|2021-02-10 01:15:00|[82349238942, 234...|\n",
      "+-----------+------------+-------------+--------------------+----------+---+-----------+---------+-------------------+--------------------+\n",
      "\n"
     ]
    }
   ],
   "source": [
    "# Use size() for array type\n",
    "usersDF.sort(size('courses')).show()"
   ]
  },
  {
   "cell_type": "code",
   "execution_count": 13,
   "id": "147b389f",
   "metadata": {},
   "outputs": [
    {
     "name": "stdout",
     "output_type": "stream",
     "text": [
      "+---+------------+-------------+\n",
      "| id|     courses|no_of_courses|\n",
      "+---+------------+-------------+\n",
      "|  4|          []|            0|\n",
      "|  5|         [3]|            1|\n",
      "|  3|         [2]|            1|\n",
      "|  6|      [2, 4]|            2|\n",
      "|  2|   [2, 4, 5]|            3|\n",
      "|  1|[1, 3, 5, 7]|            4|\n",
      "+---+------------+-------------+\n",
      "\n"
     ]
    }
   ],
   "source": [
    "usersDF. \\\n",
    "select(['id', 'courses']). \\\n",
    "withColumn('no_of_courses', size('courses')). \\\n",
    "sort(size('courses')).show()"
   ]
  },
  {
   "cell_type": "markdown",
   "id": "4be4d25f",
   "metadata": {},
   "source": [
    "Sort users data in descending order by **first_name**"
   ]
  },
  {
   "cell_type": "code",
   "execution_count": 14,
   "id": "6a99e22b",
   "metadata": {},
   "outputs": [
    {
     "name": "stdout",
     "output_type": "stream",
     "text": [
      "+-----------+------------+-------------+--------------------+----------+---+-----------+---------+-------------------+--------------------+\n",
      "|amount_paid|     courses|customer_from|               email|first_name| id|is_customer|last_name|    last_updated_ts|       phone_numbers|\n",
      "+-----------+------------+-------------+--------------------+----------+---+-----------+---------+-------------------+--------------------+\n",
      "|    1200.55|          []|   2021-01-19|        ross@abc.com|      Ross|  4|       true|   Geller|2021-02-18 01:10:00|    [82349238942,,,]|\n",
      "|       null|         [3]|   2021-02-24|      rachel@abc.com|    Rachel|  5|       true|    Green|2021-02-18 03:33:00|[82349238942, 234...|\n",
      "|    1000.55|[1, 3, 5, 7]|   2021-01-13|pheobebuffay@abc.com|    Pheobe|  1|       true|   Buffay|2021-02-10 01:15:00|[82349238942, 234...|\n",
      "|     1000.9|         [2]|   2021-02-22|      monica@abc.com|    Monica|  3|       true|   Geller|2021-02-28 07:33:00|               [,,,]|\n",
      "|      900.0|   [2, 4, 5]|   2021-02-14|        joey@abc.com|      Joey|  2|       true|Tribbiani|2021-02-18 03:33:00|[82349238942, 234...|\n",
      "|     1000.8|      [2, 4]|         null|        bing@abc.com|  Chandler|  6|       true|     Bing|2021-02-25 07:33:00|        [8273929,,,]|\n",
      "+-----------+------------+-------------+--------------------+----------+---+-----------+---------+-------------------+--------------------+\n",
      "\n"
     ]
    }
   ],
   "source": [
    "usersDF.sort(col('first_name'), ascending=False).show()"
   ]
  },
  {
   "cell_type": "markdown",
   "id": "884c90f8",
   "metadata": {},
   "source": [
    "Sort users data in descending order by **customer_from**"
   ]
  },
  {
   "cell_type": "code",
   "execution_count": 15,
   "id": "1d42af02",
   "metadata": {},
   "outputs": [
    {
     "name": "stdout",
     "output_type": "stream",
     "text": [
      "+-----------+------------+-------------+--------------------+----------+---+-----------+---------+-------------------+--------------------+\n",
      "|amount_paid|     courses|customer_from|               email|first_name| id|is_customer|last_name|    last_updated_ts|       phone_numbers|\n",
      "+-----------+------------+-------------+--------------------+----------+---+-----------+---------+-------------------+--------------------+\n",
      "|       null|         [3]|   2021-02-24|      rachel@abc.com|    Rachel|  5|       true|    Green|2021-02-18 03:33:00|[82349238942, 234...|\n",
      "|     1000.9|         [2]|   2021-02-22|      monica@abc.com|    Monica|  3|       true|   Geller|2021-02-28 07:33:00|               [,,,]|\n",
      "|      900.0|   [2, 4, 5]|   2021-02-14|        joey@abc.com|      Joey|  2|       true|Tribbiani|2021-02-18 03:33:00|[82349238942, 234...|\n",
      "|    1200.55|          []|   2021-01-19|        ross@abc.com|      Ross|  4|       true|   Geller|2021-02-18 01:10:00|    [82349238942,,,]|\n",
      "|    1000.55|[1, 3, 5, 7]|   2021-01-13|pheobebuffay@abc.com|    Pheobe|  1|       true|   Buffay|2021-02-10 01:15:00|[82349238942, 234...|\n",
      "|     1000.8|      [2, 4]|         null|        bing@abc.com|  Chandler|  6|       true|     Bing|2021-02-25 07:33:00|        [8273929,,,]|\n",
      "+-----------+------------+-------------+--------------------+----------+---+-----------+---------+-------------------+--------------------+\n",
      "\n"
     ]
    }
   ],
   "source": [
    "usersDF.sort(col('customer_from'), ascending=False).show()"
   ]
  },
  {
   "cell_type": "code",
   "execution_count": 16,
   "id": "671465a8",
   "metadata": {},
   "outputs": [
    {
     "name": "stdout",
     "output_type": "stream",
     "text": [
      "+-----------+------------+-------------+--------------------+----------+---+-----------+---------+-------------------+--------------------+\n",
      "|amount_paid|     courses|customer_from|               email|first_name| id|is_customer|last_name|    last_updated_ts|       phone_numbers|\n",
      "+-----------+------------+-------------+--------------------+----------+---+-----------+---------+-------------------+--------------------+\n",
      "|    1200.55|          []|   2021-01-19|        ross@abc.com|      Ross|  4|       true|   Geller|2021-02-18 01:10:00|    [82349238942,,,]|\n",
      "|       null|         [3]|   2021-02-24|      rachel@abc.com|    Rachel|  5|       true|    Green|2021-02-18 03:33:00|[82349238942, 234...|\n",
      "|    1000.55|[1, 3, 5, 7]|   2021-01-13|pheobebuffay@abc.com|    Pheobe|  1|       true|   Buffay|2021-02-10 01:15:00|[82349238942, 234...|\n",
      "|     1000.9|         [2]|   2021-02-22|      monica@abc.com|    Monica|  3|       true|   Geller|2021-02-28 07:33:00|               [,,,]|\n",
      "|      900.0|   [2, 4, 5]|   2021-02-14|        joey@abc.com|      Joey|  2|       true|Tribbiani|2021-02-18 03:33:00|[82349238942, 234...|\n",
      "|     1000.8|      [2, 4]|         null|        bing@abc.com|  Chandler|  6|       true|     Bing|2021-02-25 07:33:00|        [8273929,,,]|\n",
      "+-----------+------------+-------------+--------------------+----------+---+-----------+---------+-------------------+--------------------+\n",
      "\n"
     ]
    }
   ],
   "source": [
    "usersDF.sort(usersDF['first_name'].desc()).show()"
   ]
  },
  {
   "cell_type": "code",
   "execution_count": 17,
   "id": "d36cc8c6",
   "metadata": {},
   "outputs": [
    {
     "name": "stdout",
     "output_type": "stream",
     "text": [
      "+-----------+------------+-------------+--------------------+----------+---+-----------+---------+-------------------+--------------------+\n",
      "|amount_paid|     courses|customer_from|               email|first_name| id|is_customer|last_name|    last_updated_ts|       phone_numbers|\n",
      "+-----------+------------+-------------+--------------------+----------+---+-----------+---------+-------------------+--------------------+\n",
      "|    1200.55|          []|   2021-01-19|        ross@abc.com|      Ross|  4|       true|   Geller|2021-02-18 01:10:00|    [82349238942,,,]|\n",
      "|       null|         [3]|   2021-02-24|      rachel@abc.com|    Rachel|  5|       true|    Green|2021-02-18 03:33:00|[82349238942, 234...|\n",
      "|    1000.55|[1, 3, 5, 7]|   2021-01-13|pheobebuffay@abc.com|    Pheobe|  1|       true|   Buffay|2021-02-10 01:15:00|[82349238942, 234...|\n",
      "|     1000.9|         [2]|   2021-02-22|      monica@abc.com|    Monica|  3|       true|   Geller|2021-02-28 07:33:00|               [,,,]|\n",
      "|      900.0|   [2, 4, 5]|   2021-02-14|        joey@abc.com|      Joey|  2|       true|Tribbiani|2021-02-18 03:33:00|[82349238942, 234...|\n",
      "|     1000.8|      [2, 4]|         null|        bing@abc.com|  Chandler|  6|       true|     Bing|2021-02-25 07:33:00|        [8273929,,,]|\n",
      "+-----------+------------+-------------+--------------------+----------+---+-----------+---------+-------------------+--------------------+\n",
      "\n"
     ]
    }
   ],
   "source": [
    "# Use Spark SQL\n",
    "usersDF.sort(desc('first_name')).show()"
   ]
  },
  {
   "cell_type": "markdown",
   "id": "2af536da",
   "metadata": {},
   "source": [
    "Sort users data in descending order by **number of enrolled courses**"
   ]
  },
  {
   "cell_type": "code",
   "execution_count": 18,
   "id": "1872d6ba",
   "metadata": {},
   "outputs": [
    {
     "name": "stdout",
     "output_type": "stream",
     "text": [
      "+-----------+------------+-------------+--------------------+----------+---+-----------+---------+-------------------+--------------------+\n",
      "|amount_paid|     courses|customer_from|               email|first_name| id|is_customer|last_name|    last_updated_ts|       phone_numbers|\n",
      "+-----------+------------+-------------+--------------------+----------+---+-----------+---------+-------------------+--------------------+\n",
      "|    1000.55|[1, 3, 5, 7]|   2021-01-13|pheobebuffay@abc.com|    Pheobe|  1|       true|   Buffay|2021-02-10 01:15:00|[82349238942, 234...|\n",
      "|      900.0|   [2, 4, 5]|   2021-02-14|        joey@abc.com|      Joey|  2|       true|Tribbiani|2021-02-18 03:33:00|[82349238942, 234...|\n",
      "|     1000.8|      [2, 4]|         null|        bing@abc.com|  Chandler|  6|       true|     Bing|2021-02-25 07:33:00|        [8273929,,,]|\n",
      "|       null|         [3]|   2021-02-24|      rachel@abc.com|    Rachel|  5|       true|    Green|2021-02-18 03:33:00|[82349238942, 234...|\n",
      "|     1000.9|         [2]|   2021-02-22|      monica@abc.com|    Monica|  3|       true|   Geller|2021-02-28 07:33:00|               [,,,]|\n",
      "|    1200.55|          []|   2021-01-19|        ross@abc.com|      Ross|  4|       true|   Geller|2021-02-18 01:10:00|    [82349238942,,,]|\n",
      "+-----------+------------+-------------+--------------------+----------+---+-----------+---------+-------------------+--------------------+\n",
      "\n"
     ]
    }
   ],
   "source": [
    "# Use size() for array type\n",
    "usersDF.sort(size('courses'), ascending=False).show()"
   ]
  },
  {
   "cell_type": "code",
   "execution_count": 19,
   "id": "c45c857b",
   "metadata": {},
   "outputs": [
    {
     "name": "stdout",
     "output_type": "stream",
     "text": [
      "+---+------------+-------------+\n",
      "| id|     courses|no_of_courses|\n",
      "+---+------------+-------------+\n",
      "|  1|[1, 3, 5, 7]|            4|\n",
      "|  2|   [2, 4, 5]|            3|\n",
      "|  6|      [2, 4]|            2|\n",
      "|  5|         [3]|            1|\n",
      "|  3|         [2]|            1|\n",
      "|  4|          []|            0|\n",
      "+---+------------+-------------+\n",
      "\n"
     ]
    }
   ],
   "source": [
    "usersDF. \\\n",
    "select('id', 'courses'). \\\n",
    "withColumn('no_of_courses', size('courses')). \\\n",
    "sort('no_of_courses', ascending=False).show()"
   ]
  },
  {
   "cell_type": "code",
   "execution_count": 20,
   "id": "d841e39b",
   "metadata": {},
   "outputs": [
    {
     "name": "stdout",
     "output_type": "stream",
     "text": [
      "+---+------------+-------------+\n",
      "| id|     courses|no_of_courses|\n",
      "+---+------------+-------------+\n",
      "|  1|[1, 3, 5, 7]|            4|\n",
      "|  2|   [2, 4, 5]|            3|\n",
      "|  6|      [2, 4]|            2|\n",
      "|  3|         [2]|            1|\n",
      "|  5|         [3]|            1|\n",
      "|  4|          []|            0|\n",
      "+---+------------+-------------+\n",
      "\n"
     ]
    }
   ],
   "source": [
    "usersDF. \\\n",
    "select('id', 'courses'). \\\n",
    "withColumn('no_of_courses', size('courses')). \\\n",
    "sort(desc('no_of_courses')).show()"
   ]
  },
  {
   "cell_type": "markdown",
   "id": "a281ea8e",
   "metadata": {},
   "source": [
    "#### Dealing with Nulls"
   ]
  },
  {
   "cell_type": "markdown",
   "id": "4f1c7518",
   "metadata": {},
   "source": [
    "Sort the data in ascending order by **customer_from**"
   ]
  },
  {
   "cell_type": "code",
   "execution_count": 21,
   "id": "cc0cd5fc",
   "metadata": {},
   "outputs": [],
   "source": [
    "cf = col('customer_from')"
   ]
  },
  {
   "cell_type": "code",
   "execution_count": null,
   "id": "48dc3262",
   "metadata": {},
   "outputs": [],
   "source": [
    "# Hit tab to view the functions on top of column type\n",
    "cf. # tab"
   ]
  },
  {
   "cell_type": "code",
   "execution_count": 23,
   "id": "f4abd9a1",
   "metadata": {},
   "outputs": [
    {
     "name": "stdout",
     "output_type": "stream",
     "text": [
      "+---+-------------+\n",
      "| id|customer_from|\n",
      "+---+-------------+\n",
      "|  6|         null|\n",
      "|  1|   2021-01-13|\n",
      "|  4|   2021-01-19|\n",
      "|  2|   2021-02-14|\n",
      "|  3|   2021-02-22|\n",
      "|  5|   2021-02-24|\n",
      "+---+-------------+\n",
      "\n"
     ]
    }
   ],
   "source": [
    "# Null values comes first\n",
    "usersDF. \\\n",
    "select('id', 'customer_from'). \\\n",
    "orderBy('customer_from'). \\\n",
    "show()"
   ]
  },
  {
   "cell_type": "code",
   "execution_count": 24,
   "id": "c9845cbb",
   "metadata": {},
   "outputs": [
    {
     "name": "stdout",
     "output_type": "stream",
     "text": [
      "+---+-------------+\n",
      "| id|customer_from|\n",
      "+---+-------------+\n",
      "|  1|   2021-01-13|\n",
      "|  4|   2021-01-19|\n",
      "|  2|   2021-02-14|\n",
      "|  3|   2021-02-22|\n",
      "|  5|   2021-02-24|\n",
      "|  6|         null|\n",
      "+---+-------------+\n",
      "\n"
     ]
    }
   ],
   "source": [
    "# Nulls at the end\n",
    "usersDF. \\\n",
    "select('id', 'customer_from'). \\\n",
    "orderBy(usersDF['customer_from'].asc_nulls_last()). \\\n",
    "show()"
   ]
  },
  {
   "cell_type": "code",
   "execution_count": 25,
   "id": "926eb040",
   "metadata": {},
   "outputs": [
    {
     "name": "stdout",
     "output_type": "stream",
     "text": [
      "+---+-------------+\n",
      "| id|customer_from|\n",
      "+---+-------------+\n",
      "|  1|   2021-01-13|\n",
      "|  4|   2021-01-19|\n",
      "|  2|   2021-02-14|\n",
      "|  3|   2021-02-22|\n",
      "|  5|   2021-02-24|\n",
      "|  6|         null|\n",
      "+---+-------------+\n",
      "\n"
     ]
    }
   ],
   "source": [
    "# Use Column Type\n",
    "usersDF. \\\n",
    "select('id', 'customer_from'). \\\n",
    "orderBy(col('customer_from').asc_nulls_last()). \\\n",
    "show()"
   ]
  },
  {
   "cell_type": "markdown",
   "id": "6ebfc479",
   "metadata": {},
   "source": [
    "Sort the data in descending order by **customer_from**"
   ]
  },
  {
   "cell_type": "code",
   "execution_count": 26,
   "id": "b516eb8a",
   "metadata": {},
   "outputs": [
    {
     "name": "stdout",
     "output_type": "stream",
     "text": [
      "+---+-------------+\n",
      "| id|customer_from|\n",
      "+---+-------------+\n",
      "|  5|   2021-02-24|\n",
      "|  3|   2021-02-22|\n",
      "|  2|   2021-02-14|\n",
      "|  4|   2021-01-19|\n",
      "|  1|   2021-01-13|\n",
      "|  6|         null|\n",
      "+---+-------------+\n",
      "\n"
     ]
    }
   ],
   "source": [
    "# Desc - Null at the begining (By default)\n",
    "usersDF. \\\n",
    "select('id', 'customer_from'). \\\n",
    "orderBy(col('customer_from').desc()). \\\n",
    "show()"
   ]
  },
  {
   "cell_type": "code",
   "execution_count": 27,
   "id": "498a086c",
   "metadata": {},
   "outputs": [
    {
     "name": "stdout",
     "output_type": "stream",
     "text": [
      "+---+-------------+\n",
      "| id|customer_from|\n",
      "+---+-------------+\n",
      "|  6|         null|\n",
      "|  5|   2021-02-24|\n",
      "|  3|   2021-02-22|\n",
      "|  2|   2021-02-14|\n",
      "|  4|   2021-01-19|\n",
      "|  1|   2021-01-13|\n",
      "+---+-------------+\n",
      "\n"
     ]
    }
   ],
   "source": [
    "usersDF. \\\n",
    "select('id', 'customer_from'). \\\n",
    "orderBy(col('customer_from').desc_nulls_first()). \\\n",
    "show()"
   ]
  },
  {
   "cell_type": "markdown",
   "id": "5a498a36",
   "metadata": {},
   "source": [
    "#### Composite Sorting"
   ]
  },
  {
   "cell_type": "code",
   "execution_count": 28,
   "id": "aa9d2f21",
   "metadata": {},
   "outputs": [],
   "source": [
    " courses = [{'course_id': 1,\n",
    "             'course_name': '2020 Complete Python Bootcamp: From Zero to Hero in Python',\n",
    "             'suitable_for': 'Beginner',\n",
    "             'enrollment': 1100093,\n",
    "             'stars': 4.6,\n",
    "             'number_of_ratings': 318066},\n",
    "           {'course_id': 4,\n",
    "             'course_name': 'Angular - The Complete Guide (2020 Edition)',\n",
    "             'suitable_for': 'Intermediate',\n",
    "             'enrollment': 422557,\n",
    "             'stars': 4.6,\n",
    "             'number_of_ratings': 129984},\n",
    "           {'course_id': 12,\n",
    "             'course_name': 'Automate the Boring Stuff with Python Programming',\n",
    "             'suitable_for': 'Advanced',\n",
    "             'enrollment': 692617,\n",
    "             'stars': 4.6,\n",
    "             'number_of_ratings': 70508},\n",
    "            {'course_id': 10,\n",
    "             'course_name': 'Complete C# Unity Game Developer 2D',\n",
    "             'suitable_for': 'Beginner',\n",
    "             'enrollment': 364934,\n",
    "             'stars': 4.6,\n",
    "             'number_of_ratings': 78989},\n",
    "            {'course_id': 5,\n",
    "             'course_name': 'Java Programming Masterclass for Software Developers',\n",
    "             'suitable_for': 'Beginner',\n",
    "             'enrollment': 596726,\n",
    "             'stars': 4.6,\n",
    "             'number_of_ratings': 182997},\n",
    "            {'course_id': 15,\n",
    "             'course_name': 'Learn Python Programming',\n",
    "             'suitable_for': 'Advanced',\n",
    "             'enrollment': 240790,\n",
    "             'stars': 4.5,\n",
    "             'number_of_ratings': 58677},\n",
    "             {'course_id': 3,\n",
    "             'course_name': 'Machine Learning',\n",
    "             'suitable_for': 'Intermediate',\n",
    "             'enrollment': 692812,\n",
    "             'stars': 4.5,\n",
    "             'number_of_ratings': 132228},\n",
    "             {'course_id': 14,\n",
    "             'course_name': 'Modern React with PHP',\n",
    "             'suitable_for': 'Intermediate',\n",
    "             'enrollment': 203214,\n",
    "             'stars': 4.7,\n",
    "             'number_of_ratings': 60835},\n",
    "             {'course_id': 8,\n",
    "             'course_name': 'Python for Data Science',\n",
    "             'suitable_for': 'Intermediate',\n",
    "             'enrollment': 387789,\n",
    "             'stars': 4.6,\n",
    "             'number_of_ratings': 87403},\n",
    "            {'course_id': 19,\n",
    "             'course_name': 'Unreal Engine C++ Developer: Learn C++ and Make Video Games',\n",
    "             'suitable_for': 'Advanced',\n",
    "             'enrollment': 229005,\n",
    "             'stars': 4.5,\n",
    "             'number_of_ratings': 45860},\n",
    "            {'course_id': 17,\n",
    "             'course_name': 'iOS 13 & Swift 5 - The Complete iOS App Development Bootcamp',\n",
    "             'suitable_for': 'Advanced',\n",
    "             'enrollment': 179598,\n",
    "             'stars': 4.8,\n",
    "             'number_of_ratings': 49972}\n",
    "           ]"
   ]
  },
  {
   "cell_type": "code",
   "execution_count": 29,
   "id": "276dc2cd",
   "metadata": {},
   "outputs": [],
   "source": [
    "coursesDF = spark.createDataFrame([Row(**course) for course in courses])"
   ]
  },
  {
   "cell_type": "code",
   "execution_count": 30,
   "id": "a18d8baa",
   "metadata": {},
   "outputs": [
    {
     "name": "stdout",
     "output_type": "stream",
     "text": [
      "root\n",
      " |-- course_id: long (nullable = true)\n",
      " |-- course_name: string (nullable = true)\n",
      " |-- suitable_for: string (nullable = true)\n",
      " |-- enrollment: long (nullable = true)\n",
      " |-- stars: double (nullable = true)\n",
      " |-- number_of_ratings: long (nullable = true)\n",
      "\n"
     ]
    }
   ],
   "source": [
    "coursesDF.printSchema()"
   ]
  },
  {
   "cell_type": "markdown",
   "id": "3f24e418",
   "metadata": {},
   "source": [
    "* Sort courses in ascending order by **suitable_for** and then in ascending order by **enrollment**."
   ]
  },
  {
   "cell_type": "code",
   "execution_count": 31,
   "id": "331dd8b4",
   "metadata": {
    "scrolled": true
   },
   "outputs": [
    {
     "name": "stdout",
     "output_type": "stream",
     "text": [
      "+---------+--------------------+------------+----------+-----+-----------------+\n",
      "|course_id|         course_name|suitable_for|enrollment|stars|number_of_ratings|\n",
      "+---------+--------------------+------------+----------+-----+-----------------+\n",
      "|       17|iOS 13 & Swift 5 ...|    Advanced|    179598|  4.8|            49972|\n",
      "|       19|Unreal Engine C++...|    Advanced|    229005|  4.5|            45860|\n",
      "|       15|Learn Python Prog...|    Advanced|    240790|  4.5|            58677|\n",
      "|       12|Automate the Bori...|    Advanced|    692617|  4.6|            70508|\n",
      "|       10|Complete C# Unity...|    Beginner|    364934|  4.6|            78989|\n",
      "|        5|Java Programming ...|    Beginner|    596726|  4.6|           182997|\n",
      "|        1|2020 Complete Pyt...|    Beginner|   1100093|  4.6|           318066|\n",
      "|       14|Modern React with...|Intermediate|    203214|  4.7|            60835|\n",
      "|        8|Python for Data S...|Intermediate|    387789|  4.6|            87403|\n",
      "|        4|Angular - The Com...|Intermediate|    422557|  4.6|           129984|\n",
      "|        3|    Machine Learning|Intermediate|    692812|  4.5|           132228|\n",
      "+---------+--------------------+------------+----------+-----+-----------------+\n",
      "\n"
     ]
    }
   ],
   "source": [
    "coursesDF.sort(col('suitable_for'), col('enrollment')).show()"
   ]
  },
  {
   "cell_type": "code",
   "execution_count": 32,
   "id": "5844c9e1",
   "metadata": {},
   "outputs": [
    {
     "name": "stdout",
     "output_type": "stream",
     "text": [
      "+---------+--------------------+------------+----------+-----+-----------------+\n",
      "|course_id|         course_name|suitable_for|enrollment|stars|number_of_ratings|\n",
      "+---------+--------------------+------------+----------+-----+-----------------+\n",
      "|       17|iOS 13 & Swift 5 ...|    Advanced|    179598|  4.8|            49972|\n",
      "|       19|Unreal Engine C++...|    Advanced|    229005|  4.5|            45860|\n",
      "|       15|Learn Python Prog...|    Advanced|    240790|  4.5|            58677|\n",
      "|       12|Automate the Bori...|    Advanced|    692617|  4.6|            70508|\n",
      "|       10|Complete C# Unity...|    Beginner|    364934|  4.6|            78989|\n",
      "|        5|Java Programming ...|    Beginner|    596726|  4.6|           182997|\n",
      "|        1|2020 Complete Pyt...|    Beginner|   1100093|  4.6|           318066|\n",
      "|       14|Modern React with...|Intermediate|    203214|  4.7|            60835|\n",
      "|        8|Python for Data S...|Intermediate|    387789|  4.6|            87403|\n",
      "|        4|Angular - The Com...|Intermediate|    422557|  4.6|           129984|\n",
      "|        3|    Machine Learning|Intermediate|    692812|  4.5|           132228|\n",
      "+---------+--------------------+------------+----------+-----+-----------------+\n",
      "\n"
     ]
    }
   ],
   "source": [
    "coursesDF.sort(coursesDF['suitable_for'], coursesDF['enrollment']).show()"
   ]
  },
  {
   "cell_type": "code",
   "execution_count": 33,
   "id": "2bf8a617",
   "metadata": {},
   "outputs": [
    {
     "name": "stdout",
     "output_type": "stream",
     "text": [
      "+---------+--------------------+------------+----------+-----+-----------------+\n",
      "|course_id|         course_name|suitable_for|enrollment|stars|number_of_ratings|\n",
      "+---------+--------------------+------------+----------+-----+-----------------+\n",
      "|       17|iOS 13 & Swift 5 ...|    Advanced|    179598|  4.8|            49972|\n",
      "|       19|Unreal Engine C++...|    Advanced|    229005|  4.5|            45860|\n",
      "|       15|Learn Python Prog...|    Advanced|    240790|  4.5|            58677|\n",
      "|       12|Automate the Bori...|    Advanced|    692617|  4.6|            70508|\n",
      "|       10|Complete C# Unity...|    Beginner|    364934|  4.6|            78989|\n",
      "|        5|Java Programming ...|    Beginner|    596726|  4.6|           182997|\n",
      "|        1|2020 Complete Pyt...|    Beginner|   1100093|  4.6|           318066|\n",
      "|       14|Modern React with...|Intermediate|    203214|  4.7|            60835|\n",
      "|        8|Python for Data S...|Intermediate|    387789|  4.6|            87403|\n",
      "|        4|Angular - The Com...|Intermediate|    422557|  4.6|           129984|\n",
      "|        3|    Machine Learning|Intermediate|    692812|  4.5|           132228|\n",
      "+---------+--------------------+------------+----------+-----+-----------------+\n",
      "\n"
     ]
    }
   ],
   "source": [
    "coursesDF.sort(['suitable_for', 'enrollment']).show()"
   ]
  },
  {
   "cell_type": "markdown",
   "id": "14a7d447",
   "metadata": {},
   "source": [
    "* Sort courses in ascending order by **suitable_for** and then in descending order by **enrollment**"
   ]
  },
  {
   "cell_type": "code",
   "execution_count": 34,
   "id": "ad0d0245",
   "metadata": {},
   "outputs": [
    {
     "name": "stdout",
     "output_type": "stream",
     "text": [
      "+---------+--------------------+------------+----------+-----+-----------------+\n",
      "|course_id|         course_name|suitable_for|enrollment|stars|number_of_ratings|\n",
      "+---------+--------------------+------------+----------+-----+-----------------+\n",
      "|       12|Automate the Bori...|    Advanced|    692617|  4.6|            70508|\n",
      "|       15|Learn Python Prog...|    Advanced|    240790|  4.5|            58677|\n",
      "|       19|Unreal Engine C++...|    Advanced|    229005|  4.5|            45860|\n",
      "|       17|iOS 13 & Swift 5 ...|    Advanced|    179598|  4.8|            49972|\n",
      "|        1|2020 Complete Pyt...|    Beginner|   1100093|  4.6|           318066|\n",
      "|        5|Java Programming ...|    Beginner|    596726|  4.6|           182997|\n",
      "|       10|Complete C# Unity...|    Beginner|    364934|  4.6|            78989|\n",
      "|        3|    Machine Learning|Intermediate|    692812|  4.5|           132228|\n",
      "|        4|Angular - The Com...|Intermediate|    422557|  4.6|           129984|\n",
      "|        8|Python for Data S...|Intermediate|    387789|  4.6|            87403|\n",
      "|       14|Modern React with...|Intermediate|    203214|  4.7|            60835|\n",
      "+---------+--------------------+------------+----------+-----+-----------------+\n",
      "\n"
     ]
    }
   ],
   "source": [
    "coursesDF.sort(col('suitable_for'), col('enrollment').desc()).show()"
   ]
  },
  {
   "cell_type": "code",
   "execution_count": 35,
   "id": "2268e2ad",
   "metadata": {},
   "outputs": [
    {
     "name": "stdout",
     "output_type": "stream",
     "text": [
      "+---------+--------------------+------------+----------+-----+-----------------+\n",
      "|course_id|         course_name|suitable_for|enrollment|stars|number_of_ratings|\n",
      "+---------+--------------------+------------+----------+-----+-----------------+\n",
      "|       12|Automate the Bori...|    Advanced|    692617|  4.6|            70508|\n",
      "|       15|Learn Python Prog...|    Advanced|    240790|  4.5|            58677|\n",
      "|       19|Unreal Engine C++...|    Advanced|    229005|  4.5|            45860|\n",
      "|       17|iOS 13 & Swift 5 ...|    Advanced|    179598|  4.8|            49972|\n",
      "|        1|2020 Complete Pyt...|    Beginner|   1100093|  4.6|           318066|\n",
      "|        5|Java Programming ...|    Beginner|    596726|  4.6|           182997|\n",
      "|       10|Complete C# Unity...|    Beginner|    364934|  4.6|            78989|\n",
      "|        3|    Machine Learning|Intermediate|    692812|  4.5|           132228|\n",
      "|        4|Angular - The Com...|Intermediate|    422557|  4.6|           129984|\n",
      "|        8|Python for Data S...|Intermediate|    387789|  4.6|            87403|\n",
      "|       14|Modern React with...|Intermediate|    203214|  4.7|            60835|\n",
      "+---------+--------------------+------------+----------+-----+-----------------+\n",
      "\n"
     ]
    }
   ],
   "source": [
    "coursesDF.sort(coursesDF['suitable_for'], coursesDF['enrollment'].desc()).show()"
   ]
  },
  {
   "cell_type": "code",
   "execution_count": 37,
   "id": "ff6d584b",
   "metadata": {},
   "outputs": [
    {
     "name": "stdout",
     "output_type": "stream",
     "text": [
      "+---------+--------------------+------------+----------+-----+-----------------+\n",
      "|course_id|         course_name|suitable_for|enrollment|stars|number_of_ratings|\n",
      "+---------+--------------------+------------+----------+-----+-----------------+\n",
      "|       12|Automate the Bori...|    Advanced|    692617|  4.6|            70508|\n",
      "|       15|Learn Python Prog...|    Advanced|    240790|  4.5|            58677|\n",
      "|       17|iOS 13 & Swift 5 ...|    Advanced|    179598|  4.8|            49972|\n",
      "|       19|Unreal Engine C++...|    Advanced|    229005|  4.5|            45860|\n",
      "|        1|2020 Complete Pyt...|    Beginner|   1100093|  4.6|           318066|\n",
      "|        5|Java Programming ...|    Beginner|    596726|  4.6|           182997|\n",
      "|       10|Complete C# Unity...|    Beginner|    364934|  4.6|            78989|\n",
      "|        3|    Machine Learning|Intermediate|    692812|  4.5|           132228|\n",
      "|        4|Angular - The Com...|Intermediate|    422557|  4.6|           129984|\n",
      "|        8|Python for Data S...|Intermediate|    387789|  4.6|            87403|\n",
      "|       14|Modern React with...|Intermediate|    203214|  4.7|            60835|\n",
      "+---------+--------------------+------------+----------+-----+-----------------+\n",
      "\n"
     ]
    }
   ],
   "source": [
    "coursesDF.sort('suitable_for', desc('number_of_ratings')).show()"
   ]
  },
  {
   "cell_type": "code",
   "execution_count": 38,
   "id": "5fc988e7",
   "metadata": {},
   "outputs": [
    {
     "name": "stdout",
     "output_type": "stream",
     "text": [
      "+---------+--------------------+------------+----------+-----+-----------------+\n",
      "|course_id|         course_name|suitable_for|enrollment|stars|number_of_ratings|\n",
      "+---------+--------------------+------------+----------+-----+-----------------+\n",
      "|       12|Automate the Bori...|    Advanced|    692617|  4.6|            70508|\n",
      "|       15|Learn Python Prog...|    Advanced|    240790|  4.5|            58677|\n",
      "|       17|iOS 13 & Swift 5 ...|    Advanced|    179598|  4.8|            49972|\n",
      "|       19|Unreal Engine C++...|    Advanced|    229005|  4.5|            45860|\n",
      "|        1|2020 Complete Pyt...|    Beginner|   1100093|  4.6|           318066|\n",
      "|        5|Java Programming ...|    Beginner|    596726|  4.6|           182997|\n",
      "|       10|Complete C# Unity...|    Beginner|    364934|  4.6|            78989|\n",
      "|        3|    Machine Learning|Intermediate|    692812|  4.5|           132228|\n",
      "|        4|Angular - The Com...|Intermediate|    422557|  4.6|           129984|\n",
      "|        8|Python for Data S...|Intermediate|    387789|  4.6|            87403|\n",
      "|       14|Modern React with...|Intermediate|    203214|  4.7|            60835|\n",
      "+---------+--------------------+------------+----------+-----+-----------------+\n",
      "\n"
     ]
    }
   ],
   "source": [
    "coursesDF.sort(['suitable_for', 'number_of_ratings'], ascending=[1, 0]).show()"
   ]
  },
  {
   "cell_type": "markdown",
   "id": "e73410ae",
   "metadata": {},
   "source": [
    "#### Prioritized Sorting of a Spark DataFrame"
   ]
  },
  {
   "cell_type": "markdown",
   "id": "50bd549b",
   "metadata": {},
   "source": [
    "* Make sure the data is sorted in custom order by level and then in numerically in descending order by number of ratings.\n",
    "* All the beginner level courses should come first, followed by intermediate level and then by advanced level."
   ]
  },
  {
   "cell_type": "code",
   "execution_count": 39,
   "id": "6600169e",
   "metadata": {},
   "outputs": [
    {
     "name": "stdout",
     "output_type": "stream",
     "text": [
      "Help on function when in module pyspark.sql.functions:\n",
      "\n",
      "when(condition, value)\n",
      "    Evaluates a list of conditions and returns one of multiple possible result expressions.\n",
      "    If :func:`Column.otherwise` is not invoked, None is returned for unmatched conditions.\n",
      "    \n",
      "    :param condition: a boolean :class:`Column` expression.\n",
      "    :param value: a literal value, or a :class:`Column` expression.\n",
      "    \n",
      "    >>> df.select(when(df['age'] == 2, 3).otherwise(4).alias(\"age\")).collect()\n",
      "    [Row(age=3), Row(age=4)]\n",
      "    \n",
      "    >>> df.select(when(df.age == 2, df.age + 1).alias(\"age\")).collect()\n",
      "    [Row(age=3), Row(age=None)]\n",
      "    \n",
      "    .. versionadded:: 1.4\n",
      "\n"
     ]
    }
   ],
   "source": [
    "help(when)"
   ]
  },
  {
   "cell_type": "code",
   "execution_count": 40,
   "id": "0a12fa82",
   "metadata": {},
   "outputs": [],
   "source": [
    "coursesLevel = when(col('suitable_for') == 'Beginner', 0).otherwise(when(col('suitable_for') == 'Intermediate', 1).otherwise(2))"
   ]
  },
  {
   "cell_type": "code",
   "execution_count": 42,
   "id": "fcdf352e",
   "metadata": {},
   "outputs": [
    {
     "name": "stdout",
     "output_type": "stream",
     "text": [
      "+---------+--------------------+------------+----------+-----+-----------------+\n",
      "|course_id|         course_name|suitable_for|enrollment|stars|number_of_ratings|\n",
      "+---------+--------------------+------------+----------+-----+-----------------+\n",
      "|        1|2020 Complete Pyt...|    Beginner|   1100093|  4.6|           318066|\n",
      "|        5|Java Programming ...|    Beginner|    596726|  4.6|           182997|\n",
      "|       10|Complete C# Unity...|    Beginner|    364934|  4.6|            78989|\n",
      "|        3|    Machine Learning|Intermediate|    692812|  4.5|           132228|\n",
      "|        4|Angular - The Com...|Intermediate|    422557|  4.6|           129984|\n",
      "|        8|Python for Data S...|Intermediate|    387789|  4.6|            87403|\n",
      "|       14|Modern React with...|Intermediate|    203214|  4.7|            60835|\n",
      "|       12|Automate the Bori...|    Advanced|    692617|  4.6|            70508|\n",
      "|       15|Learn Python Prog...|    Advanced|    240790|  4.5|            58677|\n",
      "|       17|iOS 13 & Swift 5 ...|    Advanced|    179598|  4.8|            49972|\n",
      "|       19|Unreal Engine C++...|    Advanced|    229005|  4.5|            45860|\n",
      "+---------+--------------------+------------+----------+-----+-----------------+\n",
      "\n"
     ]
    }
   ],
   "source": [
    "coursesDF. \\\n",
    "orderBy(coursesLevel, col('number_of_ratings').desc()).show()"
   ]
  },
  {
   "cell_type": "code",
   "execution_count": 43,
   "id": "7dbbf235",
   "metadata": {},
   "outputs": [
    {
     "name": "stdout",
     "output_type": "stream",
     "text": [
      "+---------+--------------------+------------+----------+-----+-----------------+\n",
      "|course_id|         course_name|suitable_for|enrollment|stars|number_of_ratings|\n",
      "+---------+--------------------+------------+----------+-----+-----------------+\n",
      "|        1|2020 Complete Pyt...|    Beginner|   1100093|  4.6|           318066|\n",
      "|        5|Java Programming ...|    Beginner|    596726|  4.6|           182997|\n",
      "|       10|Complete C# Unity...|    Beginner|    364934|  4.6|            78989|\n",
      "|        3|    Machine Learning|Intermediate|    692812|  4.5|           132228|\n",
      "|        4|Angular - The Com...|Intermediate|    422557|  4.6|           129984|\n",
      "|        8|Python for Data S...|Intermediate|    387789|  4.6|            87403|\n",
      "|       14|Modern React with...|Intermediate|    203214|  4.7|            60835|\n",
      "|       12|Automate the Bori...|    Advanced|    692617|  4.6|            70508|\n",
      "|       15|Learn Python Prog...|    Advanced|    240790|  4.5|            58677|\n",
      "|       17|iOS 13 & Swift 5 ...|    Advanced|    179598|  4.8|            49972|\n",
      "|       19|Unreal Engine C++...|    Advanced|    229005|  4.5|            45860|\n",
      "+---------+--------------------+------------+----------+-----+-----------------+\n",
      "\n"
     ]
    }
   ],
   "source": [
    "# SQL Style Syntax\n",
    "coursesLevel = expr(\"\"\" \\\n",
    "                    CASE \\\n",
    "                    WHEN suitable_for = 'Beginner' THEN 0 \\\n",
    "                    WHEN suitable_for = 'Intermediate' THEN 1 \\\n",
    "                    ELSE 2 \\\n",
    "                    END\"\"\")\n",
    "\n",
    "coursesDF.sort(coursesLevel, col('number_of_ratings').desc()).show()"
   ]
  }
 ],
 "metadata": {
  "kernelspec": {
   "display_name": "Python 3 (ipykernel)",
   "language": "python",
   "name": "python3"
  },
  "language_info": {
   "codemirror_mode": {
    "name": "ipython",
    "version": 3
   },
   "file_extension": ".py",
   "mimetype": "text/x-python",
   "name": "python",
   "nbconvert_exporter": "python",
   "pygments_lexer": "ipython3",
   "version": "3.9.7"
  }
 },
 "nbformat": 4,
 "nbformat_minor": 5
}
