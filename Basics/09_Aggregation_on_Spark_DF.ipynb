{
 "cells": [
  {
   "cell_type": "markdown",
   "id": "cc929999",
   "metadata": {},
   "source": [
    "## Aggregation on Spark Dataframe"
   ]
  },
  {
   "cell_type": "code",
   "execution_count": 1,
   "id": "18b059e1",
   "metadata": {},
   "outputs": [],
   "source": [
    "from pyspark.sql import SparkSession\n",
    "from pyspark.sql.functions import *"
   ]
  },
  {
   "cell_type": "code",
   "execution_count": 2,
   "id": "823159be",
   "metadata": {},
   "outputs": [],
   "source": [
    "spark = SparkSession. \\\n",
    "        builder. \\\n",
    "        appName('AggregatingSparkDF'). \\\n",
    "        getOrCreate()"
   ]
  },
  {
   "cell_type": "code",
   "execution_count": 3,
   "id": "73ae3479",
   "metadata": {
    "scrolled": false
   },
   "outputs": [],
   "source": [
    "orders = spark.read.csv('../data/orders.csv', \n",
    "        schema='order_id INT, order_date STRING, order_customer_id INT, order_status STRING')"
   ]
  },
  {
   "cell_type": "code",
   "execution_count": 4,
   "id": "a3825bad",
   "metadata": {},
   "outputs": [
    {
     "name": "stdout",
     "output_type": "stream",
     "text": [
      "+--------+--------------------+-----------------+---------------+\n",
      "|order_id|          order_date|order_customer_id|   order_status|\n",
      "+--------+--------------------+-----------------+---------------+\n",
      "|       1|2013-07-25 00:00:...|            11599|         CLOSED|\n",
      "|       2|2013-07-25 00:00:...|              256|PENDING_PAYMENT|\n",
      "|       3|2013-07-25 00:00:...|            12111|       COMPLETE|\n",
      "|       4|2013-07-25 00:00:...|             8827|         CLOSED|\n",
      "|       5|2013-07-25 00:00:...|            11318|       COMPLETE|\n",
      "|       6|2013-07-25 00:00:...|             7130|       COMPLETE|\n",
      "|       7|2013-07-25 00:00:...|             4530|       COMPLETE|\n",
      "|       8|2013-07-25 00:00:...|             2911|     PROCESSING|\n",
      "|       9|2013-07-25 00:00:...|             5657|PENDING_PAYMENT|\n",
      "|      10|2013-07-25 00:00:...|             5648|PENDING_PAYMENT|\n",
      "|      11|2013-07-25 00:00:...|              918| PAYMENT_REVIEW|\n",
      "|      12|2013-07-25 00:00:...|             1837|         CLOSED|\n",
      "|      13|2013-07-25 00:00:...|             9149|PENDING_PAYMENT|\n",
      "|      14|2013-07-25 00:00:...|             9842|     PROCESSING|\n",
      "|      15|2013-07-25 00:00:...|             2568|       COMPLETE|\n",
      "|      16|2013-07-25 00:00:...|             7276|PENDING_PAYMENT|\n",
      "|      17|2013-07-25 00:00:...|             2667|       COMPLETE|\n",
      "|      18|2013-07-25 00:00:...|             1205|         CLOSED|\n",
      "|      19|2013-07-25 00:00:...|             9488|PENDING_PAYMENT|\n",
      "|      20|2013-07-25 00:00:...|             9198|     PROCESSING|\n",
      "+--------+--------------------+-----------------+---------------+\n",
      "only showing top 20 rows\n",
      "\n"
     ]
    }
   ],
   "source": [
    "orders.show()"
   ]
  },
  {
   "cell_type": "code",
   "execution_count": 5,
   "id": "32b87a77",
   "metadata": {},
   "outputs": [
    {
     "name": "stdout",
     "output_type": "stream",
     "text": [
      "root\n",
      " |-- order_id: integer (nullable = true)\n",
      " |-- order_date: string (nullable = true)\n",
      " |-- order_customer_id: integer (nullable = true)\n",
      " |-- order_status: string (nullable = true)\n",
      "\n"
     ]
    }
   ],
   "source": [
    "orders.printSchema()"
   ]
  },
  {
   "cell_type": "code",
   "execution_count": 6,
   "id": "b9dd68a9",
   "metadata": {},
   "outputs": [],
   "source": [
    "order_items = spark.read.csv('../data/order_items.csv', header=True, inferSchema=True)"
   ]
  },
  {
   "cell_type": "code",
   "execution_count": 7,
   "id": "dc9cbbcd",
   "metadata": {
    "scrolled": true
   },
   "outputs": [
    {
     "name": "stdout",
     "output_type": "stream",
     "text": [
      "+-------------+-------------------+---------------------+-------------------+-------------------+------------------------+\n",
      "|order_item_id|order_item_order_id|order_item_product_id|order_item_quantity|order_item_subtotal|order_item_product_price|\n",
      "+-------------+-------------------+---------------------+-------------------+-------------------+------------------------+\n",
      "|            1|                  1|                  957|                  1|             299.98|                  299.98|\n",
      "|            2|                  2|                 1073|                  1|             199.99|                  199.99|\n",
      "|            3|                  2|                  502|                  5|              250.0|                    50.0|\n",
      "|            4|                  2|                  403|                  1|             129.99|                  129.99|\n",
      "|            5|                  4|                  897|                  2|              49.98|                   24.99|\n",
      "|            6|                  4|                  365|                  5|             299.95|                   59.99|\n",
      "|            7|                  4|                  502|                  3|              150.0|                    50.0|\n",
      "|            8|                  4|                 1014|                  4|             199.92|                   49.98|\n",
      "|            9|                  5|                  957|                  1|             299.98|                  299.98|\n",
      "|           10|                  5|                  365|                  5|             299.95|                   59.99|\n",
      "|           11|                  5|                 1014|                  2|              99.96|                   49.98|\n",
      "|           12|                  5|                  957|                  1|             299.98|                  299.98|\n",
      "|           13|                  5|                  403|                  1|             129.99|                  129.99|\n",
      "|           14|                  7|                 1073|                  1|             199.99|                  199.99|\n",
      "|           15|                  7|                  957|                  1|             299.98|                  299.98|\n",
      "|           16|                  7|                  926|                  5|              79.95|                   15.99|\n",
      "|           17|                  8|                  365|                  3|             179.97|                   59.99|\n",
      "|           18|                  8|                  365|                  5|             299.95|                   59.99|\n",
      "|           19|                  8|                 1014|                  4|             199.92|                   49.98|\n",
      "|           20|                  8|                  502|                  1|               50.0|                    50.0|\n",
      "+-------------+-------------------+---------------------+-------------------+-------------------+------------------------+\n",
      "only showing top 20 rows\n",
      "\n"
     ]
    }
   ],
   "source": [
    "order_items.show()"
   ]
  },
  {
   "cell_type": "code",
   "execution_count": 8,
   "id": "d7367650",
   "metadata": {},
   "outputs": [
    {
     "name": "stdout",
     "output_type": "stream",
     "text": [
      "root\n",
      " |-- order_item_id: integer (nullable = true)\n",
      " |-- order_item_order_id: integer (nullable = true)\n",
      " |-- order_item_product_id: integer (nullable = true)\n",
      " |-- order_item_quantity: integer (nullable = true)\n",
      " |-- order_item_subtotal: double (nullable = true)\n",
      " |-- order_item_product_price: double (nullable = true)\n",
      "\n"
     ]
    }
   ],
   "source": [
    "order_items.printSchema()"
   ]
  },
  {
   "cell_type": "markdown",
   "id": "6be638dd",
   "metadata": {},
   "source": [
    "Here are the common aggregate functions that are available as part of `pyspark.sql.functions`\n",
    "\n",
    "* `count`\n",
    "* `sum`\n",
    "* `min`\n",
    "* `max`\n",
    "* `avg`"
   ]
  },
  {
   "cell_type": "code",
   "execution_count": 9,
   "id": "94f18562",
   "metadata": {},
   "outputs": [
    {
     "name": "stdout",
     "output_type": "stream",
     "text": [
      "Help on function count in module pyspark.sql.functions:\n",
      "\n",
      "count(col)\n",
      "    Aggregate function: returns the number of items in a group.\n",
      "    \n",
      "    .. versionadded:: 1.3\n",
      "\n"
     ]
    }
   ],
   "source": [
    "help(count)"
   ]
  },
  {
   "cell_type": "code",
   "execution_count": 10,
   "id": "5c212f49",
   "metadata": {},
   "outputs": [
    {
     "name": "stdout",
     "output_type": "stream",
     "text": [
      "+--------+\n",
      "|count(1)|\n",
      "+--------+\n",
      "|   68883|\n",
      "+--------+\n",
      "\n"
     ]
    }
   ],
   "source": [
    "orders.select(count(\"*\")).show()"
   ]
  },
  {
   "cell_type": "code",
   "execution_count": 11,
   "id": "94733a28",
   "metadata": {},
   "outputs": [
    {
     "name": "stdout",
     "output_type": "stream",
     "text": [
      "root\n",
      " |-- order_id: integer (nullable = true)\n",
      " |-- order_date: string (nullable = true)\n",
      " |-- order_customer_id: integer (nullable = true)\n",
      " |-- order_status: string (nullable = true)\n",
      "\n"
     ]
    }
   ],
   "source": [
    "orders.printSchema()"
   ]
  },
  {
   "cell_type": "code",
   "execution_count": 12,
   "id": "8ae76216",
   "metadata": {},
   "outputs": [
    {
     "name": "stdout",
     "output_type": "stream",
     "text": [
      "+---------------+--------+\n",
      "|   order_status|count(1)|\n",
      "+---------------+--------+\n",
      "|PENDING_PAYMENT|   15030|\n",
      "|       COMPLETE|   22899|\n",
      "|        ON_HOLD|    3798|\n",
      "| PAYMENT_REVIEW|     729|\n",
      "|     PROCESSING|    8275|\n",
      "|         CLOSED|    7556|\n",
      "|SUSPECTED_FRAUD|    1558|\n",
      "|        PENDING|    7610|\n",
      "|       CANCELED|    1428|\n",
      "+---------------+--------+\n",
      "\n"
     ]
    }
   ],
   "source": [
    "orders.groupBy('order_status').agg(count(\"*\")).show()"
   ]
  },
  {
   "cell_type": "markdown",
   "id": "18baf4c0",
   "metadata": {},
   "source": [
    "* Get revenue using `order_item_subtotal` for a given `order_item_order_id`"
   ]
  },
  {
   "cell_type": "code",
   "execution_count": 13,
   "id": "7a4bc1cc",
   "metadata": {},
   "outputs": [
    {
     "name": "stdout",
     "output_type": "stream",
     "text": [
      "root\n",
      " |-- order_item_id: integer (nullable = true)\n",
      " |-- order_item_order_id: integer (nullable = true)\n",
      " |-- order_item_product_id: integer (nullable = true)\n",
      " |-- order_item_quantity: integer (nullable = true)\n",
      " |-- order_item_subtotal: double (nullable = true)\n",
      " |-- order_item_product_price: double (nullable = true)\n",
      "\n"
     ]
    }
   ],
   "source": [
    "order_items.printSchema()"
   ]
  },
  {
   "cell_type": "code",
   "execution_count": 14,
   "id": "904863c2",
   "metadata": {},
   "outputs": [
    {
     "name": "stdout",
     "output_type": "stream",
     "text": [
      "Help on function sum in module pyspark.sql.functions:\n",
      "\n",
      "sum(col)\n",
      "    Aggregate function: returns the sum of all values in the expression.\n",
      "    \n",
      "    .. versionadded:: 1.3\n",
      "\n"
     ]
    }
   ],
   "source": [
    "help(sum)"
   ]
  },
  {
   "cell_type": "code",
   "execution_count": 15,
   "id": "d4b036ff",
   "metadata": {},
   "outputs": [
    {
     "name": "stdout",
     "output_type": "stream",
     "text": [
      "+-------------+-------------------+---------------------+-------------------+-------------------+------------------------+\n",
      "|order_item_id|order_item_order_id|order_item_product_id|order_item_quantity|order_item_subtotal|order_item_product_price|\n",
      "+-------------+-------------------+---------------------+-------------------+-------------------+------------------------+\n",
      "|            2|                  2|                 1073|                  1|             199.99|                  199.99|\n",
      "|            3|                  2|                  502|                  5|              250.0|                    50.0|\n",
      "|            4|                  2|                  403|                  1|             129.99|                  129.99|\n",
      "+-------------+-------------------+---------------------+-------------------+-------------------+------------------------+\n",
      "\n"
     ]
    }
   ],
   "source": [
    "order_items.filter(\"order_item_order_id = 2\").show()"
   ]
  },
  {
   "cell_type": "code",
   "execution_count": 16,
   "id": "ea1fa802",
   "metadata": {},
   "outputs": [
    {
     "name": "stdout",
     "output_type": "stream",
     "text": [
      "+-------------+\n",
      "|order_revenue|\n",
      "+-------------+\n",
      "|       579.98|\n",
      "+-------------+\n",
      "\n"
     ]
    }
   ],
   "source": [
    "order_items.filter(\"order_item_order_id == 2\").select(sum(\"order_item_subtotal\").alias(\"order_revenue\")).show()"
   ]
  },
  {
   "cell_type": "markdown",
   "id": "e9920fcd",
   "metadata": {},
   "source": [
    "* Get number of items, total quantity as well as revenue for a given order item order id\n",
    "    * Number of items can be computed using count on `order_item_quantity`.\n",
    "    * Total quantity can be computed using `sum` on `order_item_quantity`.\n",
    "    * Total revenue can be computed using `sum` on `order_item_subtotal`."
   ]
  },
  {
   "cell_type": "code",
   "execution_count": 17,
   "id": "fc163777",
   "metadata": {},
   "outputs": [
    {
     "name": "stdout",
     "output_type": "stream",
     "text": [
      "root\n",
      " |-- order_item_id: integer (nullable = true)\n",
      " |-- order_item_order_id: integer (nullable = true)\n",
      " |-- order_item_product_id: integer (nullable = true)\n",
      " |-- order_item_quantity: integer (nullable = true)\n",
      " |-- order_item_subtotal: double (nullable = true)\n",
      " |-- order_item_product_price: double (nullable = true)\n",
      "\n"
     ]
    }
   ],
   "source": [
    "order_items.printSchema()"
   ]
  },
  {
   "cell_type": "code",
   "execution_count": 18,
   "id": "0c991b09",
   "metadata": {},
   "outputs": [
    {
     "name": "stdout",
     "output_type": "stream",
     "text": [
      "+----------------+--------------+-------------+\n",
      "|order_item_count|order_quantity|order_revenue|\n",
      "+----------------+--------------+-------------+\n",
      "|               3|             7|       579.98|\n",
      "+----------------+--------------+-------------+\n",
      "\n"
     ]
    }
   ],
   "source": [
    "order_items.filter(\"order_item_order_id == 2\"). \\\n",
    "select(count(\"order_item_quantity\").alias(\"order_item_count\"), \\\n",
    "sum(\"order_item_quantity\").alias(\"order_quantity\"), \\\n",
    "sum(\"order_item_subtotal\").alias(\"order_revenue\")). \\\n",
    "show()"
   ]
  },
  {
   "cell_type": "markdown",
   "id": "0262dcd8",
   "metadata": {},
   "source": [
    "* Get the number of records in order_items"
   ]
  },
  {
   "cell_type": "code",
   "execution_count": 19,
   "id": "91ef28c9",
   "metadata": {},
   "outputs": [
    {
     "data": {
      "text/plain": [
       "172198"
      ]
     },
     "execution_count": 19,
     "metadata": {},
     "output_type": "execute_result"
    }
   ],
   "source": [
    "# Another approach\n",
    "# Function count on dataframe is an action, It will get triggered immediately\n",
    "order_items.count()"
   ]
  },
  {
   "cell_type": "code",
   "execution_count": 20,
   "id": "3f918680",
   "metadata": {},
   "outputs": [
    {
     "data": {
      "text/plain": [
       "int"
      ]
     },
     "execution_count": 20,
     "metadata": {},
     "output_type": "execute_result"
    }
   ],
   "source": [
    "type(order_items.count())"
   ]
  },
  {
   "cell_type": "code",
   "execution_count": 21,
   "id": "bdef229b",
   "metadata": {},
   "outputs": [
    {
     "data": {
      "text/plain": [
       "DataFrame[count(1): bigint]"
      ]
     },
     "execution_count": 21,
     "metadata": {},
     "output_type": "execute_result"
    }
   ],
   "source": [
    "# Create a DataFrame with this approach\n",
    "order_items.select(count(\"*\"))"
   ]
  },
  {
   "cell_type": "markdown",
   "id": "57b294cd",
   "metadata": {},
   "source": [
    "**NOTE:**\n",
    "\n",
    "* There are two ways to use count: 1. Action count 2. Dataframe count\n",
    "* In `action count`, you can call count method directly on dataframe, It will run immediately.\n",
    "* In `dataframe count`, you use select the count the records in dataframe, execution will be triggered once you call action method such as `show()`.\n",
    "* `count()` is a wide transformation."
   ]
  },
  {
   "cell_type": "markdown",
   "id": "6fce3553",
   "metadata": {},
   "source": [
    "#### GroupBy"
   ]
  },
  {
   "cell_type": "code",
   "execution_count": 22,
   "id": "bdc173b5",
   "metadata": {},
   "outputs": [
    {
     "name": "stdout",
     "output_type": "stream",
     "text": [
      "Help on method groupBy in module pyspark.sql.dataframe:\n",
      "\n",
      "groupBy(*cols) method of pyspark.sql.dataframe.DataFrame instance\n",
      "    Groups the :class:`DataFrame` using the specified columns,\n",
      "    so we can run aggregation on them. See :class:`GroupedData`\n",
      "    for all the available aggregate functions.\n",
      "    \n",
      "    :func:`groupby` is an alias for :func:`groupBy`.\n",
      "    \n",
      "    :param cols: list of columns to group by.\n",
      "        Each element should be a column name (string) or an expression (:class:`Column`).\n",
      "    \n",
      "    >>> df.groupBy().avg().collect()\n",
      "    [Row(avg(age)=3.5)]\n",
      "    >>> sorted(df.groupBy('name').agg({'age': 'mean'}).collect())\n",
      "    [Row(name='Alice', avg(age)=2.0), Row(name='Bob', avg(age)=5.0)]\n",
      "    >>> sorted(df.groupBy(df.name).avg().collect())\n",
      "    [Row(name='Alice', avg(age)=2.0), Row(name='Bob', avg(age)=5.0)]\n",
      "    >>> sorted(df.groupBy(['name', df.age]).count().collect())\n",
      "    [Row(name='Alice', age=2, count=1), Row(name='Bob', age=5, count=1)]\n",
      "    \n",
      "    .. versionadded:: 1.3\n",
      "\n"
     ]
    }
   ],
   "source": [
    "help(order_items.groupBy)"
   ]
  },
  {
   "cell_type": "code",
   "execution_count": 23,
   "id": "ac715883",
   "metadata": {},
   "outputs": [
    {
     "name": "stdout",
     "output_type": "stream",
     "text": [
      "+-------------+-------------------+---------------------+-------------------+-------------------+------------------------+\n",
      "|order_item_id|order_item_order_id|order_item_product_id|order_item_quantity|order_item_subtotal|order_item_product_price|\n",
      "+-------------+-------------------+---------------------+-------------------+-------------------+------------------------+\n",
      "|            1|                  1|                  957|                  1|             299.98|                  299.98|\n",
      "|            2|                  2|                 1073|                  1|             199.99|                  199.99|\n",
      "+-------------+-------------------+---------------------+-------------------+-------------------+------------------------+\n",
      "only showing top 2 rows\n",
      "\n"
     ]
    }
   ],
   "source": [
    "order_items.show(2)"
   ]
  },
  {
   "cell_type": "code",
   "execution_count": 24,
   "id": "8b62f528",
   "metadata": {},
   "outputs": [
    {
     "name": "stdout",
     "output_type": "stream",
     "text": [
      "+------------------+------------------------+--------------------------+------------------------+------------------------+-----------------------------+\n",
      "|min(order_item_id)|min(order_item_order_id)|min(order_item_product_id)|min(order_item_quantity)|min(order_item_subtotal)|min(order_item_product_price)|\n",
      "+------------------+------------------------+--------------------------+------------------------+------------------------+-----------------------------+\n",
      "|                 1|                       1|                        19|                       1|                    9.99|                         9.99|\n",
      "+------------------+------------------------+--------------------------+------------------------+------------------------+-----------------------------+\n",
      "\n"
     ]
    }
   ],
   "source": [
    "order_items.groupBy().min().show()"
   ]
  },
  {
   "cell_type": "code",
   "execution_count": 25,
   "id": "b54d1821",
   "metadata": {},
   "outputs": [
    {
     "data": {
      "text/plain": [
       "[('order_id', 'int'),\n",
       " ('order_date', 'string'),\n",
       " ('order_customer_id', 'int'),\n",
       " ('order_status', 'string')]"
      ]
     },
     "execution_count": 25,
     "metadata": {},
     "output_type": "execute_result"
    }
   ],
   "source": [
    "orders.dtypes"
   ]
  },
  {
   "cell_type": "code",
   "execution_count": 26,
   "id": "d66ca713",
   "metadata": {},
   "outputs": [
    {
     "name": "stdout",
     "output_type": "stream",
     "text": [
      "+-------------+----------------------+\n",
      "|min(order_id)|min(order_customer_id)|\n",
      "+-------------+----------------------+\n",
      "|            1|                     1|\n",
      "+-------------+----------------------+\n",
      "\n"
     ]
    }
   ],
   "source": [
    "orders.groupBy().min().show()"
   ]
  },
  {
   "cell_type": "markdown",
   "id": "1052bfab",
   "metadata": {},
   "source": [
    "#### Perform Grouped Aggregations using Direct Functions"
   ]
  },
  {
   "cell_type": "code",
   "execution_count": 27,
   "id": "1bf25d2b",
   "metadata": {},
   "outputs": [],
   "source": [
    "order_item_grouped = order_items.groupBy('order_item_order_id')"
   ]
  },
  {
   "cell_type": "code",
   "execution_count": 29,
   "id": "fb02e7ce",
   "metadata": {},
   "outputs": [
    {
     "data": {
      "text/plain": [
       "pyspark.sql.group.GroupedData"
      ]
     },
     "execution_count": 29,
     "metadata": {},
     "output_type": "execute_result"
    }
   ],
   "source": [
    "type(order_item_grouped)"
   ]
  },
  {
   "cell_type": "code",
   "execution_count": 30,
   "id": "5535e246",
   "metadata": {},
   "outputs": [
    {
     "name": "stdout",
     "output_type": "stream",
     "text": [
      "+-------------------+-----+\n",
      "|order_item_order_id|count|\n",
      "+-------------------+-----+\n",
      "|                148|    3|\n",
      "|                463|    4|\n",
      "|                471|    2|\n",
      "|                496|    5|\n",
      "|               1088|    2|\n",
      "|               1580|    1|\n",
      "|               1591|    3|\n",
      "|               1645|    5|\n",
      "|               2366|    1|\n",
      "|               2659|    5|\n",
      "|               2866|    4|\n",
      "|               3175|    2|\n",
      "|               3749|    1|\n",
      "|               3794|    1|\n",
      "|               3918|    4|\n",
      "|               3997|    2|\n",
      "|               4101|    1|\n",
      "|               4519|    1|\n",
      "|               4818|    1|\n",
      "|               4900|    2|\n",
      "+-------------------+-----+\n",
      "only showing top 20 rows\n",
      "\n"
     ]
    }
   ],
   "source": [
    "order_item_grouped.count().show()"
   ]
  },
  {
   "cell_type": "code",
   "execution_count": 33,
   "id": "29f24e53",
   "metadata": {},
   "outputs": [
    {
     "data": {
      "text/plain": [
       "[('order_item_id', 'int'),\n",
       " ('order_item_order_id', 'int'),\n",
       " ('order_item_product_id', 'int'),\n",
       " ('order_item_quantity', 'int'),\n",
       " ('order_item_subtotal', 'double'),\n",
       " ('order_item_product_price', 'double')]"
      ]
     },
     "execution_count": 33,
     "metadata": {},
     "output_type": "execute_result"
    }
   ],
   "source": [
    "order_items.dtypes"
   ]
  },
  {
   "cell_type": "code",
   "execution_count": 31,
   "id": "7dfc1ad3",
   "metadata": {},
   "outputs": [
    {
     "name": "stdout",
     "output_type": "stream",
     "text": [
      "+-------------------+------------------+------------------------+--------------------------+------------------------+------------------------+-----------------------------+\n",
      "|order_item_order_id|sum(order_item_id)|sum(order_item_order_id)|sum(order_item_product_id)|sum(order_item_quantity)|sum(order_item_subtotal)|sum(order_item_product_price)|\n",
      "+-------------------+------------------+------------------------+--------------------------+------------------------+------------------------+-----------------------------+\n",
      "|                148|              1047|                     444|                      1407|                       8|                  479.99|                       229.99|\n",
      "|                463|              4522|                    1852|                      1685|                      13|       829.9200000000001|           249.97000000000003|\n",
      "|                471|              2307|                     942|                      1030|                       2|      169.98000000000002|           169.98000000000002|\n",
      "|                496|              6125|                    2480|                      3105|                       7|      441.95000000000005|           341.95000000000005|\n",
      "|               1088|              5407|                    2176|                       768|                       3|      249.97000000000003|           189.98000000000002|\n",
      "|               1580|              3944|                    1580|                        44|                       5|                  299.95|                        59.99|\n",
      "|               1591|             11907|                    4773|                      2268|                      10|                  439.86|                       129.96|\n",
      "|               1645|             20505|                    8225|                      3840|                      14|      1509.7900000000002|            989.9200000000001|\n",
      "|               2366|              5921|                    2366|                       191|                       3|                  299.97|                        99.99|\n",
      "|               2659|             33325|                   13295|                      4625|                       8|       724.9100000000001|            624.9300000000001|\n",
      "|               2866|             28734|                   11464|                      2489|                       5|                  569.96|                       519.96|\n",
      "|               3175|             15807|                    6350|                       929|                       4|                  209.97|            89.99000000000001|\n",
      "|               3749|              9324|                    3749|                       818|                       3|                  143.97|                        47.99|\n",
      "|               3794|              9446|                    3794|                       365|                       5|                  299.95|                        59.99|\n",
      "|               3918|             38986|                   15672|                      2277|                       9|       829.9300000000001|           489.96000000000004|\n",
      "|               3997|             19861|                    7994|                      1369|                       4|                  579.95|                       459.97|\n",
      "|               4101|             10222|                    4101|                       403|                       1|                  129.99|                       129.99|\n",
      "|               4519|             11321|                    4519|                       627|                       2|                   79.98|                        39.99|\n",
      "|               4818|             12056|                    4818|                      1004|                       1|                  399.98|                       399.98|\n",
      "|               4900|             24527|                    9800|                      1417|                       2|                  179.97|                       179.97|\n",
      "+-------------------+------------------+------------------------+--------------------------+------------------------+------------------------+-----------------------------+\n",
      "only showing top 20 rows\n",
      "\n"
     ]
    }
   ],
   "source": [
    "# Get sum of all numeric fields\n",
    "order_item_grouped. \\\n",
    "sum().show()"
   ]
  },
  {
   "cell_type": "code",
   "execution_count": 34,
   "id": "c29600c3",
   "metadata": {},
   "outputs": [
    {
     "name": "stdout",
     "output_type": "stream",
     "text": [
      "root\n",
      " |-- order_id: integer (nullable = true)\n",
      " |-- order_date: string (nullable = true)\n",
      " |-- order_customer_id: integer (nullable = true)\n",
      " |-- order_status: string (nullable = true)\n",
      "\n"
     ]
    }
   ],
   "source": [
    "orders.printSchema()"
   ]
  },
  {
   "cell_type": "code",
   "execution_count": 35,
   "id": "da761758",
   "metadata": {},
   "outputs": [
    {
     "name": "stdout",
     "output_type": "stream",
     "text": [
      "+--------------------+-------------+----------------------+\n",
      "|          order_date|sum(order_id)|sum(order_customer_id)|\n",
      "+--------------------+-------------+----------------------+\n",
      "|2013-08-13 00:00:...|       916059|                459650|\n",
      "|2013-10-12 00:00:...|      3370470|               1002372|\n",
      "|2013-11-15 00:00:...|      3349122|                820656|\n",
      "|2014-03-19 00:00:...|      5940291|                816861|\n",
      "|2014-04-26 00:00:...|     11823779|               1546739|\n",
      "|2013-09-16 00:00:...|      3418732|                795738|\n",
      "|2013-09-20 00:00:...|      2247287|                851705|\n",
      "|2013-12-31 00:00:...|      7838750|               1619361|\n",
      "|2013-09-06 00:00:...|      4111583|               1692297|\n",
      "|2014-06-15 00:00:...|      6940631|                827674|\n",
      "|2013-12-24 00:00:...|      4918816|               1089616|\n",
      "|2014-01-07 00:00:...|      4765725|               1017046|\n",
      "|2014-06-07 00:00:...|     10238004|               1185855|\n",
      "|2013-10-14 00:00:...|      3535766|                874047|\n",
      "|2013-11-11 00:00:...|      5423151|               1596396|\n",
      "|2014-01-27 00:00:...|      6149370|               1040337|\n",
      "|2014-01-29 00:00:...|      6369973|                976249|\n",
      "|2014-02-14 00:00:...|      7038749|               1095116|\n",
      "|2014-04-15 00:00:...|      8749041|               1196706|\n",
      "|2014-04-22 00:00:...|      6911479|                850551|\n",
      "+--------------------+-------------+----------------------+\n",
      "only showing top 20 rows\n",
      "\n"
     ]
    }
   ],
   "source": [
    "# Get sum of all numeric fields\n",
    "# Ignored order_date and order_status as they are not numeric fields\n",
    "orders. \\\n",
    "groupBy('order_date'). \\\n",
    "sum(). \\\n",
    "show()"
   ]
  },
  {
   "cell_type": "code",
   "execution_count": 36,
   "id": "70bf619f",
   "metadata": {},
   "outputs": [],
   "source": [
    "order_items_grouped = order_items. \\\n",
    "select('order_item_order_id', 'order_item_quantity', 'order_item_subtotal'). \\\n",
    "groupBy('order_item_order_id')"
   ]
  },
  {
   "cell_type": "code",
   "execution_count": 37,
   "id": "a319cb71",
   "metadata": {},
   "outputs": [
    {
     "name": "stdout",
     "output_type": "stream",
     "text": [
      "Help on method sum in module pyspark.sql.group:\n",
      "\n",
      "sum(*cols) method of pyspark.sql.group.GroupedData instance\n",
      "    Compute the sum for each numeric columns for each group.\n",
      "    \n",
      "    :param cols: list of column names (string). Non-numeric columns are ignored.\n",
      "    \n",
      "    >>> df.groupBy().sum('age').collect()\n",
      "    [Row(sum(age)=7)]\n",
      "    >>> df3.groupBy().sum('age', 'height').collect()\n",
      "    [Row(sum(age)=7, sum(height)=165)]\n",
      "    \n",
      "    .. versionadded:: 1.3\n",
      "\n"
     ]
    }
   ],
   "source": [
    "help(order_items_grouped.sum)"
   ]
  },
  {
   "cell_type": "code",
   "execution_count": 38,
   "id": "7e61c4f3",
   "metadata": {},
   "outputs": [
    {
     "name": "stdout",
     "output_type": "stream",
     "text": [
      "+-------------------+------------------------+------------------------+------------------------+\n",
      "|order_item_order_id|sum(order_item_order_id)|sum(order_item_quantity)|sum(order_item_subtotal)|\n",
      "+-------------------+------------------------+------------------------+------------------------+\n",
      "|                148|                     444|                       8|                  479.99|\n",
      "|                463|                    1852|                      13|       829.9200000000001|\n",
      "|                471|                     942|                       2|      169.98000000000002|\n",
      "|                496|                    2480|                       7|      441.95000000000005|\n",
      "|               1088|                    2176|                       3|      249.97000000000003|\n",
      "|               1580|                    1580|                       5|                  299.95|\n",
      "|               1591|                    4773|                      10|                  439.86|\n",
      "|               1645|                    8225|                      14|      1509.7900000000002|\n",
      "|               2366|                    2366|                       3|                  299.97|\n",
      "|               2659|                   13295|                       8|       724.9100000000001|\n",
      "|               2866|                   11464|                       5|                  569.96|\n",
      "|               3175|                    6350|                       4|                  209.97|\n",
      "|               3749|                    3749|                       3|                  143.97|\n",
      "|               3794|                    3794|                       5|                  299.95|\n",
      "|               3918|                   15672|                       9|       829.9300000000001|\n",
      "|               3997|                    7994|                       4|                  579.95|\n",
      "|               4101|                    4101|                       1|                  129.99|\n",
      "|               4519|                    4519|                       2|                   79.98|\n",
      "|               4818|                    4818|                       1|                  399.98|\n",
      "|               4900|                    9800|                       2|                  179.97|\n",
      "+-------------------+------------------------+------------------------+------------------------+\n",
      "only showing top 20 rows\n",
      "\n"
     ]
    }
   ],
   "source": [
    "order_items_grouped. \\\n",
    "sum(). \\\n",
    "show()"
   ]
  },
  {
   "cell_type": "code",
   "execution_count": 39,
   "id": "cd7a4afd",
   "metadata": {},
   "outputs": [
    {
     "name": "stdout",
     "output_type": "stream",
     "text": [
      "+-------------------+------------------------+------------------------+\n",
      "|order_item_order_id|sum(order_item_quantity)|sum(order_item_subtotal)|\n",
      "+-------------------+------------------------+------------------------+\n",
      "|                148|                       8|                  479.99|\n",
      "|                463|                      13|       829.9200000000001|\n",
      "|                471|                       2|      169.98000000000002|\n",
      "|                496|                       7|      441.95000000000005|\n",
      "|               1088|                       3|      249.97000000000003|\n",
      "|               1580|                       5|                  299.95|\n",
      "|               1591|                      10|                  439.86|\n",
      "|               1645|                      14|      1509.7900000000002|\n",
      "|               2366|                       3|                  299.97|\n",
      "|               2659|                       8|       724.9100000000001|\n",
      "|               2866|                       5|                  569.96|\n",
      "|               3175|                       4|                  209.97|\n",
      "|               3749|                       3|                  143.97|\n",
      "|               3794|                       5|                  299.95|\n",
      "|               3918|                       9|       829.9300000000001|\n",
      "|               3997|                       4|                  579.95|\n",
      "|               4101|                       1|                  129.99|\n",
      "|               4519|                       2|                   79.98|\n",
      "|               4818|                       1|                  399.98|\n",
      "|               4900|                       2|                  179.97|\n",
      "+-------------------+------------------------+------------------------+\n",
      "only showing top 20 rows\n",
      "\n"
     ]
    }
   ],
   "source": [
    "# Consider only order_item_quantity and order_item_subtotal\n",
    "order_items_grouped. \\\n",
    "sum('order_item_quantity', 'order_item_subtotal'). \\\n",
    "show()"
   ]
  },
  {
   "cell_type": "code",
   "execution_count": 44,
   "id": "63b44fbe",
   "metadata": {},
   "outputs": [
    {
     "name": "stdout",
     "output_type": "stream",
     "text": [
      "+-------------------+--------------+-------------+\n",
      "|order_item_order_id|order_quantity|order_revenue|\n",
      "+-------------------+--------------+-------------+\n",
      "|                148|             8|       479.99|\n",
      "|                463|            13|       829.92|\n",
      "|                471|             2|       169.98|\n",
      "|                496|             7|       441.95|\n",
      "|               1088|             3|       249.97|\n",
      "|               1580|             5|       299.95|\n",
      "|               1591|            10|       439.86|\n",
      "|               1645|            14|      1509.79|\n",
      "|               2366|             3|       299.97|\n",
      "|               2659|             8|       724.91|\n",
      "|               2866|             5|       569.96|\n",
      "|               3175|             4|       209.97|\n",
      "|               3749|             3|       143.97|\n",
      "|               3794|             5|       299.95|\n",
      "|               3918|             9|       829.93|\n",
      "|               3997|             4|       579.95|\n",
      "|               4101|             1|       129.99|\n",
      "|               4519|             2|        79.98|\n",
      "|               4818|             1|       399.98|\n",
      "|               4900|             2|       179.97|\n",
      "+-------------------+--------------+-------------+\n",
      "only showing top 20 rows\n",
      "\n"
     ]
    }
   ],
   "source": [
    "order_items_grouped. \\\n",
    "sum('order_item_quantity', 'order_item_subtotal'). \\\n",
    "toDF('order_item_order_id', 'order_quantity', 'order_revenue'). \\\n",
    "withColumn('order_revenue', round('order_revenue', 2)). \\\n",
    "show()"
   ]
  },
  {
   "cell_type": "markdown",
   "id": "2a7b1f9f",
   "metadata": {},
   "source": [
    "#### Perform Grouped Aggregations using Agg Functions\n",
    "\n",
    "If you want to perform many aggregations like min, sum, max etc simpultaneously you won't be able to do it based on above method, Instead you have to use `agg()`"
   ]
  },
  {
   "cell_type": "code",
   "execution_count": 45,
   "id": "8b539ae0",
   "metadata": {},
   "outputs": [
    {
     "name": "stdout",
     "output_type": "stream",
     "text": [
      "Help on method agg in module pyspark.sql.group:\n",
      "\n",
      "agg(*exprs) method of pyspark.sql.group.GroupedData instance\n",
      "    Compute aggregates and returns the result as a :class:`DataFrame`.\n",
      "    \n",
      "    The available aggregate functions can be:\n",
      "    \n",
      "    1. built-in aggregation functions, such as `avg`, `max`, `min`, `sum`, `count`\n",
      "    \n",
      "    2. group aggregate pandas UDFs, created with :func:`pyspark.sql.functions.pandas_udf`\n",
      "    \n",
      "       .. note:: There is no partial aggregation with group aggregate UDFs, i.e.,\n",
      "           a full shuffle is required. Also, all the data of a group will be loaded into\n",
      "           memory, so the user should be aware of the potential OOM risk if data is skewed\n",
      "           and certain groups are too large to fit in memory.\n",
      "    \n",
      "       .. seealso:: :func:`pyspark.sql.functions.pandas_udf`\n",
      "    \n",
      "    If ``exprs`` is a single :class:`dict` mapping from string to string, then the key\n",
      "    is the column to perform aggregation on, and the value is the aggregate function.\n",
      "    \n",
      "    Alternatively, ``exprs`` can also be a list of aggregate :class:`Column` expressions.\n",
      "    \n",
      "    .. note:: Built-in aggregation functions and group aggregate pandas UDFs cannot be mixed\n",
      "        in a single call to this function.\n",
      "    \n",
      "    :param exprs: a dict mapping from column name (string) to aggregate functions (string),\n",
      "        or a list of :class:`Column`.\n",
      "    \n",
      "    >>> gdf = df.groupBy(df.name)\n",
      "    >>> sorted(gdf.agg({\"*\": \"count\"}).collect())\n",
      "    [Row(name='Alice', count(1)=1), Row(name='Bob', count(1)=1)]\n",
      "    \n",
      "    >>> from pyspark.sql import functions as F\n",
      "    >>> sorted(gdf.agg(F.min(df.age)).collect())\n",
      "    [Row(name='Alice', min(age)=2), Row(name='Bob', min(age)=5)]\n",
      "    \n",
      "    >>> from pyspark.sql.functions import pandas_udf, PandasUDFType\n",
      "    >>> @pandas_udf('int', PandasUDFType.GROUPED_AGG)  # doctest: +SKIP\n",
      "    ... def min_udf(v):\n",
      "    ...     return v.min()\n",
      "    >>> sorted(gdf.agg(min_udf(df.age)).collect())  # doctest: +SKIP\n",
      "    [Row(name='Alice', min_udf(age)=2), Row(name='Bob', min_udf(age)=5)]\n",
      "    \n",
      "    .. versionadded:: 1.3\n",
      "\n"
     ]
    }
   ],
   "source": [
    "help(order_items_grouped.agg)"
   ]
  },
  {
   "cell_type": "code",
   "execution_count": 46,
   "id": "05af6109",
   "metadata": {},
   "outputs": [
    {
     "name": "stdout",
     "output_type": "stream",
     "text": [
      "root\n",
      " |-- order_item_order_id: integer (nullable = true)\n",
      " |-- sum(order_item_quantity): long (nullable = true)\n",
      " |-- sum(order_item_subtotal): double (nullable = true)\n",
      "\n"
     ]
    }
   ],
   "source": [
    "order_item_grouped. \\\n",
    "agg(sum('order_item_quantity'), sum('order_item_subtotal')). \\\n",
    "printSchema()"
   ]
  },
  {
   "cell_type": "code",
   "execution_count": 47,
   "id": "736653d9",
   "metadata": {},
   "outputs": [
    {
     "name": "stdout",
     "output_type": "stream",
     "text": [
      "+-------------------+------------------------+------------------------+\n",
      "|order_item_order_id|sum(order_item_quantity)|sum(order_item_subtotal)|\n",
      "+-------------------+------------------------+------------------------+\n",
      "|                148|                       8|                  479.99|\n",
      "|                463|                      13|       829.9200000000001|\n",
      "|                471|                       2|      169.98000000000002|\n",
      "|                496|                       7|      441.95000000000005|\n",
      "|               1088|                       3|      249.97000000000003|\n",
      "|               1580|                       5|                  299.95|\n",
      "|               1591|                      10|                  439.86|\n",
      "|               1645|                      14|      1509.7900000000002|\n",
      "|               2366|                       3|                  299.97|\n",
      "|               2659|                       8|       724.9100000000001|\n",
      "|               2866|                       5|                  569.96|\n",
      "|               3175|                       4|                  209.97|\n",
      "|               3749|                       3|                  143.97|\n",
      "|               3794|                       5|                  299.95|\n",
      "|               3918|                       9|       829.9300000000001|\n",
      "|               3997|                       4|                  579.95|\n",
      "|               4101|                       1|                  129.99|\n",
      "|               4519|                       2|                   79.98|\n",
      "|               4818|                       1|                  399.98|\n",
      "|               4900|                       2|                  179.97|\n",
      "+-------------------+------------------------+------------------------+\n",
      "only showing top 20 rows\n",
      "\n"
     ]
    }
   ],
   "source": [
    "order_item_grouped. \\\n",
    "agg(sum('order_item_quantity'), sum('order_item_subtotal')). \\\n",
    "show()"
   ]
  },
  {
   "cell_type": "code",
   "execution_count": 48,
   "id": "e435f908",
   "metadata": {},
   "outputs": [
    {
     "name": "stdout",
     "output_type": "stream",
     "text": [
      "+-------------------+--------------+-------------+\n",
      "|order_item_order_id|order_quantity|order_revenue|\n",
      "+-------------------+--------------+-------------+\n",
      "|                148|             8|       479.99|\n",
      "|                463|            13|       829.92|\n",
      "|                471|             2|       169.98|\n",
      "|                496|             7|       441.95|\n",
      "|               1088|             3|       249.97|\n",
      "|               1580|             5|       299.95|\n",
      "|               1591|            10|       439.86|\n",
      "|               1645|            14|      1509.79|\n",
      "|               2366|             3|       299.97|\n",
      "|               2659|             8|       724.91|\n",
      "|               2866|             5|       569.96|\n",
      "|               3175|             4|       209.97|\n",
      "|               3749|             3|       143.97|\n",
      "|               3794|             5|       299.95|\n",
      "|               3918|             9|       829.93|\n",
      "|               3997|             4|       579.95|\n",
      "|               4101|             1|       129.99|\n",
      "|               4519|             2|        79.98|\n",
      "|               4818|             1|       399.98|\n",
      "|               4900|             2|       179.97|\n",
      "+-------------------+--------------+-------------+\n",
      "only showing top 20 rows\n",
      "\n"
     ]
    }
   ],
   "source": [
    "# With agg(), we can use alias and round as well\n",
    "order_item_grouped. \\\n",
    "agg(sum('order_item_quantity').alias('order_quantity'), round(sum('order_item_subtotal'), 2).alias('order_revenue')). \\\n",
    "show()"
   ]
  },
  {
   "cell_type": "code",
   "execution_count": 49,
   "id": "2c981b60",
   "metadata": {},
   "outputs": [
    {
     "name": "stdout",
     "output_type": "stream",
     "text": [
      "+-------------------+------------------------+------------------------+\n",
      "|order_item_order_id|sum(order_item_subtotal)|sum(order_item_quantity)|\n",
      "+-------------------+------------------------+------------------------+\n",
      "|                148|                  479.99|                       8|\n",
      "|                463|       829.9200000000001|                      13|\n",
      "|                471|      169.98000000000002|                       2|\n",
      "|                496|      441.95000000000005|                       7|\n",
      "|               1088|      249.97000000000003|                       3|\n",
      "|               1580|                  299.95|                       5|\n",
      "|               1591|                  439.86|                      10|\n",
      "|               1645|      1509.7900000000002|                      14|\n",
      "|               2366|                  299.97|                       3|\n",
      "|               2659|       724.9100000000001|                       8|\n",
      "|               2866|                  569.96|                       5|\n",
      "|               3175|                  209.97|                       4|\n",
      "|               3749|                  143.97|                       3|\n",
      "|               3794|                  299.95|                       5|\n",
      "|               3918|       829.9300000000001|                       9|\n",
      "|               3997|                  579.95|                       4|\n",
      "|               4101|                  129.99|                       1|\n",
      "|               4519|                   79.98|                       2|\n",
      "|               4818|                  399.98|                       1|\n",
      "|               4900|                  179.97|                       2|\n",
      "+-------------------+------------------------+------------------------+\n",
      "only showing top 20 rows\n",
      "\n"
     ]
    }
   ],
   "source": [
    "# No round off in this approach\n",
    "order_item_grouped. \\\n",
    "agg({'order_item_quantity': 'sum', 'order_item_subtotal': 'sum'}). \\\n",
    "show()"
   ]
  },
  {
   "cell_type": "code",
   "execution_count": 51,
   "id": "db9dc290",
   "metadata": {},
   "outputs": [
    {
     "name": "stdout",
     "output_type": "stream",
     "text": [
      "+-------------------+-------------+--------------+\n",
      "|order_item_order_id|order_revenue|order_quantity|\n",
      "+-------------------+-------------+--------------+\n",
      "|                148|       479.99|             8|\n",
      "|                463|       829.92|            13|\n",
      "|                471|       169.98|             2|\n",
      "|                496|       441.95|             7|\n",
      "|               1088|       249.97|             3|\n",
      "|               1580|       299.95|             5|\n",
      "|               1591|       439.86|            10|\n",
      "|               1645|      1509.79|            14|\n",
      "|               2366|       299.97|             3|\n",
      "|               2659|       724.91|             8|\n",
      "|               2866|       569.96|             5|\n",
      "|               3175|       209.97|             4|\n",
      "|               3749|       143.97|             3|\n",
      "|               3794|       299.95|             5|\n",
      "|               3918|       829.93|             9|\n",
      "|               3997|       579.95|             4|\n",
      "|               4101|       129.99|             1|\n",
      "|               4519|        79.98|             2|\n",
      "|               4818|       399.98|             1|\n",
      "|               4900|       179.97|             2|\n",
      "+-------------------+-------------+--------------+\n",
      "only showing top 20 rows\n",
      "\n"
     ]
    }
   ],
   "source": [
    "order_item_grouped. \\\n",
    "agg({'order_item_quantity': 'sum', 'order_item_subtotal': 'sum'}). \\\n",
    "toDF('order_item_order_id', 'order_revenue', 'order_quantity'). \\\n",
    "withColumn('order_revenue', round('order_revenue', 2)). \\\n",
    "show()"
   ]
  },
  {
   "cell_type": "code",
   "execution_count": 52,
   "id": "506f73c6",
   "metadata": {},
   "outputs": [
    {
     "name": "stdout",
     "output_type": "stream",
     "text": [
      "+-------------------+------------------------+\n",
      "|order_item_order_id|min(order_item_quantity)|\n",
      "+-------------------+------------------------+\n",
      "|                148|                       1|\n",
      "|                463|                       1|\n",
      "|                471|                       1|\n",
      "|                496|                       1|\n",
      "|               1088|                       1|\n",
      "|               1580|                       5|\n",
      "|               1591|                       1|\n",
      "|               1645|                       1|\n",
      "|               2366|                       3|\n",
      "|               2659|                       1|\n",
      "|               2866|                       1|\n",
      "|               3175|                       1|\n",
      "|               3749|                       3|\n",
      "|               3794|                       5|\n",
      "|               3918|                       1|\n",
      "|               3997|                       1|\n",
      "|               4101|                       1|\n",
      "|               4519|                       2|\n",
      "|               4818|                       1|\n",
      "|               4900|                       1|\n",
      "+-------------------+------------------------+\n",
      "only showing top 20 rows\n",
      "\n"
     ]
    }
   ],
   "source": [
    "# Won't give both - sum and min, Keys should be unique in dict\n",
    "order_item_grouped. \\\n",
    "agg({'order_item_quantity': 'sum', 'order_item_quantity': 'min'}). \\\n",
    "show()"
   ]
  },
  {
   "cell_type": "code",
   "execution_count": 53,
   "id": "ee81d809",
   "metadata": {},
   "outputs": [
    {
     "name": "stdout",
     "output_type": "stream",
     "text": [
      "+-------------------+--------------+------------------+-------------+\n",
      "|order_item_order_id|order_quantity|min_order_quantity|order_revenue|\n",
      "+-------------------+--------------+------------------+-------------+\n",
      "|                148|             8|                 1|       479.99|\n",
      "|                463|            13|                 1|       829.92|\n",
      "|                471|             2|                 1|       169.98|\n",
      "|                496|             7|                 1|       441.95|\n",
      "|               1088|             3|                 1|       249.97|\n",
      "|               1580|             5|                 5|       299.95|\n",
      "|               1591|            10|                 1|       439.86|\n",
      "|               1645|            14|                 1|      1509.79|\n",
      "|               2366|             3|                 3|       299.97|\n",
      "|               2659|             8|                 1|       724.91|\n",
      "|               2866|             5|                 1|       569.96|\n",
      "|               3175|             4|                 1|       209.97|\n",
      "|               3749|             3|                 3|       143.97|\n",
      "|               3794|             5|                 5|       299.95|\n",
      "|               3918|             9|                 1|       829.93|\n",
      "|               3997|             4|                 1|       579.95|\n",
      "|               4101|             1|                 1|       129.99|\n",
      "|               4519|             2|                 2|        79.98|\n",
      "|               4818|             1|                 1|       399.98|\n",
      "|               4900|             2|                 1|       179.97|\n",
      "+-------------------+--------------+------------------+-------------+\n",
      "only showing top 20 rows\n",
      "\n"
     ]
    }
   ],
   "source": [
    "# Use this approach\n",
    "order_item_grouped. \\\n",
    "agg( \\\n",
    "    sum('order_item_quantity').alias('order_quantity'), \n",
    "    min('order_item_quantity').alias('min_order_quantity'),\n",
    "    round(sum('order_item_subtotal'), 2).alias('order_revenue')). \\\n",
    "show()"
   ]
  }
 ],
 "metadata": {
  "kernelspec": {
   "display_name": "Python 3 (ipykernel)",
   "language": "python",
   "name": "python3"
  },
  "language_info": {
   "codemirror_mode": {
    "name": "ipython",
    "version": 3
   },
   "file_extension": ".py",
   "mimetype": "text/x-python",
   "name": "python",
   "nbconvert_exporter": "python",
   "pygments_lexer": "ipython3",
   "version": "3.9.7"
  }
 },
 "nbformat": 4,
 "nbformat_minor": 5
}
