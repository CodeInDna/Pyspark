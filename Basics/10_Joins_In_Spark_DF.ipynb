{
 "cells": [
  {
   "cell_type": "markdown",
   "id": "aca335c6",
   "metadata": {},
   "source": [
    "## Joining Spark DataFrame"
   ]
  },
  {
   "cell_type": "code",
   "execution_count": 1,
   "id": "765f621f",
   "metadata": {},
   "outputs": [],
   "source": [
    "from pyspark.sql import SparkSession, Row\n",
    "from pyspark.sql.functions import *\n",
    "import datetime"
   ]
  },
  {
   "cell_type": "code",
   "execution_count": 2,
   "id": "ee8c89e1",
   "metadata": {},
   "outputs": [],
   "source": [
    "userName = 'CodeInDNA'\n",
    "spark = SparkSession. \\\n",
    "        builder. \\\n",
    "        appName(f'{userName} - JoinSparkDF'). \\\n",
    "        getOrCreate()"
   ]
  },
  {
   "cell_type": "code",
   "execution_count": 3,
   "id": "facf3ea1",
   "metadata": {},
   "outputs": [
    {
     "data": {
      "text/html": [
       "\n",
       "            <div>\n",
       "                <p><b>SparkSession - in-memory</b></p>\n",
       "                \n",
       "        <div>\n",
       "            <p><b>SparkContext</b></p>\n",
       "\n",
       "            <p><a href=\"http://DESKTOP-0V7FHTA:4040\">Spark UI</a></p>\n",
       "\n",
       "            <dl>\n",
       "              <dt>Version</dt>\n",
       "                <dd><code>v3.0.1</code></dd>\n",
       "              <dt>Master</dt>\n",
       "                <dd><code>local[*]</code></dd>\n",
       "              <dt>AppName</dt>\n",
       "                <dd><code>CodeInDNA - JoinSparkDF</code></dd>\n",
       "            </dl>\n",
       "        </div>\n",
       "        \n",
       "            </div>\n",
       "        "
      ],
      "text/plain": [
       "<pyspark.sql.session.SparkSession at 0x1e9c885afd0>"
      ]
     },
     "execution_count": 3,
     "metadata": {},
     "output_type": "execute_result"
    }
   ],
   "source": [
    "spark"
   ]
  },
  {
   "cell_type": "code",
   "execution_count": 4,
   "id": "1567acbc",
   "metadata": {},
   "outputs": [],
   "source": [
    "courses = [\n",
    "    {\n",
    "        'course_id': 1,\n",
    "        'course_title': 'Mastering Python',\n",
    "        'course_published_dt': datetime.date(2021, 1, 14),\n",
    "        'is_active': True,\n",
    "        'last_updated_ts': datetime.datetime(2021, 2, 18, 16, 57, 25)\n",
    "    },\n",
    "    {\n",
    "        'course_id': 2,\n",
    "        'course_title': 'Data Engineering Essentials',\n",
    "        'course_published_dt': datetime.date(2021, 2, 10),\n",
    "        'is_active': True,\n",
    "        'last_updated_ts': datetime.datetime(2021, 3, 5, 12, 7, 33)\n",
    "    },\n",
    "    {\n",
    "        'course_id': 3,\n",
    "        'course_title': 'Mastering PySpark',\n",
    "        'course_published_dt': datetime.date(2021, 1, 7),\n",
    "        'is_active': True,\n",
    "        'last_updated_ts': datetime.datetime(2021, 4, 6, 10, 5, 42)\n",
    "    },\n",
    "    {\n",
    "        'course_id': 4,\n",
    "        'course_title': 'AWS Essentials',\n",
    "        'course_published_dt': datetime.date(2021, 3, 19),\n",
    "        'is_active': False,\n",
    "        'last_updated_ts': datetime.datetime(2021, 4, 10, 2, 25, 36)\n",
    "    },\n",
    "    {\n",
    "        'course_id': 5,\n",
    "        'course_title': 'Docker 101',\n",
    "        'course_published_dt': datetime.date(2021, 2, 28),\n",
    "        'is_active': True,\n",
    "        'last_updated_ts': datetime.datetime(2021, 3, 21, 7, 18, 52)\n",
    "    },\n",
    "]"
   ]
  },
  {
   "cell_type": "code",
   "execution_count": 5,
   "id": "d9f47b79",
   "metadata": {},
   "outputs": [
    {
     "name": "stdout",
     "output_type": "stream",
     "text": [
      "+---------+--------------------+-------------------+---------+-------------------+\n",
      "|course_id|        course_title|course_published_dt|is_active|    last_updated_ts|\n",
      "+---------+--------------------+-------------------+---------+-------------------+\n",
      "|        1|    Mastering Python|         2021-01-14|     true|2021-02-18 16:57:25|\n",
      "|        2|Data Engineering ...|         2021-02-10|     true|2021-03-05 12:07:33|\n",
      "|        3|   Mastering PySpark|         2021-01-07|     true|2021-04-06 10:05:42|\n",
      "|        4|      AWS Essentials|         2021-03-19|    false|2021-04-10 02:25:36|\n",
      "|        5|          Docker 101|         2021-02-28|     true|2021-03-21 07:18:52|\n",
      "+---------+--------------------+-------------------+---------+-------------------+\n",
      "\n"
     ]
    }
   ],
   "source": [
    "courses_df = spark.createDataFrame([Row(**course) for course in courses])\n",
    "\n",
    "courses_df.show()"
   ]
  },
  {
   "cell_type": "code",
   "execution_count": 6,
   "id": "2091d8fc",
   "metadata": {},
   "outputs": [],
   "source": [
    "users = [{\n",
    "            \"user_id\": 1,\n",
    "            \"user_first_name\": \"Phoebe\",\n",
    "            \"user_last_name\": \"Buffay\",\n",
    "            \"user_email\": \"phoebebuffay@example.com\"\n",
    "        },\n",
    "        {\n",
    "            \"user_id\": 2,\n",
    "            \"user_first_name\": \"Joey\",\n",
    "            \"user_last_name\": \"Tribiyani\",\n",
    "            \"user_email\": \"joeytribiyani@example.com\"\n",
    "        },\n",
    "        {\n",
    "            \"user_id\": 3,\n",
    "            \"user_first_name\": \"Ross\",\n",
    "            \"user_last_name\": \"Geller\",\n",
    "            \"user_email\": \"rossgeller@example.com\"\n",
    "        },\n",
    "        {\n",
    "            \"user_id\": 4,\n",
    "            \"user_first_name\": \"Monica\",\n",
    "            \"user_last_name\": \"Geller\",\n",
    "            \"user_email\": \"monicageller@example.com\"\n",
    "        },\n",
    "        {\n",
    "            \"user_id\": 5,\n",
    "            \"user_first_name\": \"Chandler\",\n",
    "            \"user_last_name\": \"Bing\",\n",
    "            \"user_email\": \"chandlerbing@example.com\"\n",
    "        },\n",
    "        {\n",
    "            \"user_id\": 6,\n",
    "            \"user_first_name\": \"Sandra\",\n",
    "            \"user_last_name\": \"Sharma\",\n",
    "            \"user_email\": \"sandrasharma@example.com\"\n",
    "        },\n",
    "        {\n",
    "            \"user_id\": 7,\n",
    "            \"user_first_name\": \"Judit\",\n",
    "            \"user_last_name\": \"Stevenson\",\n",
    "            \"user_email\": \"juditstevenson@example.com\"\n",
    "        },\n",
    "        {\n",
    "            \"user_id\": 8,\n",
    "            \"user_first_name\": \"Jane\",\n",
    "            \"user_last_name\": \"Doe\",\n",
    "            \"user_email\": \"janedoe@example.com\"\n",
    "        },\n",
    "        {\n",
    "            \"user_id\": 9,\n",
    "            \"user_first_name\": \"Jerry\",\n",
    "            \"user_last_name\": \"Colt\",\n",
    "            \"user_email\": \"jerrycolt@example.com\"\n",
    "        },\n",
    "        {\n",
    "            \"user_id\": 10,\n",
    "            \"user_first_name\": \"Amiya\",\n",
    "            \"user_last_name\": \"Shetty\",\n",
    "            \"user_email\": \"amiyashetty@example.com\"\n",
    "        }\n",
    "]"
   ]
  },
  {
   "cell_type": "code",
   "execution_count": 7,
   "id": "1fb106aa",
   "metadata": {},
   "outputs": [
    {
     "name": "stdout",
     "output_type": "stream",
     "text": [
      "+-------+---------------+--------------+--------------------+\n",
      "|user_id|user_first_name|user_last_name|          user_email|\n",
      "+-------+---------------+--------------+--------------------+\n",
      "|      1|         Phoebe|        Buffay|phoebebuffay@exam...|\n",
      "|      2|           Joey|     Tribiyani|joeytribiyani@exa...|\n",
      "|      3|           Ross|        Geller|rossgeller@exampl...|\n",
      "|      4|         Monica|        Geller|monicageller@exam...|\n",
      "|      5|       Chandler|          Bing|chandlerbing@exam...|\n",
      "|      6|         Sandra|        Sharma|sandrasharma@exam...|\n",
      "|      7|          Judit|     Stevenson|juditstevenson@ex...|\n",
      "|      8|           Jane|           Doe| janedoe@example.com|\n",
      "|      9|          Jerry|          Colt|jerrycolt@example...|\n",
      "|     10|          Amiya|        Shetty|amiyashetty@examp...|\n",
      "+-------+---------------+--------------+--------------------+\n",
      "\n"
     ]
    }
   ],
   "source": [
    "users_df = spark.createDataFrame([Row(**user) for user in users])\n",
    "\n",
    "users_df.show()"
   ]
  },
  {
   "cell_type": "code",
   "execution_count": 8,
   "id": "0cae5655",
   "metadata": {},
   "outputs": [],
   "source": [
    "course_enrolments = [\n",
    "    {\n",
    "        \"course_enrolment_id\": 1,\n",
    "        \"user_id\": 10,\n",
    "        \"course_id\": 2,\n",
    "        \"price_pad\": 9.99\n",
    "    },\n",
    "    {\n",
    "        \"course_enrolment_id\": 2,\n",
    "        \"user_id\": 5,\n",
    "        \"course_id\": 2,\n",
    "        \"price_pad\": 9.99\n",
    "    },\n",
    "    {\n",
    "        \"course_enrolment_id\": 3,\n",
    "        \"user_id\": 7,\n",
    "        \"course_id\": 5,\n",
    "        \"price_pad\": 10.99\n",
    "    },\n",
    "    {\n",
    "        \"course_enrolment_id\": 4,\n",
    "        \"user_id\": 9,\n",
    "        \"course_id\": 2,\n",
    "        \"price_pad\": 9.99\n",
    "    },\n",
    "    {\n",
    "        \"course_enrolment_id\": 5,\n",
    "        \"user_id\": 8,\n",
    "        \"course_id\": 2,\n",
    "        \"price_pad\": 10.99\n",
    "    },\n",
    "    {\n",
    "        \"course_enrolment_id\": 6,\n",
    "        \"user_id\": 5,\n",
    "        \"course_id\": 5,\n",
    "        \"price_pad\": 10.99\n",
    "    },\n",
    "    {\n",
    "        \"course_enrolment_id\": 7,\n",
    "        \"user_id\": 4,\n",
    "        \"course_id\": 5,\n",
    "        \"price_pad\": 10.99\n",
    "    },\n",
    "    {\n",
    "        \"course_enrolment_id\": 8,\n",
    "        \"user_id\": 7,\n",
    "        \"course_id\": 3,\n",
    "        \"price_pad\": 10.99\n",
    "    },\n",
    "    {\n",
    "        \"course_enrolment_id\": 9,\n",
    "        \"user_id\": 8,\n",
    "        \"course_id\": 5,\n",
    "        \"price_pad\": 10.99\n",
    "    },\n",
    "    {\n",
    "        \"course_enrolment_id\": 10,\n",
    "        \"user_id\": 3,\n",
    "        \"course_id\": 3,\n",
    "        \"price_pad\": 10.99\n",
    "    },\n",
    "    {\n",
    "        \"course_enrolment_id\": 11,\n",
    "        \"user_id\": 7,\n",
    "        \"course_id\": 5,\n",
    "        \"price_pad\": 10.99\n",
    "    },\n",
    "    {\n",
    "        \"course_enrolment_id\": 12,\n",
    "        \"user_id\": 3,\n",
    "        \"course_id\": 2,\n",
    "        \"price_pad\": 9.99\n",
    "    },\n",
    "    {\n",
    "        \"course_enrolment_id\": 13,\n",
    "        \"user_id\": 5,\n",
    "        \"course_id\": 2,\n",
    "        \"price_pad\": 9.99\n",
    "    },\n",
    "    {\n",
    "        \"course_enrolment_id\": 14,\n",
    "        \"user_id\": 4,\n",
    "        \"course_id\": 3,\n",
    "        \"price_pad\": 10.99\n",
    "    },\n",
    "    {\n",
    "        \"course_enrolment_id\": 15,\n",
    "        \"user_id\": 8,\n",
    "        \"course_id\": 2,\n",
    "        \"price_pad\": 9.99\n",
    "    }\n",
    "]"
   ]
  },
  {
   "cell_type": "code",
   "execution_count": 9,
   "id": "2ef18d0d",
   "metadata": {},
   "outputs": [
    {
     "name": "stdout",
     "output_type": "stream",
     "text": [
      "+-------------------+-------+---------+---------+\n",
      "|course_enrolment_id|user_id|course_id|price_pad|\n",
      "+-------------------+-------+---------+---------+\n",
      "|                  1|     10|        2|     9.99|\n",
      "|                  2|      5|        2|     9.99|\n",
      "|                  3|      7|        5|    10.99|\n",
      "|                  4|      9|        2|     9.99|\n",
      "|                  5|      8|        2|    10.99|\n",
      "|                  6|      5|        5|    10.99|\n",
      "|                  7|      4|        5|    10.99|\n",
      "|                  8|      7|        3|    10.99|\n",
      "|                  9|      8|        5|    10.99|\n",
      "|                 10|      3|        3|    10.99|\n",
      "|                 11|      7|        5|    10.99|\n",
      "|                 12|      3|        2|     9.99|\n",
      "|                 13|      5|        2|     9.99|\n",
      "|                 14|      4|        3|    10.99|\n",
      "|                 15|      8|        2|     9.99|\n",
      "+-------------------+-------+---------+---------+\n",
      "\n"
     ]
    }
   ],
   "source": [
    "course_enrolment_df = spark.createDataFrame([Row(**ce) for ce in course_enrolments])\n",
    "\n",
    "course_enrolment_df.show()"
   ]
  },
  {
   "cell_type": "markdown",
   "id": "9a59ee7d",
   "metadata": {},
   "source": [
    "* **Inner Join** - Join or Inner Join\n",
    "* **Left or Right Outer Join**\n",
    "* **Full Outer Join** - **a left outer join b** union **a right outer join b**\n",
    "* **Cross Join**\n",
    "* Spark Data Frames have a function called `join`. It can be used to perform inner or outer or full outer join.\n",
    "* We need to specify **join condition** for inner or outer or full outer join."
   ]
  },
  {
   "cell_type": "code",
   "execution_count": 10,
   "id": "d96eba77",
   "metadata": {},
   "outputs": [
    {
     "name": "stdout",
     "output_type": "stream",
     "text": [
      "Help on method join in module pyspark.sql.dataframe:\n",
      "\n",
      "join(other, on=None, how=None) method of pyspark.sql.dataframe.DataFrame instance\n",
      "    Joins with another :class:`DataFrame`, using the given join expression.\n",
      "    \n",
      "    :param other: Right side of the join\n",
      "    :param on: a string for the join column name, a list of column names,\n",
      "        a join expression (Column), or a list of Columns.\n",
      "        If `on` is a string or a list of strings indicating the name of the join column(s),\n",
      "        the column(s) must exist on both sides, and this performs an equi-join.\n",
      "    :param how: str, default ``inner``. Must be one of: ``inner``, ``cross``, ``outer``,\n",
      "        ``full``, ``fullouter``, ``full_outer``, ``left``, ``leftouter``, ``left_outer``,\n",
      "        ``right``, ``rightouter``, ``right_outer``, ``semi``, ``leftsemi``, ``left_semi``,\n",
      "        ``anti``, ``leftanti`` and ``left_anti``.\n",
      "    \n",
      "    The following performs a full outer join between ``df1`` and ``df2``.\n",
      "    >>> from pyspark.sql.functions import desc\n",
      "    >>> df.join(df2, df.name == df2.name, 'outer').select(df.name, df2.height)                 .sort(desc(\"name\")).collect()\n",
      "    [Row(name='Bob', height=85), Row(name='Alice', height=None), Row(name=None, height=80)]\n",
      "    \n",
      "    >>> df.join(df2, 'name', 'outer').select('name', 'height').sort(desc(\"name\")).collect()\n",
      "    [Row(name='Tom', height=80), Row(name='Bob', height=85), Row(name='Alice', height=None)]\n",
      "    \n",
      "    >>> cond = [df.name == df3.name, df.age == df3.age]\n",
      "    >>> df.join(df3, cond, 'outer').select(df.name, df3.age).collect()\n",
      "    [Row(name='Alice', age=2), Row(name='Bob', age=5)]\n",
      "    \n",
      "    >>> df.join(df2, 'name').select(df.name, df2.height).collect()\n",
      "    [Row(name='Bob', height=85)]\n",
      "    \n",
      "    >>> df.join(df4, ['name', 'age']).select(df.name, df.age).collect()\n",
      "    [Row(name='Bob', age=5)]\n",
      "    \n",
      "    .. versionadded:: 1.3\n",
      "\n"
     ]
    }
   ],
   "source": [
    "help(courses_df.join)"
   ]
  },
  {
   "cell_type": "markdown",
   "id": "b1b1386a",
   "metadata": {},
   "source": [
    "* Get the user details who have enrolled for the courses.\n",
    "    * Need to join **users_df** and **course_enrolments_df**.\n",
    "    * Here are the fields that needs to be displayed.\n",
    "        * All fields from users_df\n",
    "        * course_id and course_enrolment_id from course_enrolments"
   ]
  },
  {
   "cell_type": "code",
   "execution_count": 11,
   "id": "375ef1c9",
   "metadata": {},
   "outputs": [
    {
     "name": "stdout",
     "output_type": "stream",
     "text": [
      "root\n",
      " |-- user_id: long (nullable = true)\n",
      " |-- user_first_name: string (nullable = true)\n",
      " |-- user_last_name: string (nullable = true)\n",
      " |-- user_email: string (nullable = true)\n",
      "\n"
     ]
    }
   ],
   "source": [
    "users_df.printSchema()"
   ]
  },
  {
   "cell_type": "code",
   "execution_count": 12,
   "id": "6f90eab0",
   "metadata": {},
   "outputs": [
    {
     "name": "stdout",
     "output_type": "stream",
     "text": [
      "root\n",
      " |-- course_enrolment_id: long (nullable = true)\n",
      " |-- user_id: long (nullable = true)\n",
      " |-- course_id: long (nullable = true)\n",
      " |-- price_pad: double (nullable = true)\n",
      "\n"
     ]
    }
   ],
   "source": [
    "course_enrolment_df.printSchema()"
   ]
  },
  {
   "cell_type": "code",
   "execution_count": 13,
   "id": "851101cc",
   "metadata": {},
   "outputs": [
    {
     "name": "stdout",
     "output_type": "stream",
     "text": [
      "+-------+---------------+--------------+--------------------+-------------------+-------+---------+---------+\n",
      "|user_id|user_first_name|user_last_name|          user_email|course_enrolment_id|user_id|course_id|price_pad|\n",
      "+-------+---------------+--------------+--------------------+-------------------+-------+---------+---------+\n",
      "|      7|          Judit|     Stevenson|juditstevenson@ex...|                  3|      7|        5|    10.99|\n",
      "|      7|          Judit|     Stevenson|juditstevenson@ex...|                  8|      7|        3|    10.99|\n",
      "|      7|          Judit|     Stevenson|juditstevenson@ex...|                 11|      7|        5|    10.99|\n",
      "|      9|          Jerry|          Colt|jerrycolt@example...|                  4|      9|        2|     9.99|\n",
      "|      5|       Chandler|          Bing|chandlerbing@exam...|                  2|      5|        2|     9.99|\n",
      "|      5|       Chandler|          Bing|chandlerbing@exam...|                  6|      5|        5|    10.99|\n",
      "|      5|       Chandler|          Bing|chandlerbing@exam...|                 13|      5|        2|     9.99|\n",
      "|     10|          Amiya|        Shetty|amiyashetty@examp...|                  1|     10|        2|     9.99|\n",
      "|      3|           Ross|        Geller|rossgeller@exampl...|                 10|      3|        3|    10.99|\n",
      "|      3|           Ross|        Geller|rossgeller@exampl...|                 12|      3|        2|     9.99|\n",
      "|      8|           Jane|           Doe| janedoe@example.com|                  5|      8|        2|    10.99|\n",
      "|      8|           Jane|           Doe| janedoe@example.com|                  9|      8|        5|    10.99|\n",
      "|      8|           Jane|           Doe| janedoe@example.com|                 15|      8|        2|     9.99|\n",
      "|      4|         Monica|        Geller|monicageller@exam...|                  7|      4|        5|    10.99|\n",
      "|      4|         Monica|        Geller|monicageller@exam...|                 14|      4|        3|    10.99|\n",
      "+-------+---------------+--------------+--------------------+-------------------+-------+---------+---------+\n",
      "\n"
     ]
    }
   ],
   "source": [
    "users_df.join(course_enrolment_df, users_df.user_id == course_enrolment_df.user_id).show()"
   ]
  },
  {
   "cell_type": "code",
   "execution_count": 14,
   "id": "d10955a6",
   "metadata": {},
   "outputs": [
    {
     "name": "stdout",
     "output_type": "stream",
     "text": [
      "+-------+---------------+--------------+--------------------+-------------------+---------+---------+\n",
      "|user_id|user_first_name|user_last_name|          user_email|course_enrolment_id|course_id|price_pad|\n",
      "+-------+---------------+--------------+--------------------+-------------------+---------+---------+\n",
      "|      7|          Judit|     Stevenson|juditstevenson@ex...|                  3|        5|    10.99|\n",
      "|      7|          Judit|     Stevenson|juditstevenson@ex...|                  8|        3|    10.99|\n",
      "|      7|          Judit|     Stevenson|juditstevenson@ex...|                 11|        5|    10.99|\n",
      "|      9|          Jerry|          Colt|jerrycolt@example...|                  4|        2|     9.99|\n",
      "|      5|       Chandler|          Bing|chandlerbing@exam...|                  2|        2|     9.99|\n",
      "|      5|       Chandler|          Bing|chandlerbing@exam...|                  6|        5|    10.99|\n",
      "|      5|       Chandler|          Bing|chandlerbing@exam...|                 13|        2|     9.99|\n",
      "|     10|          Amiya|        Shetty|amiyashetty@examp...|                  1|        2|     9.99|\n",
      "|      3|           Ross|        Geller|rossgeller@exampl...|                 10|        3|    10.99|\n",
      "|      3|           Ross|        Geller|rossgeller@exampl...|                 12|        2|     9.99|\n",
      "|      8|           Jane|           Doe| janedoe@example.com|                  5|        2|    10.99|\n",
      "|      8|           Jane|           Doe| janedoe@example.com|                  9|        5|    10.99|\n",
      "|      8|           Jane|           Doe| janedoe@example.com|                 15|        2|     9.99|\n",
      "|      4|         Monica|        Geller|monicageller@exam...|                  7|        5|    10.99|\n",
      "|      4|         Monica|        Geller|monicageller@exam...|                 14|        3|    10.99|\n",
      "+-------+---------------+--------------+--------------------+-------------------+---------+---------+\n",
      "\n"
     ]
    }
   ],
   "source": [
    "# Advantage: user_id is not repeated by using this method\n",
    "users_df.join(course_enrolment_df, on='user_id').show()"
   ]
  },
  {
   "cell_type": "code",
   "execution_count": 15,
   "id": "f24e86b6",
   "metadata": {},
   "outputs": [
    {
     "name": "stdout",
     "output_type": "stream",
     "text": [
      "+-------+---------------+--------------+--------------------+---------+-------------------+\n",
      "|user_id|user_first_name|user_last_name|          user_email|course_id|course_enrolment_id|\n",
      "+-------+---------------+--------------+--------------------+---------+-------------------+\n",
      "|      7|          Judit|     Stevenson|juditstevenson@ex...|        5|                  3|\n",
      "|      7|          Judit|     Stevenson|juditstevenson@ex...|        3|                  8|\n",
      "|      7|          Judit|     Stevenson|juditstevenson@ex...|        5|                 11|\n",
      "|      9|          Jerry|          Colt|jerrycolt@example...|        2|                  4|\n",
      "|      5|       Chandler|          Bing|chandlerbing@exam...|        2|                  2|\n",
      "|      5|       Chandler|          Bing|chandlerbing@exam...|        5|                  6|\n",
      "|      5|       Chandler|          Bing|chandlerbing@exam...|        2|                 13|\n",
      "|     10|          Amiya|        Shetty|amiyashetty@examp...|        2|                  1|\n",
      "|      3|           Ross|        Geller|rossgeller@exampl...|        3|                 10|\n",
      "|      3|           Ross|        Geller|rossgeller@exampl...|        2|                 12|\n",
      "|      8|           Jane|           Doe| janedoe@example.com|        2|                  5|\n",
      "|      8|           Jane|           Doe| janedoe@example.com|        5|                  9|\n",
      "|      8|           Jane|           Doe| janedoe@example.com|        2|                 15|\n",
      "|      4|         Monica|        Geller|monicageller@exam...|        5|                  7|\n",
      "|      4|         Monica|        Geller|monicageller@exam...|        3|                 14|\n",
      "+-------+---------------+--------------+--------------------+---------+-------------------+\n",
      "\n"
     ]
    }
   ],
   "source": [
    "users_df.join(course_enrolment_df, on='user_id'). \\\n",
    "select(users_df['*'], course_enrolment_df['course_id'], course_enrolment_df['course_enrolment_id']). \\\n",
    "show()"
   ]
  },
  {
   "cell_type": "code",
   "execution_count": 16,
   "id": "faee8c5e",
   "metadata": {},
   "outputs": [
    {
     "name": "stdout",
     "output_type": "stream",
     "text": [
      "+-------+---------------+--------------+--------------------+---------+-------------------+\n",
      "|user_id|user_first_name|user_last_name|          user_email|course_id|course_enrolment_id|\n",
      "+-------+---------------+--------------+--------------------+---------+-------------------+\n",
      "|      7|          Judit|     Stevenson|juditstevenson@ex...|        5|                  3|\n",
      "|      7|          Judit|     Stevenson|juditstevenson@ex...|        3|                  8|\n",
      "|      7|          Judit|     Stevenson|juditstevenson@ex...|        5|                 11|\n",
      "|      9|          Jerry|          Colt|jerrycolt@example...|        2|                  4|\n",
      "|      5|       Chandler|          Bing|chandlerbing@exam...|        2|                  2|\n",
      "|      5|       Chandler|          Bing|chandlerbing@exam...|        5|                  6|\n",
      "|      5|       Chandler|          Bing|chandlerbing@exam...|        2|                 13|\n",
      "|     10|          Amiya|        Shetty|amiyashetty@examp...|        2|                  1|\n",
      "|      3|           Ross|        Geller|rossgeller@exampl...|        3|                 10|\n",
      "|      3|           Ross|        Geller|rossgeller@exampl...|        2|                 12|\n",
      "|      8|           Jane|           Doe| janedoe@example.com|        2|                  5|\n",
      "|      8|           Jane|           Doe| janedoe@example.com|        5|                  9|\n",
      "|      8|           Jane|           Doe| janedoe@example.com|        2|                 15|\n",
      "|      4|         Monica|        Geller|monicageller@exam...|        5|                  7|\n",
      "|      4|         Monica|        Geller|monicageller@exam...|        3|                 14|\n",
      "+-------+---------------+--------------+--------------------+---------+-------------------+\n",
      "\n"
     ]
    }
   ],
   "source": [
    "users_df.alias('u').join(course_enrolment_df.alias('ce'), on='user_id'). \\\n",
    "select('u.*', 'ce.course_id', 'ce.course_enrolment_id'). \\\n",
    "show()"
   ]
  },
  {
   "cell_type": "code",
   "execution_count": 17,
   "id": "93bbe49a",
   "metadata": {},
   "outputs": [
    {
     "ename": "AnalysisException",
     "evalue": "Reference 'user_id' is ambiguous, could be: u.user_id, ce.user_id.;",
     "output_type": "error",
     "traceback": [
      "\u001b[1;31m---------------------------------------------------------------------------\u001b[0m",
      "\u001b[1;31mAnalysisException\u001b[0m                         Traceback (most recent call last)",
      "\u001b[1;32m~\\AppData\\Local\\Temp/ipykernel_14176/1071753575.py\u001b[0m in \u001b[0;36m<module>\u001b[1;34m\u001b[0m\n\u001b[0;32m      1\u001b[0m \u001b[1;31m# Get number of courses enroled by each user\u001b[0m\u001b[1;33m\u001b[0m\u001b[1;33m\u001b[0m\u001b[0m\n\u001b[0;32m      2\u001b[0m \u001b[1;31m# Fails as user_id is part of both the dataframes\u001b[0m\u001b[1;33m\u001b[0m\u001b[1;33m\u001b[0m\u001b[0m\n\u001b[1;32m----> 3\u001b[1;33m \u001b[0musers_df\u001b[0m\u001b[1;33m.\u001b[0m\u001b[0malias\u001b[0m\u001b[1;33m(\u001b[0m\u001b[1;34m'u'\u001b[0m\u001b[1;33m)\u001b[0m\u001b[1;33m.\u001b[0m\u001b[0;31m \u001b[0m\u001b[0;31m\\\u001b[0m\u001b[1;33m\u001b[0m\u001b[1;33m\u001b[0m\u001b[0m\n\u001b[0m\u001b[0;32m      4\u001b[0m \u001b[0mjoin\u001b[0m\u001b[1;33m(\u001b[0m\u001b[0mcourse_enrolment_df\u001b[0m\u001b[1;33m.\u001b[0m\u001b[0malias\u001b[0m\u001b[1;33m(\u001b[0m\u001b[1;34m'ce'\u001b[0m\u001b[1;33m)\u001b[0m\u001b[1;33m,\u001b[0m \u001b[0musers_df\u001b[0m\u001b[1;33m.\u001b[0m\u001b[0muser_id\u001b[0m \u001b[1;33m==\u001b[0m \u001b[0mcourse_enrolment_df\u001b[0m\u001b[1;33m.\u001b[0m\u001b[0muser_id\u001b[0m\u001b[1;33m)\u001b[0m\u001b[1;33m.\u001b[0m\u001b[0;31m \u001b[0m\u001b[0;31m\\\u001b[0m\u001b[1;33m\u001b[0m\u001b[1;33m\u001b[0m\u001b[0m\n\u001b[0;32m      5\u001b[0m \u001b[0mgroupBy\u001b[0m\u001b[1;33m(\u001b[0m\u001b[1;34m'user_id'\u001b[0m\u001b[1;33m)\u001b[0m\u001b[1;33m.\u001b[0m\u001b[0mcount\u001b[0m\u001b[1;33m(\u001b[0m\u001b[1;33m)\u001b[0m\u001b[1;33m.\u001b[0m\u001b[0mshow\u001b[0m\u001b[1;33m(\u001b[0m\u001b[1;33m)\u001b[0m\u001b[1;33m\u001b[0m\u001b[1;33m\u001b[0m\u001b[0m\n",
      "\u001b[1;32mC:\\Spark\\spark-3.0.1-bin-hadoop2.7\\python\\pyspark\\sql\\group.py\u001b[0m in \u001b[0;36m_api\u001b[1;34m(self)\u001b[0m\n\u001b[0;32m     31\u001b[0m     \u001b[1;32mdef\u001b[0m \u001b[0m_api\u001b[0m\u001b[1;33m(\u001b[0m\u001b[0mself\u001b[0m\u001b[1;33m)\u001b[0m\u001b[1;33m:\u001b[0m\u001b[1;33m\u001b[0m\u001b[1;33m\u001b[0m\u001b[0m\n\u001b[0;32m     32\u001b[0m         \u001b[0mname\u001b[0m \u001b[1;33m=\u001b[0m \u001b[0mf\u001b[0m\u001b[1;33m.\u001b[0m\u001b[0m__name__\u001b[0m\u001b[1;33m\u001b[0m\u001b[1;33m\u001b[0m\u001b[0m\n\u001b[1;32m---> 33\u001b[1;33m         \u001b[0mjdf\u001b[0m \u001b[1;33m=\u001b[0m \u001b[0mgetattr\u001b[0m\u001b[1;33m(\u001b[0m\u001b[0mself\u001b[0m\u001b[1;33m.\u001b[0m\u001b[0m_jgd\u001b[0m\u001b[1;33m,\u001b[0m \u001b[0mname\u001b[0m\u001b[1;33m)\u001b[0m\u001b[1;33m(\u001b[0m\u001b[1;33m)\u001b[0m\u001b[1;33m\u001b[0m\u001b[1;33m\u001b[0m\u001b[0m\n\u001b[0m\u001b[0;32m     34\u001b[0m         \u001b[1;32mreturn\u001b[0m \u001b[0mDataFrame\u001b[0m\u001b[1;33m(\u001b[0m\u001b[0mjdf\u001b[0m\u001b[1;33m,\u001b[0m \u001b[0mself\u001b[0m\u001b[1;33m.\u001b[0m\u001b[0msql_ctx\u001b[0m\u001b[1;33m)\u001b[0m\u001b[1;33m\u001b[0m\u001b[1;33m\u001b[0m\u001b[0m\n\u001b[0;32m     35\u001b[0m     \u001b[0m_api\u001b[0m\u001b[1;33m.\u001b[0m\u001b[0m__name__\u001b[0m \u001b[1;33m=\u001b[0m \u001b[0mf\u001b[0m\u001b[1;33m.\u001b[0m\u001b[0m__name__\u001b[0m\u001b[1;33m\u001b[0m\u001b[1;33m\u001b[0m\u001b[0m\n",
      "\u001b[1;32m~\\anaconda3\\lib\\site-packages\\py4j\\java_gateway.py\u001b[0m in \u001b[0;36m__call__\u001b[1;34m(self, *args)\u001b[0m\n\u001b[0;32m   1307\u001b[0m \u001b[1;33m\u001b[0m\u001b[0m\n\u001b[0;32m   1308\u001b[0m         \u001b[0manswer\u001b[0m \u001b[1;33m=\u001b[0m \u001b[0mself\u001b[0m\u001b[1;33m.\u001b[0m\u001b[0mgateway_client\u001b[0m\u001b[1;33m.\u001b[0m\u001b[0msend_command\u001b[0m\u001b[1;33m(\u001b[0m\u001b[0mcommand\u001b[0m\u001b[1;33m)\u001b[0m\u001b[1;33m\u001b[0m\u001b[1;33m\u001b[0m\u001b[0m\n\u001b[1;32m-> 1309\u001b[1;33m         return_value = get_return_value(\n\u001b[0m\u001b[0;32m   1310\u001b[0m             answer, self.gateway_client, self.target_id, self.name)\n\u001b[0;32m   1311\u001b[0m \u001b[1;33m\u001b[0m\u001b[0m\n",
      "\u001b[1;32mC:\\Spark\\spark-3.0.1-bin-hadoop2.7\\python\\pyspark\\sql\\utils.py\u001b[0m in \u001b[0;36mdeco\u001b[1;34m(*a, **kw)\u001b[0m\n\u001b[0;32m    132\u001b[0m                 \u001b[1;31m# Hide where the exception came from that shows a non-Pythonic\u001b[0m\u001b[1;33m\u001b[0m\u001b[1;33m\u001b[0m\u001b[0m\n\u001b[0;32m    133\u001b[0m                 \u001b[1;31m# JVM exception message.\u001b[0m\u001b[1;33m\u001b[0m\u001b[1;33m\u001b[0m\u001b[0m\n\u001b[1;32m--> 134\u001b[1;33m                 \u001b[0mraise_from\u001b[0m\u001b[1;33m(\u001b[0m\u001b[0mconverted\u001b[0m\u001b[1;33m)\u001b[0m\u001b[1;33m\u001b[0m\u001b[1;33m\u001b[0m\u001b[0m\n\u001b[0m\u001b[0;32m    135\u001b[0m             \u001b[1;32melse\u001b[0m\u001b[1;33m:\u001b[0m\u001b[1;33m\u001b[0m\u001b[1;33m\u001b[0m\u001b[0m\n\u001b[0;32m    136\u001b[0m                 \u001b[1;32mraise\u001b[0m\u001b[1;33m\u001b[0m\u001b[1;33m\u001b[0m\u001b[0m\n",
      "\u001b[1;32mC:\\Spark\\spark-3.0.1-bin-hadoop2.7\\python\\pyspark\\sql\\utils.py\u001b[0m in \u001b[0;36mraise_from\u001b[1;34m(e)\u001b[0m\n",
      "\u001b[1;31mAnalysisException\u001b[0m: Reference 'user_id' is ambiguous, could be: u.user_id, ce.user_id.;"
     ]
    }
   ],
   "source": [
    "# Get number of courses enroled by each user\n",
    "# Fails as user_id is part of both the dataframes\n",
    "users_df.alias('u'). \\\n",
    "join(course_enrolment_df.alias('ce'), users_df.user_id == course_enrolment_df.user_id). \\\n",
    "groupBy('user_id').count().show()"
   ]
  },
  {
   "cell_type": "code",
   "execution_count": 18,
   "id": "fac9c7aa",
   "metadata": {},
   "outputs": [
    {
     "name": "stdout",
     "output_type": "stream",
     "text": [
      "+-------+-----+\n",
      "|user_id|count|\n",
      "+-------+-----+\n",
      "|      7|    3|\n",
      "|      9|    1|\n",
      "|      5|    3|\n",
      "|     10|    1|\n",
      "|      3|    2|\n",
      "|      8|    3|\n",
      "|      4|    2|\n",
      "+-------+-----+\n",
      "\n"
     ]
    }
   ],
   "source": [
    "users_df.alias('u'). \\\n",
    "join(course_enrolment_df.alias('ce'), 'user_id'). \\\n",
    "groupBy('user_id').count().show()"
   ]
  },
  {
   "cell_type": "code",
   "execution_count": 19,
   "id": "df65848c",
   "metadata": {},
   "outputs": [
    {
     "name": "stdout",
     "output_type": "stream",
     "text": [
      "+-------+-----+\n",
      "|user_id|count|\n",
      "+-------+-----+\n",
      "|      7|    3|\n",
      "|      9|    1|\n",
      "|      5|    3|\n",
      "|     10|    1|\n",
      "|      3|    2|\n",
      "|      8|    3|\n",
      "|      4|    2|\n",
      "+-------+-----+\n",
      "\n"
     ]
    }
   ],
   "source": [
    "users_df.alias('u'). \\\n",
    "join(course_enrolment_df.alias('ce'), 'user_id'). \\\n",
    "groupBy('u.user_id').count().show()"
   ]
  },
  {
   "cell_type": "markdown",
   "id": "df98c95a",
   "metadata": {},
   "source": [
    "### LEFT JOIN"
   ]
  },
  {
   "cell_type": "markdown",
   "id": "4c329c92",
   "metadata": {},
   "source": [
    "* Get all the user details along with course enrolment details(If the user have any course enrolments).\n",
    "* If the users does not have any course enrolments, we need to get all user details. Course details will be substitued with null values.\n",
    "    * Need to perform left or right outer join **users_df** and **course_enrolemnts_df**.\n",
    "    * We will use left for this notebook. As `user_df` is from parent table ans as we are going to use `left outer join`, we need to invoke `join` on top of `users_df`.\n",
    "    * Here are the fields that needs to be displayed.\n",
    "        * All fields from `users_df`\n",
    "        * `course_id` and `course_enrolment_id` from `course_enrolments`\n",
    "    * For this example using these dataframes, using just `outer` also give same results. But it is not correct to use `outer`.\n",
    "    * `how='outer'` means **full outer join**."
   ]
  },
  {
   "cell_type": "code",
   "execution_count": 20,
   "id": "dc52c6b8",
   "metadata": {},
   "outputs": [
    {
     "name": "stdout",
     "output_type": "stream",
     "text": [
      "+-------+---------------+--------------+--------------------+---------+-------------------+\n",
      "|user_id|user_first_name|user_last_name|          user_email|course_id|course_enrolment_id|\n",
      "+-------+---------------+--------------+--------------------+---------+-------------------+\n",
      "|      7|          Judit|     Stevenson|juditstevenson@ex...|        5|                  3|\n",
      "|      7|          Judit|     Stevenson|juditstevenson@ex...|        3|                  8|\n",
      "|      7|          Judit|     Stevenson|juditstevenson@ex...|        5|                 11|\n",
      "|      6|         Sandra|        Sharma|sandrasharma@exam...|     null|               null|\n",
      "|      9|          Jerry|          Colt|jerrycolt@example...|        2|                  4|\n",
      "|      5|       Chandler|          Bing|chandlerbing@exam...|        2|                  2|\n",
      "|      5|       Chandler|          Bing|chandlerbing@exam...|        5|                  6|\n",
      "|      5|       Chandler|          Bing|chandlerbing@exam...|        2|                 13|\n",
      "|      1|         Phoebe|        Buffay|phoebebuffay@exam...|     null|               null|\n",
      "|     10|          Amiya|        Shetty|amiyashetty@examp...|        2|                  1|\n",
      "|      3|           Ross|        Geller|rossgeller@exampl...|        3|                 10|\n",
      "|      3|           Ross|        Geller|rossgeller@exampl...|        2|                 12|\n",
      "|      8|           Jane|           Doe| janedoe@example.com|        2|                  5|\n",
      "|      8|           Jane|           Doe| janedoe@example.com|        5|                  9|\n",
      "|      8|           Jane|           Doe| janedoe@example.com|        2|                 15|\n",
      "|      2|           Joey|     Tribiyani|joeytribiyani@exa...|     null|               null|\n",
      "|      4|         Monica|        Geller|monicageller@exam...|        5|                  7|\n",
      "|      4|         Monica|        Geller|monicageller@exam...|        3|                 14|\n",
      "+-------+---------------+--------------+--------------------+---------+-------------------+\n",
      "\n"
     ]
    }
   ],
   "source": [
    "users_df.alias('u').join(course_enrolment_df.alias('ce'), on='user_id', how='leftOuter'). \\\n",
    "select('u.*', 'ce.course_id', 'ce.course_enrolment_id'). \\\n",
    "show()"
   ]
  },
  {
   "cell_type": "code",
   "execution_count": 21,
   "id": "d9bc4c2d",
   "metadata": {},
   "outputs": [
    {
     "name": "stdout",
     "output_type": "stream",
     "text": [
      "+-------+---------------+--------------+--------------------+---------+-------------------+\n",
      "|user_id|user_first_name|user_last_name|          user_email|course_id|course_enrolment_id|\n",
      "+-------+---------------+--------------+--------------------+---------+-------------------+\n",
      "|      6|         Sandra|        Sharma|sandrasharma@exam...|     null|               null|\n",
      "|      1|         Phoebe|        Buffay|phoebebuffay@exam...|     null|               null|\n",
      "|      2|           Joey|     Tribiyani|joeytribiyani@exa...|     null|               null|\n",
      "+-------+---------------+--------------+--------------------+---------+-------------------+\n",
      "\n"
     ]
    }
   ],
   "source": [
    "# Get all the users who have not enroled for any courses\n",
    "# Recommended to use primary key in the child table when comparing with null values\n",
    "users_df.alias('u'). \\\n",
    "join(course_enrolment_df.alias('ce'), 'user_id', how='left'). \\\n",
    "filter('ce.course_id IS NULL'). \\\n",
    "select('u.*', 'ce.course_id', 'ce.course_enrolment_id'). \\\n",
    "show()"
   ]
  },
  {
   "cell_type": "markdown",
   "id": "93148b3b",
   "metadata": {},
   "source": [
    "* Get number of courses enroled by each user\n",
    "* If there are no enrolments, then count should return 0"
   ]
  },
  {
   "cell_type": "code",
   "execution_count": 22,
   "id": "7d6d8fa5",
   "metadata": {},
   "outputs": [
    {
     "name": "stdout",
     "output_type": "stream",
     "text": [
      "+-------+-----+\n",
      "|user_id|count|\n",
      "+-------+-----+\n",
      "|      1|    1|\n",
      "|      2|    1|\n",
      "|      3|    2|\n",
      "|      4|    2|\n",
      "|      5|    3|\n",
      "|      6|    1|\n",
      "|      7|    3|\n",
      "|      8|    3|\n",
      "|      9|    1|\n",
      "|     10|    1|\n",
      "+-------+-----+\n",
      "\n"
     ]
    }
   ],
   "source": [
    "# count will give incorrect results\n",
    "# Even though users 1, 2, 6 are not enrolled for any courses, it returns 1\n",
    "users_df.alias('u'). \\\n",
    "    join(course_enrolment_df.alias('ce'), users_df.user_id == course_enrolment_df.user_id, 'left'). \\\n",
    "    groupBy('u.user_id'). \\\n",
    "    count(). \\\n",
    "    orderBy('u.user_id'). \\\n",
    "    show()"
   ]
  },
  {
   "cell_type": "code",
   "execution_count": 23,
   "id": "1e64172e",
   "metadata": {},
   "outputs": [
    {
     "name": "stdout",
     "output_type": "stream",
     "text": [
      "+-------+------------+\n",
      "|user_id|course_count|\n",
      "+-------+------------+\n",
      "|      1|           0|\n",
      "|      2|           0|\n",
      "|      3|           2|\n",
      "|      4|           2|\n",
      "|      5|           3|\n",
      "|      6|           0|\n",
      "|      7|           3|\n",
      "|      8|           3|\n",
      "|      9|           1|\n",
      "|     10|           1|\n",
      "+-------+------------+\n",
      "\n"
     ]
    }
   ],
   "source": [
    "# Solution\n",
    "users_df.alias('u'). \\\n",
    "    join(course_enrolment_df.alias('ce'), users_df.user_id == course_enrolment_df.user_id, 'left'). \\\n",
    "    groupBy('u.user_id'). \\\n",
    "    agg(sum(when(course_enrolment_df['user_id'].isNull(), 0).otherwise(1)).alias('course_count')). \\\n",
    "    orderBy('u.user_id'). \\\n",
    "    show()"
   ]
  },
  {
   "cell_type": "code",
   "execution_count": 24,
   "id": "2f33f324",
   "metadata": {},
   "outputs": [
    {
     "name": "stdout",
     "output_type": "stream",
     "text": [
      "+-------+------------+\n",
      "|user_id|course_count|\n",
      "+-------+------------+\n",
      "|      1|           0|\n",
      "|      2|           0|\n",
      "|      3|           2|\n",
      "|      4|           2|\n",
      "|      5|           3|\n",
      "|      6|           0|\n",
      "|      7|           3|\n",
      "|      8|           3|\n",
      "|      9|           1|\n",
      "|     10|           1|\n",
      "+-------+------------+\n",
      "\n"
     ]
    }
   ],
   "source": [
    "# SQL STYLE Syntax\n",
    "users_df.alias('u'). \\\n",
    "    join(course_enrolment_df.alias('ce'), users_df.user_id == course_enrolment_df.user_id, 'left'). \\\n",
    "    groupBy('u.user_id'). \\\n",
    "    agg(sum(expr(\"\"\"\n",
    "        CASE WHEN ce.user_id IS NULL THEN 0 ELSE 1 END \n",
    "    \"\"\")).alias('course_count')). \\\n",
    "    orderBy('u.user_id'). \\\n",
    "    show()"
   ]
  },
  {
   "cell_type": "markdown",
   "id": "90fd94a0",
   "metadata": {},
   "source": [
    "### RIGHT JOIN"
   ]
  },
  {
   "cell_type": "code",
   "execution_count": 25,
   "id": "d5c4217d",
   "metadata": {},
   "outputs": [
    {
     "name": "stdout",
     "output_type": "stream",
     "text": [
      "+-------------------+-------+---------+---------+-------+---------------+--------------+--------------------+\n",
      "|course_enrolment_id|user_id|course_id|price_pad|user_id|user_first_name|user_last_name|          user_email|\n",
      "+-------------------+-------+---------+---------+-------+---------------+--------------+--------------------+\n",
      "|                  3|      7|        5|    10.99|      7|          Judit|     Stevenson|juditstevenson@ex...|\n",
      "|                  8|      7|        3|    10.99|      7|          Judit|     Stevenson|juditstevenson@ex...|\n",
      "|                 11|      7|        5|    10.99|      7|          Judit|     Stevenson|juditstevenson@ex...|\n",
      "|               null|   null|     null|     null|      6|         Sandra|        Sharma|sandrasharma@exam...|\n",
      "|                  4|      9|        2|     9.99|      9|          Jerry|          Colt|jerrycolt@example...|\n",
      "|                  2|      5|        2|     9.99|      5|       Chandler|          Bing|chandlerbing@exam...|\n",
      "|                  6|      5|        5|    10.99|      5|       Chandler|          Bing|chandlerbing@exam...|\n",
      "|                 13|      5|        2|     9.99|      5|       Chandler|          Bing|chandlerbing@exam...|\n",
      "|               null|   null|     null|     null|      1|         Phoebe|        Buffay|phoebebuffay@exam...|\n",
      "|                  1|     10|        2|     9.99|     10|          Amiya|        Shetty|amiyashetty@examp...|\n",
      "|                 10|      3|        3|    10.99|      3|           Ross|        Geller|rossgeller@exampl...|\n",
      "|                 12|      3|        2|     9.99|      3|           Ross|        Geller|rossgeller@exampl...|\n",
      "|                  5|      8|        2|    10.99|      8|           Jane|           Doe| janedoe@example.com|\n",
      "|                  9|      8|        5|    10.99|      8|           Jane|           Doe| janedoe@example.com|\n",
      "|                 15|      8|        2|     9.99|      8|           Jane|           Doe| janedoe@example.com|\n",
      "|               null|   null|     null|     null|      2|           Joey|     Tribiyani|joeytribiyani@exa...|\n",
      "|                  7|      4|        5|    10.99|      4|         Monica|        Geller|monicageller@exam...|\n",
      "|                 14|      4|        3|    10.99|      4|         Monica|        Geller|monicageller@exam...|\n",
      "+-------------------+-------+---------+---------+-------+---------------+--------------+--------------------+\n",
      "\n"
     ]
    }
   ],
   "source": [
    " course_enrolment_df. \\\n",
    "    join(users_df, course_enrolment_df.user_id == users_df.user_id, 'right'). \\\n",
    "    show()"
   ]
  },
  {
   "cell_type": "code",
   "execution_count": 26,
   "id": "40b8591a",
   "metadata": {},
   "outputs": [
    {
     "name": "stdout",
     "output_type": "stream",
     "text": [
      "+-------+-------------------+---------+---------+---------------+--------------+--------------------+\n",
      "|user_id|course_enrolment_id|course_id|price_pad|user_first_name|user_last_name|          user_email|\n",
      "+-------+-------------------+---------+---------+---------------+--------------+--------------------+\n",
      "|      7|                  3|        5|    10.99|          Judit|     Stevenson|juditstevenson@ex...|\n",
      "|      7|                  8|        3|    10.99|          Judit|     Stevenson|juditstevenson@ex...|\n",
      "|      7|                 11|        5|    10.99|          Judit|     Stevenson|juditstevenson@ex...|\n",
      "|      6|               null|     null|     null|         Sandra|        Sharma|sandrasharma@exam...|\n",
      "|      9|                  4|        2|     9.99|          Jerry|          Colt|jerrycolt@example...|\n",
      "|      5|                  2|        2|     9.99|       Chandler|          Bing|chandlerbing@exam...|\n",
      "|      5|                  6|        5|    10.99|       Chandler|          Bing|chandlerbing@exam...|\n",
      "|      5|                 13|        2|     9.99|       Chandler|          Bing|chandlerbing@exam...|\n",
      "|      1|               null|     null|     null|         Phoebe|        Buffay|phoebebuffay@exam...|\n",
      "|     10|                  1|        2|     9.99|          Amiya|        Shetty|amiyashetty@examp...|\n",
      "|      3|                 10|        3|    10.99|           Ross|        Geller|rossgeller@exampl...|\n",
      "|      3|                 12|        2|     9.99|           Ross|        Geller|rossgeller@exampl...|\n",
      "|      8|                  5|        2|    10.99|           Jane|           Doe| janedoe@example.com|\n",
      "|      8|                  9|        5|    10.99|           Jane|           Doe| janedoe@example.com|\n",
      "|      8|                 15|        2|     9.99|           Jane|           Doe| janedoe@example.com|\n",
      "|      2|               null|     null|     null|           Joey|     Tribiyani|joeytribiyani@exa...|\n",
      "|      4|                  7|        5|    10.99|         Monica|        Geller|monicageller@exam...|\n",
      "|      4|                 14|        3|    10.99|         Monica|        Geller|monicageller@exam...|\n",
      "+-------+-------------------+---------+---------+---------------+--------------+--------------------+\n",
      "\n"
     ]
    }
   ],
   "source": [
    " course_enrolment_df. \\\n",
    "    join(users_df, 'user_id', 'right'). \\\n",
    "    show()"
   ]
  },
  {
   "cell_type": "code",
   "execution_count": 27,
   "id": "cd2d3a6a",
   "metadata": {},
   "outputs": [
    {
     "name": "stdout",
     "output_type": "stream",
     "text": [
      "+-------+---------------+--------------+--------------------+-------------------+---------+\n",
      "|user_id|user_first_name|user_last_name|          user_email|course_enrolment_id|course_id|\n",
      "+-------+---------------+--------------+--------------------+-------------------+---------+\n",
      "|      7|          Judit|     Stevenson|juditstevenson@ex...|                  3|        5|\n",
      "|      7|          Judit|     Stevenson|juditstevenson@ex...|                  8|        3|\n",
      "|      7|          Judit|     Stevenson|juditstevenson@ex...|                 11|        5|\n",
      "|      6|         Sandra|        Sharma|sandrasharma@exam...|               null|     null|\n",
      "|      9|          Jerry|          Colt|jerrycolt@example...|                  4|        2|\n",
      "|      5|       Chandler|          Bing|chandlerbing@exam...|                  2|        2|\n",
      "|      5|       Chandler|          Bing|chandlerbing@exam...|                  6|        5|\n",
      "|      5|       Chandler|          Bing|chandlerbing@exam...|                 13|        2|\n",
      "|      1|         Phoebe|        Buffay|phoebebuffay@exam...|               null|     null|\n",
      "|     10|          Amiya|        Shetty|amiyashetty@examp...|                  1|        2|\n",
      "|      3|           Ross|        Geller|rossgeller@exampl...|                 10|        3|\n",
      "|      3|           Ross|        Geller|rossgeller@exampl...|                 12|        2|\n",
      "|      8|           Jane|           Doe| janedoe@example.com|                  5|        2|\n",
      "|      8|           Jane|           Doe| janedoe@example.com|                  9|        5|\n",
      "|      8|           Jane|           Doe| janedoe@example.com|                 15|        2|\n",
      "|      2|           Joey|     Tribiyani|joeytribiyani@exa...|               null|     null|\n",
      "|      4|         Monica|        Geller|monicageller@exam...|                  7|        5|\n",
      "|      4|         Monica|        Geller|monicageller@exam...|                 14|        3|\n",
      "+-------+---------------+--------------+--------------------+-------------------+---------+\n",
      "\n"
     ]
    }
   ],
   "source": [
    "course_enrolment_df. \\\n",
    "join(users_df, users_df['user_id'] == course_enrolment_df.user_id, 'right'). \\\n",
    "select(users_df[\"*\"], course_enrolment_df['course_enrolment_id'], course_enrolment_df['course_id']). \\\n",
    "show()"
   ]
  },
  {
   "cell_type": "code",
   "execution_count": 28,
   "id": "6b8894ea",
   "metadata": {},
   "outputs": [
    {
     "name": "stdout",
     "output_type": "stream",
     "text": [
      "+-------+---------------+--------------+--------------------+---------+-------------------+\n",
      "|user_id|user_first_name|user_last_name|          user_email|course_id|course_enrolment_id|\n",
      "+-------+---------------+--------------+--------------------+---------+-------------------+\n",
      "|      6|         Sandra|        Sharma|sandrasharma@exam...|     null|               null|\n",
      "|      1|         Phoebe|        Buffay|phoebebuffay@exam...|     null|               null|\n",
      "|      2|           Joey|     Tribiyani|joeytribiyani@exa...|     null|               null|\n",
      "+-------+---------------+--------------+--------------------+---------+-------------------+\n",
      "\n"
     ]
    }
   ],
   "source": [
    "course_enrolment_df.alias('ce'). \\\n",
    "join(users_df.alias('u'), 'user_id', how='right'). \\\n",
    "filter('ce.course_id IS NULL'). \\\n",
    "select('u.*', 'ce.course_id', 'ce.course_enrolment_id'). \\\n",
    "show()"
   ]
  },
  {
   "cell_type": "code",
   "execution_count": 29,
   "id": "bbfb7a22",
   "metadata": {},
   "outputs": [
    {
     "name": "stdout",
     "output_type": "stream",
     "text": [
      "+-------+-----+\n",
      "|user_id|count|\n",
      "+-------+-----+\n",
      "|      1|    1|\n",
      "|      2|    1|\n",
      "|      3|    2|\n",
      "|      4|    2|\n",
      "|      5|    3|\n",
      "|      6|    1|\n",
      "|      7|    3|\n",
      "|      8|    3|\n",
      "|      9|    1|\n",
      "|     10|    1|\n",
      "+-------+-----+\n",
      "\n"
     ]
    }
   ],
   "source": [
    "# count will give incorrect results\n",
    "# Even though users 1, 2, 6 are not enrolled for any courses, it returns 1\n",
    "course_enrolment_df.alias('ce'). \\\n",
    "    join(users_df.alias('u'), users_df.user_id == course_enrolment_df.user_id, 'right'). \\\n",
    "    groupBy('u.user_id'). \\\n",
    "    count(). \\\n",
    "    orderBy('u.user_id'). \\\n",
    "    show()"
   ]
  },
  {
   "cell_type": "code",
   "execution_count": 30,
   "id": "de82004c",
   "metadata": {},
   "outputs": [
    {
     "name": "stdout",
     "output_type": "stream",
     "text": [
      "+-------+------------+\n",
      "|user_id|course_count|\n",
      "+-------+------------+\n",
      "|      1|           0|\n",
      "|      2|           0|\n",
      "|      3|           2|\n",
      "|      4|           2|\n",
      "|      5|           3|\n",
      "|      6|           0|\n",
      "|      7|           3|\n",
      "|      8|           3|\n",
      "|      9|           1|\n",
      "|     10|           1|\n",
      "+-------+------------+\n",
      "\n"
     ]
    }
   ],
   "source": [
    "course_enrolment_df.alias('ce'). \\\n",
    "    join(users_df.alias('u'), users_df.user_id == course_enrolment_df.user_id, 'right'). \\\n",
    "    groupBy('u.user_id'). \\\n",
    "    agg(sum(when(course_enrolment_df['user_id'].isNull(), 0).otherwise(1)).alias('course_count')). \\\n",
    "    orderBy('u.user_id'). \\\n",
    "    show()"
   ]
  },
  {
   "cell_type": "markdown",
   "id": "4e0b3e30",
   "metadata": {},
   "source": [
    "**NOTE:**\n",
    "* Left or Right is used based on the side of the driving DataFrame.\n",
    "* Between users and course_enrolments, users is typically the driving DataFrame as there is one to many relationship between users and course_enrolments.\n",
    "* Here is how we typically perform outer join between **users** and **course_enrolments**.\n",
    "    * **users** left outer join **course_enrolments**.\n",
    "    * **course_enrolments** right outer join **users**.\n",
    "* Also here is how we typically perform outer join between **courses** and **course_enrolments**.\n",
    "    * **courses** left outer join **course_enrolments**.\n",
    "    * **course_enrolments** right outer join **courses**."
   ]
  },
  {
   "cell_type": "markdown",
   "id": "be5d8200",
   "metadata": {},
   "source": [
    "### FULL OUTER JOIN"
   ]
  },
  {
   "cell_type": "code",
   "execution_count": 32,
   "id": "338b434a",
   "metadata": {},
   "outputs": [
    {
     "name": "stdout",
     "output_type": "stream",
     "text": [
      "+-------+---------------+--------------+--------------------+\n",
      "|user_id|user_first_name|user_last_name|          user_email|\n",
      "+-------+---------------+--------------+--------------------+\n",
      "|      1|         Phoebe|        Buffay|phoebebuffay@exam...|\n",
      "|      2|           Joey|     Tribiyani|joeytribiyani@exa...|\n",
      "|      3|           Ross|        Geller|rossgeller@exampl...|\n",
      "|      4|         Monica|        Geller|monicageller@exam...|\n",
      "|      5|       Chandler|          Bing|chandlerbing@exam...|\n",
      "|      6|         Sandra|        Sharma|sandrasharma@exam...|\n",
      "|      7|          Judit|     Stevenson|juditstevenson@ex...|\n",
      "|      8|           Jane|           Doe| janedoe@example.com|\n",
      "|      9|          Jerry|          Colt|jerrycolt@example...|\n",
      "|     10|          Amiya|        Shetty|amiyashetty@examp...|\n",
      "+-------+---------------+--------------+--------------------+\n",
      "\n"
     ]
    }
   ],
   "source": [
    "users_df.show()"
   ]
  },
  {
   "cell_type": "code",
   "execution_count": 34,
   "id": "ed7d3010",
   "metadata": {},
   "outputs": [],
   "source": [
    "users1 = [{\n",
    "            \"user_id\": 1,\n",
    "            \"user_first_name\": \"Phoebe\",\n",
    "            \"user_last_name\": \"Buffay\",\n",
    "            \"user_email\": \"phoebebuffay@example.com\"\n",
    "        },\n",
    "        {\n",
    "            \"user_id\": 3,\n",
    "            \"user_first_name\": \"Ross\",\n",
    "            \"user_last_name\": \"Geller\",\n",
    "            \"user_email\": \"rossgeller@example.com\"\n",
    "        },\n",
    "        {\n",
    "            \"user_id\": 6,\n",
    "            \"user_first_name\": \"Sandra\",\n",
    "            \"user_last_name\": \"Sharma\",\n",
    "            \"user_email\": \"sandrasharma@example.com\"\n",
    "        },\n",
    "        {\n",
    "            \"user_id\": 7,\n",
    "            \"user_first_name\": \"Judit\",\n",
    "            \"user_last_name\": \"Stevenson\",\n",
    "            \"user_email\": \"juditstevenson@example.com\"\n",
    "        },\n",
    "        {\n",
    "            \"user_id\": 8,\n",
    "            \"user_first_name\": \"Jane\",\n",
    "            \"user_last_name\": \"Doe\",\n",
    "            \"user_email\": \"janedoe@example.com\"\n",
    "        }, \n",
    "        {\n",
    "            \"user_id\": 11,\n",
    "            \"user_first_name\": \"Joe\",\n",
    "            \"user_last_name\": \"Dane\",\n",
    "            \"user_email\": \"joedane@example.com\"  \n",
    "        }, \n",
    "        {\n",
    "            \"user_id\": 13,\n",
    "            \"user_first_name\": \"Anu\",\n",
    "            \"user_last_name\": \"K\",\n",
    "            \"user_email\": \"anuk@example.com\"  \n",
    "        }\n",
    "]"
   ]
  },
  {
   "cell_type": "code",
   "execution_count": 35,
   "id": "12edd782",
   "metadata": {},
   "outputs": [
    {
     "name": "stderr",
     "output_type": "stream",
     "text": [
      "C:\\Spark\\spark-3.0.1-bin-hadoop2.7\\python\\pyspark\\sql\\session.py:381: UserWarning: inferring schema from dict is deprecated,please use pyspark.sql.Row instead\n",
      "  warnings.warn(\"inferring schema from dict is deprecated,\"\n"
     ]
    }
   ],
   "source": [
    "user_df1 = spark.createDataFrame(users1)"
   ]
  },
  {
   "cell_type": "code",
   "execution_count": 36,
   "id": "35a0f72e",
   "metadata": {},
   "outputs": [
    {
     "name": "stdout",
     "output_type": "stream",
     "text": [
      "root\n",
      " |-- user_id: long (nullable = true)\n",
      " |-- user_first_name: string (nullable = true)\n",
      " |-- user_last_name: string (nullable = true)\n",
      " |-- user_email: string (nullable = true)\n",
      "\n"
     ]
    }
   ],
   "source": [
    "users_df.printSchema()"
   ]
  },
  {
   "cell_type": "code",
   "execution_count": 37,
   "id": "47aac276",
   "metadata": {},
   "outputs": [
    {
     "name": "stdout",
     "output_type": "stream",
     "text": [
      "root\n",
      " |-- user_email: string (nullable = true)\n",
      " |-- user_first_name: string (nullable = true)\n",
      " |-- user_id: long (nullable = true)\n",
      " |-- user_last_name: string (nullable = true)\n",
      "\n"
     ]
    }
   ],
   "source": [
    "user_df1.printSchema()"
   ]
  },
  {
   "cell_type": "code",
   "execution_count": 38,
   "id": "8f0956de",
   "metadata": {},
   "outputs": [
    {
     "name": "stdout",
     "output_type": "stream",
     "text": [
      "+-------+---------------+--------------+--------------------+--------------------+---------------+-------+--------------+\n",
      "|user_id|user_first_name|user_last_name|          user_email|          user_email|user_first_name|user_id|user_last_name|\n",
      "+-------+---------------+--------------+--------------------+--------------------+---------------+-------+--------------+\n",
      "|      7|          Judit|     Stevenson|juditstevenson@ex...|juditstevenson@ex...|          Judit|      7|     Stevenson|\n",
      "|      6|         Sandra|        Sharma|sandrasharma@exam...|sandrasharma@exam...|         Sandra|      6|        Sharma|\n",
      "|      9|          Jerry|          Colt|jerrycolt@example...|                null|           null|   null|          null|\n",
      "|      5|       Chandler|          Bing|chandlerbing@exam...|                null|           null|   null|          null|\n",
      "|      1|         Phoebe|        Buffay|phoebebuffay@exam...|phoebebuffay@exam...|         Phoebe|      1|        Buffay|\n",
      "|     10|          Amiya|        Shetty|amiyashetty@examp...|                null|           null|   null|          null|\n",
      "|      3|           Ross|        Geller|rossgeller@exampl...|rossgeller@exampl...|           Ross|      3|        Geller|\n",
      "|      8|           Jane|           Doe| janedoe@example.com| janedoe@example.com|           Jane|      8|           Doe|\n",
      "|   null|           null|          null|                null| joedane@example.com|            Joe|     11|          Dane|\n",
      "|      2|           Joey|     Tribiyani|joeytribiyani@exa...|                null|           null|   null|          null|\n",
      "|      4|         Monica|        Geller|monicageller@exam...|                null|           null|   null|          null|\n",
      "|   null|           null|          null|                null|    anuk@example.com|            Anu|     13|             K|\n",
      "+-------+---------------+--------------+--------------------+--------------------+---------------+-------+--------------+\n",
      "\n"
     ]
    }
   ],
   "source": [
    "users_df. \\\n",
    "join(user_df1, users_df.user_id == user_df1.user_id, 'full'). \\\n",
    "show()"
   ]
  },
  {
   "cell_type": "code",
   "execution_count": 40,
   "id": "2c56be1e",
   "metadata": {},
   "outputs": [
    {
     "data": {
      "text/plain": [
       "12"
      ]
     },
     "execution_count": 40,
     "metadata": {},
     "output_type": "execute_result"
    }
   ],
   "source": [
    "# users_df (10) + user_df1 unique(2)\n",
    "users_df. \\\n",
    "join(user_df1, 'user_id', 'full'). \\\n",
    "count()"
   ]
  },
  {
   "cell_type": "code",
   "execution_count": 43,
   "id": "a4303e70",
   "metadata": {},
   "outputs": [
    {
     "name": "stdout",
     "output_type": "stream",
     "text": [
      "+-------+---------------+--------------+--------------------+--------------------+---------------+--------------+\n",
      "|user_id|user_first_name|user_last_name|          user_email|          user_email|user_first_name|user_last_name|\n",
      "+-------+---------------+--------------+--------------------+--------------------+---------------+--------------+\n",
      "|      7|          Judit|     Stevenson|juditstevenson@ex...|juditstevenson@ex...|          Judit|     Stevenson|\n",
      "|      6|         Sandra|        Sharma|sandrasharma@exam...|sandrasharma@exam...|         Sandra|        Sharma|\n",
      "|      9|          Jerry|          Colt|jerrycolt@example...|                null|           null|          null|\n",
      "|      5|       Chandler|          Bing|chandlerbing@exam...|                null|           null|          null|\n",
      "|      1|         Phoebe|        Buffay|phoebebuffay@exam...|phoebebuffay@exam...|         Phoebe|        Buffay|\n",
      "|     10|          Amiya|        Shetty|amiyashetty@examp...|                null|           null|          null|\n",
      "|      3|           Ross|        Geller|rossgeller@exampl...|rossgeller@exampl...|           Ross|        Geller|\n",
      "|      8|           Jane|           Doe| janedoe@example.com| janedoe@example.com|           Jane|           Doe|\n",
      "|      2|           Joey|     Tribiyani|joeytribiyani@exa...|                null|           null|          null|\n",
      "|      4|         Monica|        Geller|monicageller@exam...|                null|           null|          null|\n",
      "|      7|          Judit|     Stevenson|juditstevenson@ex...|juditstevenson@ex...|          Judit|     Stevenson|\n",
      "|      6|         Sandra|        Sharma|sandrasharma@exam...|sandrasharma@exam...|         Sandra|        Sharma|\n",
      "|      1|         Phoebe|        Buffay|phoebebuffay@exam...|phoebebuffay@exam...|         Phoebe|        Buffay|\n",
      "|      3|           Ross|        Geller|rossgeller@exampl...|rossgeller@exampl...|           Ross|        Geller|\n",
      "|      8|           Jane|           Doe| janedoe@example.com| janedoe@example.com|           Jane|           Doe|\n",
      "|     11|           null|          null|                null| joedane@example.com|            Joe|          Dane|\n",
      "|     13|           null|          null|                null|    anuk@example.com|            Anu|             K|\n",
      "+-------+---------------+--------------+--------------------+--------------------+---------------+--------------+\n",
      "\n"
     ]
    }
   ],
   "source": [
    "# Union doesn't remove the duplicates (Count: 17)\n",
    "users_df. \\\n",
    "join(user_df1, 'user_id', 'left'). \\\n",
    "union(\n",
    "    users_df. \\\n",
    "    join(user_df1, 'user_id', 'right')\n",
    "). \\\n",
    "show()"
   ]
  },
  {
   "cell_type": "code",
   "execution_count": 44,
   "id": "804b055e",
   "metadata": {},
   "outputs": [
    {
     "data": {
      "text/plain": [
       "12"
      ]
     },
     "execution_count": 44,
     "metadata": {},
     "output_type": "execute_result"
    }
   ],
   "source": [
    "# use distinct to remove duplicates\n",
    "users_df. \\\n",
    "join(user_df1, 'user_id', 'left'). \\\n",
    "union(\n",
    "    users_df. \\\n",
    "    join(user_df1, 'user_id', 'right')\n",
    "). \\\n",
    "distinct(). \\\n",
    "count()"
   ]
  },
  {
   "cell_type": "code",
   "execution_count": 47,
   "id": "13512997",
   "metadata": {},
   "outputs": [
    {
     "name": "stdout",
     "output_type": "stream",
     "text": [
      "+-------+---------------+--------------+--------------------+\n",
      "|user_id|user_first_name|user_last_name|          user_email|\n",
      "+-------+---------------+--------------+--------------------+\n",
      "|      7|          Judit|     Stevenson|juditstevenson@ex...|\n",
      "|      6|         Sandra|        Sharma|sandrasharma@exam...|\n",
      "|      9|          Jerry|          Colt|jerrycolt@example...|\n",
      "|      5|       Chandler|          Bing|chandlerbing@exam...|\n",
      "|      1|         Phoebe|        Buffay|phoebebuffay@exam...|\n",
      "|     10|          Amiya|        Shetty|amiyashetty@examp...|\n",
      "|      3|           Ross|        Geller|rossgeller@exampl...|\n",
      "|      8|           Jane|           Doe| janedoe@example.com|\n",
      "|     11|            Joe|          Dane| joedane@example.com|\n",
      "|      2|           Joey|     Tribiyani|joeytribiyani@exa...|\n",
      "|      4|         Monica|        Geller|monicageller@exam...|\n",
      "|     13|            Anu|             K|    anuk@example.com|\n",
      "+-------+---------------+--------------+--------------------+\n",
      "\n"
     ]
    }
   ],
   "source": [
    "# Projecting data after full outer join\n",
    "# Get the details from the user_df, if missing, get details from user_df1\n",
    "\n",
    "users_df. \\\n",
    "join(user_df1, users_df.user_id == user_df1.user_id, 'full'). \\\n",
    "select(\n",
    "    coalesce(users_df['user_id'], user_df1['user_id']).alias('user_id'),\n",
    "    coalesce(users_df['user_first_name'], user_df1['user_first_name']).alias('user_first_name'),\n",
    "    coalesce(users_df['user_last_name'], user_df1['user_last_name']).alias('user_last_name'),\n",
    "    coalesce(users_df['user_email'], user_df1['user_email']).alias('user_email')\n",
    "). \\\n",
    "show()"
   ]
  },
  {
   "cell_type": "markdown",
   "id": "092b3f53",
   "metadata": {},
   "source": [
    "### CROSS JOIN"
   ]
  },
  {
   "cell_type": "code",
   "execution_count": 48,
   "id": "7fcf8fb3",
   "metadata": {},
   "outputs": [
    {
     "name": "stdout",
     "output_type": "stream",
     "text": [
      "Help on method crossJoin in module pyspark.sql.dataframe:\n",
      "\n",
      "crossJoin(other) method of pyspark.sql.dataframe.DataFrame instance\n",
      "    Returns the cartesian product with another :class:`DataFrame`.\n",
      "    \n",
      "    :param other: Right side of the cartesian product.\n",
      "    \n",
      "    >>> df.select(\"age\", \"name\").collect()\n",
      "    [Row(age=2, name='Alice'), Row(age=5, name='Bob')]\n",
      "    >>> df2.select(\"name\", \"height\").collect()\n",
      "    [Row(name='Tom', height=80), Row(name='Bob', height=85)]\n",
      "    >>> df.crossJoin(df2.select(\"height\")).select(\"age\", \"name\", \"height\").collect()\n",
      "    [Row(age=2, name='Alice', height=80), Row(age=2, name='Alice', height=85),\n",
      "     Row(age=5, name='Bob', height=80), Row(age=5, name='Bob', height=85)]\n",
      "    \n",
      "    .. versionadded:: 2.1\n",
      "\n"
     ]
    }
   ],
   "source": [
    "help(users_df.crossJoin)"
   ]
  },
  {
   "cell_type": "code",
   "execution_count": 49,
   "id": "b4c778b1",
   "metadata": {},
   "outputs": [
    {
     "name": "stdout",
     "output_type": "stream",
     "text": [
      "+-------+---------------+--------------+--------------------+---------+--------------------+-------------------+---------+-------------------+\n",
      "|user_id|user_first_name|user_last_name|          user_email|course_id|        course_title|course_published_dt|is_active|    last_updated_ts|\n",
      "+-------+---------------+--------------+--------------------+---------+--------------------+-------------------+---------+-------------------+\n",
      "|      1|         Phoebe|        Buffay|phoebebuffay@exam...|        1|    Mastering Python|         2021-01-14|     true|2021-02-18 16:57:25|\n",
      "|      2|           Joey|     Tribiyani|joeytribiyani@exa...|        1|    Mastering Python|         2021-01-14|     true|2021-02-18 16:57:25|\n",
      "|      1|         Phoebe|        Buffay|phoebebuffay@exam...|        2|Data Engineering ...|         2021-02-10|     true|2021-03-05 12:07:33|\n",
      "|      2|           Joey|     Tribiyani|joeytribiyani@exa...|        2|Data Engineering ...|         2021-02-10|     true|2021-03-05 12:07:33|\n",
      "|      1|         Phoebe|        Buffay|phoebebuffay@exam...|        3|   Mastering PySpark|         2021-01-07|     true|2021-04-06 10:05:42|\n",
      "|      2|           Joey|     Tribiyani|joeytribiyani@exa...|        3|   Mastering PySpark|         2021-01-07|     true|2021-04-06 10:05:42|\n",
      "|      1|         Phoebe|        Buffay|phoebebuffay@exam...|        4|      AWS Essentials|         2021-03-19|    false|2021-04-10 02:25:36|\n",
      "|      1|         Phoebe|        Buffay|phoebebuffay@exam...|        5|          Docker 101|         2021-02-28|     true|2021-03-21 07:18:52|\n",
      "|      2|           Joey|     Tribiyani|joeytribiyani@exa...|        4|      AWS Essentials|         2021-03-19|    false|2021-04-10 02:25:36|\n",
      "|      2|           Joey|     Tribiyani|joeytribiyani@exa...|        5|          Docker 101|         2021-02-28|     true|2021-03-21 07:18:52|\n",
      "|      3|           Ross|        Geller|rossgeller@exampl...|        1|    Mastering Python|         2021-01-14|     true|2021-02-18 16:57:25|\n",
      "|      4|         Monica|        Geller|monicageller@exam...|        1|    Mastering Python|         2021-01-14|     true|2021-02-18 16:57:25|\n",
      "|      3|           Ross|        Geller|rossgeller@exampl...|        2|Data Engineering ...|         2021-02-10|     true|2021-03-05 12:07:33|\n",
      "|      4|         Monica|        Geller|monicageller@exam...|        2|Data Engineering ...|         2021-02-10|     true|2021-03-05 12:07:33|\n",
      "|      3|           Ross|        Geller|rossgeller@exampl...|        3|   Mastering PySpark|         2021-01-07|     true|2021-04-06 10:05:42|\n",
      "|      4|         Monica|        Geller|monicageller@exam...|        3|   Mastering PySpark|         2021-01-07|     true|2021-04-06 10:05:42|\n",
      "|      3|           Ross|        Geller|rossgeller@exampl...|        4|      AWS Essentials|         2021-03-19|    false|2021-04-10 02:25:36|\n",
      "|      3|           Ross|        Geller|rossgeller@exampl...|        5|          Docker 101|         2021-02-28|     true|2021-03-21 07:18:52|\n",
      "|      4|         Monica|        Geller|monicageller@exam...|        4|      AWS Essentials|         2021-03-19|    false|2021-04-10 02:25:36|\n",
      "|      4|         Monica|        Geller|monicageller@exam...|        5|          Docker 101|         2021-02-28|     true|2021-03-21 07:18:52|\n",
      "+-------+---------------+--------------+--------------------+---------+--------------------+-------------------+---------+-------------------+\n",
      "only showing top 20 rows\n",
      "\n"
     ]
    }
   ],
   "source": [
    "users_df. \\\n",
    "crossJoin(courses_df). \\\n",
    "show()"
   ]
  },
  {
   "cell_type": "code",
   "execution_count": 50,
   "id": "2064a161",
   "metadata": {},
   "outputs": [
    {
     "data": {
      "text/plain": [
       "50"
      ]
     },
     "execution_count": 50,
     "metadata": {},
     "output_type": "execute_result"
    }
   ],
   "source": [
    "# Number of records will be equal to\n",
    "# Number of records in 1st DF * Number of records in 2nd DF\n",
    "# 10 * 5 = 50\n",
    "users_df. \\\n",
    "crossJoin(courses_df). \\\n",
    "count()"
   ]
  },
  {
   "cell_type": "markdown",
   "id": "0bd3a4ca",
   "metadata": {},
   "source": [
    "**NOTE**\n",
    "\n",
    "* A cross-join that does not have a `'where' clause or condition` gives the Cartesian product. Cartesian product result-set contains the number of rows in the first table, multiplied by the number of rows in second table."
   ]
  }
 ],
 "metadata": {
  "kernelspec": {
   "display_name": "Python 3 (ipykernel)",
   "language": "python",
   "name": "python3"
  },
  "language_info": {
   "codemirror_mode": {
    "name": "ipython",
    "version": 3
   },
   "file_extension": ".py",
   "mimetype": "text/x-python",
   "name": "python",
   "nbconvert_exporter": "python",
   "pygments_lexer": "ipython3",
   "version": "3.9.7"
  }
 },
 "nbformat": 4,
 "nbformat_minor": 5
}
