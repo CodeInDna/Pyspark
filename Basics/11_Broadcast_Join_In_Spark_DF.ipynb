{
 "cells": [
  {
   "cell_type": "markdown",
   "id": "52482e32",
   "metadata": {},
   "source": [
    "## Broadcast Join in Spark DataFrame\n",
    "\n",
    "* It is also known as map side or replicated join.\n",
    "* The smaller dataset will be broadcasted to all the executors in the cluster.\n",
    "* The size of the smaller dataset is driven by `spark.sql.autoBroadcastJoinThreshold`.\n",
    "* We can even perform broadcast join when the smaller dataset is greater than `spark.sql.autoBroadcastJoinThreshold` by using `broadcast` function from `pyspark.sql.functions`.\n",
    "* We can disable broadcast join by setting `spark.sql.autoBroadcastJoinThreshold` value to 0.\n",
    "* If broadcast join is disabled then it will result in `Reduce Side or Map Reduce` join.\n",
    "* Make sure to setup multinode cluster using 28 GB Memory, 4 Cores each. Configure scaling between 2 nd 4 nodes. Driver can be of minimum configuration."
   ]
  },
  {
   "cell_type": "code",
   "execution_count": 1,
   "id": "dc071128",
   "metadata": {},
   "outputs": [],
   "source": [
    "from pyspark.sql import SparkSession, Row\n",
    "from pyspark.sql.functions import *\n",
    "import datetime"
   ]
  },
  {
   "cell_type": "code",
   "execution_count": 2,
   "id": "91861500",
   "metadata": {},
   "outputs": [],
   "source": [
    "userName = 'CodeInDNA'\n",
    "spark = SparkSession. \\\n",
    "        builder. \\\n",
    "        appName(f'{userName} - JoinSparkDF'). \\\n",
    "        getOrCreate()"
   ]
  },
  {
   "cell_type": "code",
   "execution_count": 3,
   "id": "942d177f",
   "metadata": {},
   "outputs": [
    {
     "data": {
      "text/plain": [
       "'10485760b'"
      ]
     },
     "execution_count": 3,
     "metadata": {},
     "output_type": "execute_result"
    }
   ],
   "source": [
    "# Default size is 10MB\n",
    "spark.conf.get('spark.sql.autoBroadcastJoinThreshold')"
   ]
  },
  {
   "cell_type": "code",
   "execution_count": 4,
   "id": "be485424",
   "metadata": {},
   "outputs": [],
   "source": [
    "# We can disable broadcast join using this approach\n",
    "spark.conf.set('spark.sql.autoBroadcastJoinThreshold', '0')"
   ]
  },
  {
   "cell_type": "code",
   "execution_count": 5,
   "id": "419cc3cb",
   "metadata": {},
   "outputs": [
    {
     "data": {
      "text/plain": [
       "'0'"
      ]
     },
     "execution_count": 5,
     "metadata": {},
     "output_type": "execute_result"
    }
   ],
   "source": [
    "spark.conf.get('spark.sql.autoBroadcastJoinThreshold')"
   ]
  },
  {
   "cell_type": "code",
   "execution_count": 6,
   "id": "74d1de2c",
   "metadata": {},
   "outputs": [],
   "source": [
    "# Resetting to original value\n",
    "spark.conf.set('spark.sql.autoBroadcastJoinThreshold', '10485760b')"
   ]
  },
  {
   "cell_type": "code",
   "execution_count": 8,
   "id": "e9338cdf",
   "metadata": {},
   "outputs": [],
   "source": [
    "# 5.2MB\n",
    "clickstream = spark.read.csv('../data/order_items.csv', header=True)"
   ]
  },
  {
   "cell_type": "code",
   "execution_count": 9,
   "id": "8a555c5d",
   "metadata": {},
   "outputs": [],
   "source": [
    "example = spark.read.csv('../data/orders.csv', header=False)"
   ]
  },
  {
   "cell_type": "code",
   "execution_count": 11,
   "id": "15d2bb06",
   "metadata": {},
   "outputs": [
    {
     "name": "stdout",
     "output_type": "stream",
     "text": [
      "== Physical Plan ==\n",
      "BroadcastNestedLoopJoin BuildRight, Inner\n",
      ":- FileScan csv [order_item_id#40,order_item_order_id#41,order_item_product_id#42,order_item_quantity#43,order_item_subtotal#44,order_item_product_price#45] Batched: false, DataFilters: [], Format: CSV, Location: InMemoryFileIndex[file:/E:/Practice/PySpark/data/order_items.csv], PartitionFilters: [], PushedFilters: [], ReadSchema: struct<order_item_id:string,order_item_order_id:string,order_item_product_id:string,order_item_qu...\n",
      "+- BroadcastExchange IdentityBroadcastMode, [id=#68]\n",
      "   +- FileScan csv [_c0#68,_c1#69,_c2#70,_c3#71] Batched: false, DataFilters: [], Format: CSV, Location: InMemoryFileIndex[file:/E:/Practice/PySpark/data/orders.csv], PartitionFilters: [], PushedFilters: [], ReadSchema: struct<_c0:string,_c1:string,_c2:string,_c3:string>\n",
      "\n",
      "\n",
      "Wall time: 296 ms\n"
     ]
    }
   ],
   "source": [
    "%%time\n",
    "clickstream.join(example).explain()"
   ]
  },
  {
   "cell_type": "code",
   "execution_count": 12,
   "id": "cc464ef3",
   "metadata": {},
   "outputs": [
    {
     "name": "stdout",
     "output_type": "stream",
     "text": [
      "== Physical Plan ==\n",
      "BroadcastNestedLoopJoin BuildLeft, Inner\n",
      ":- BroadcastExchange IdentityBroadcastMode, [id=#81]\n",
      ":  +- FileScan csv [order_item_id#40,order_item_order_id#41,order_item_product_id#42,order_item_quantity#43,order_item_subtotal#44,order_item_product_price#45] Batched: false, DataFilters: [], Format: CSV, Location: InMemoryFileIndex[file:/E:/Practice/PySpark/data/order_items.csv], PartitionFilters: [], PushedFilters: [], ReadSchema: struct<order_item_id:string,order_item_order_id:string,order_item_product_id:string,order_item_qu...\n",
      "+- FileScan csv [_c0#68,_c1#69,_c2#70,_c3#71] Batched: false, DataFilters: [], Format: CSV, Location: InMemoryFileIndex[file:/E:/Practice/PySpark/data/orders.csv], PartitionFilters: [], PushedFilters: [], ReadSchema: struct<_c0:string,_c1:string,_c2:string,_c3:string>\n",
      "\n",
      "\n"
     ]
    }
   ],
   "source": [
    "broadcast(clickstream).join(example).explain()"
   ]
  }
 ],
 "metadata": {
  "kernelspec": {
   "display_name": "Python 3 (ipykernel)",
   "language": "python",
   "name": "python3"
  },
  "language_info": {
   "codemirror_mode": {
    "name": "ipython",
    "version": 3
   },
   "file_extension": ".py",
   "mimetype": "text/x-python",
   "name": "python",
   "nbconvert_exporter": "python",
   "pygments_lexer": "ipython3",
   "version": "3.9.7"
  }
 },
 "nbformat": 4,
 "nbformat_minor": 5
}
