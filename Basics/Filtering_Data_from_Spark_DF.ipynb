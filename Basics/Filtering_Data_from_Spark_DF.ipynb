{
 "cells": [
  {
   "cell_type": "markdown",
   "id": "dad808f3-772f-428b-92ec-fe50be1b24da",
   "metadata": {},
   "source": [
    "### Overview of Filter or Where Function on Spark DataFrame"
   ]
  },
  {
   "cell_type": "code",
   "execution_count": 1,
   "id": "118a3271-a677-4982-9fd0-7cb52e21e84e",
   "metadata": {},
   "outputs": [],
   "source": [
    "# Import libraries\n",
    "from pyspark.sql import SparkSession, Row\n",
    "from pyspark.sql.functions import *\n",
    "from pyspark.sql.types import *\n",
    "import datetime"
   ]
  },
  {
   "cell_type": "code",
   "execution_count": 2,
   "id": "45063196-3ef8-4129-829a-e0e6b9ac2b8e",
   "metadata": {},
   "outputs": [],
   "source": [
    "spark = SparkSession \\\n",
    "        .builder \\\n",
    "        .appName('SparkFunctions') \\\n",
    "        .getOrCreate()"
   ]
  },
  {
   "cell_type": "code",
   "execution_count": 3,
   "id": "f4247651-5e97-4108-a3bd-35588d023c91",
   "metadata": {},
   "outputs": [],
   "source": [
    "users = [\n",
    "            {\n",
    "                \"id\": 1,\n",
    "                \"first_name\": \"Pheobe\",\n",
    "                \"last_name\": \"Buffay\",\n",
    "                \"gender\": \"Female\",\n",
    "                \"current_city\": \"Dallas\",\n",
    "                \"phone_numbers\": Row(mobile= \"82349238942\", home= \"2348910249\", office= \"8273929\", shop=None),\n",
    "                \"courses\": [1, 3, 5, 7],\n",
    "                \"email\": \"pheobebuffay@abc.com\",\n",
    "                \"is_customer\": False,\n",
    "                \"amount_paid\": 1000.55,\n",
    "                \"customer_from\": datetime.date(2021, 1, 13),\n",
    "                \"last_updated_ts\": datetime.datetime(2021, 2, 10, 1, 15, 0)\n",
    "            },\n",
    "            {\n",
    "                \"id\": 2,\n",
    "                \"first_name\": \"Joey\",\n",
    "                \"last_name\": \"Tribbiani\",\n",
    "                \"gender\": \"Male\",\n",
    "                \"current_city\": None,\n",
    "                \"phone_numbers\": Row(mobile= \"82349238942\", home= \"2348910249\", office= None, shop=None),\n",
    "                \"courses\": [2, 4, 5],\n",
    "                \"email\": \"joey@abc.com\",\n",
    "                \"is_customer\": True,\n",
    "                \"amount_paid\": 900.0,\n",
    "                \"customer_from\": datetime.date(2021, 2, 14),\n",
    "                \"last_updated_ts\": datetime.datetime(2021, 2, 18, 3, 33, 0)\n",
    "            },\n",
    "            {\n",
    "                \"id\": 3,\n",
    "                \"first_name\": \"Monica\",\n",
    "                \"last_name\": \"Geller\",\n",
    "                \"gender\": \"Female\",\n",
    "                \"current_city\": \"\",\n",
    "                \"phone_numbers\": Row(mobile= None, home= None, office= None, shop=None),\n",
    "                \"courses\": [2],\n",
    "                \"email\": \"monica@abc.com\",\n",
    "                \"is_customer\": True,\n",
    "                \"amount_paid\": 1000.90,\n",
    "                \"customer_from\": datetime.date(2021, 2, 22),\n",
    "                \"last_updated_ts\": datetime.datetime(2021, 2, 28, 7, 33, 0)\n",
    "            },\n",
    "            {\n",
    "                \"id\": 4,\n",
    "                \"first_name\": \"Ross\",\n",
    "                \"last_name\": \"Geller\",\n",
    "                \"gender\": \"Male\",\n",
    "                \"current_city\": \"Dallas\",\n",
    "                \"phone_numbers\": Row(mobile= \"82349238942\", home= None, office= None, shop=None),\n",
    "                \"courses\": [],\n",
    "                \"email\": \"ross@abc.com\",\n",
    "                \"is_customer\": True,\n",
    "                \"amount_paid\": 1200.55,\n",
    "                \"customer_from\": datetime.date(2021, 1, 19),\n",
    "                \"last_updated_ts\": datetime.datetime(2021, 2, 18, 1, 10, 0)\n",
    "            },\n",
    "            {\n",
    "                \"id\": 5,\n",
    "                \"first_name\": \"Rachel\",\n",
    "                \"last_name\": \"Green\",\n",
    "                \"gender\": \"Female\",\n",
    "                \"current_city\": \"Houston\",\n",
    "                \"phone_numbers\": Row(mobile= \"82349238942\", home= \"2348910249\", office= \"8273929\", shop= \"5343434654\"),\n",
    "                \"courses\": [3],\n",
    "                \"email\": \"rachel@abc.com\",\n",
    "                \"is_customer\": False,\n",
    "                \"amount_paid\": float('nan'),\n",
    "                \"customer_from\": datetime.date(2021, 2, 24),\n",
    "                \"last_updated_ts\": datetime.datetime(2021, 2, 18, 3, 33, 0)\n",
    "            },\n",
    "            {\n",
    "                \"id\": 6,\n",
    "                \"first_name\": \"Chandler\",\n",
    "                \"last_name\": \"Bing\",\n",
    "                \"gender\": \"Male\",\n",
    "                \"current_city\": \"Dallas\",\n",
    "                \"phone_numbers\": Row(mobile= \"8273929\", home= None, office= None, shop=None),\n",
    "                \"courses\": [2, 4],\n",
    "                \"email\": \"bing@abc.com\",\n",
    "                \"is_customer\": True,\n",
    "                \"amount_paid\": 1000.80,\n",
    "                \"customer_from\": datetime.date(2021, 2, 22),\n",
    "                \"last_updated_ts\": datetime.datetime(2021, 2, 25, 7, 33, 0)\n",
    "            }\n",
    "        ]"
   ]
  },
  {
   "cell_type": "code",
   "execution_count": 4,
   "id": "b5b35786-9b95-48d6-b361-0c07f83a3220",
   "metadata": {},
   "outputs": [],
   "source": [
    "usersDF = spark.createDataFrame([Row(**user) for user in users])"
   ]
  },
  {
   "cell_type": "code",
   "execution_count": 5,
   "id": "01bfd749-9213-4fae-87e4-981e14aa34f0",
   "metadata": {},
   "outputs": [
    {
     "name": "stdout",
     "output_type": "stream",
     "text": [
      "+---+----------+---------+------+------------+--------------------+------------+--------------------+-----------+-----------+-------------+-------------------+\n",
      "| id|first_name|last_name|gender|current_city|       phone_numbers|     courses|               email|is_customer|amount_paid|customer_from|    last_updated_ts|\n",
      "+---+----------+---------+------+------------+--------------------+------------+--------------------+-----------+-----------+-------------+-------------------+\n",
      "|  1|    Pheobe|   Buffay|Female|      Dallas|[82349238942, 234...|[1, 3, 5, 7]|pheobebuffay@abc.com|      false|    1000.55|   2021-01-13|2021-02-10 01:15:00|\n",
      "|  2|      Joey|Tribbiani|  Male|        null|[82349238942, 234...|   [2, 4, 5]|        joey@abc.com|       true|      900.0|   2021-02-14|2021-02-18 03:33:00|\n",
      "|  3|    Monica|   Geller|Female|            |               [,,,]|         [2]|      monica@abc.com|       true|     1000.9|   2021-02-22|2021-02-28 07:33:00|\n",
      "|  4|      Ross|   Geller|  Male|      Dallas|    [82349238942,,,]|          []|        ross@abc.com|       true|    1200.55|   2021-01-19|2021-02-18 01:10:00|\n",
      "|  5|    Rachel|    Green|Female|     Houston|[82349238942, 234...|         [3]|      rachel@abc.com|      false|        NaN|   2021-02-24|2021-02-18 03:33:00|\n",
      "|  6|  Chandler|     Bing|  Male|      Dallas|        [8273929,,,]|      [2, 4]|        bing@abc.com|       true|     1000.8|   2021-02-22|2021-02-25 07:33:00|\n",
      "+---+----------+---------+------+------------+--------------------+------------+--------------------+-----------+-----------+-------------+-------------------+\n",
      "\n"
     ]
    }
   ],
   "source": [
    "usersDF.show()"
   ]
  },
  {
   "cell_type": "code",
   "execution_count": 6,
   "id": "a3a34c7b-3872-4724-9723-8af02da5b9d7",
   "metadata": {},
   "outputs": [
    {
     "name": "stdout",
     "output_type": "stream",
     "text": [
      "root\n",
      " |-- id: long (nullable = true)\n",
      " |-- first_name: string (nullable = true)\n",
      " |-- last_name: string (nullable = true)\n",
      " |-- gender: string (nullable = true)\n",
      " |-- current_city: string (nullable = true)\n",
      " |-- phone_numbers: struct (nullable = true)\n",
      " |    |-- mobile: string (nullable = true)\n",
      " |    |-- home: string (nullable = true)\n",
      " |    |-- office: string (nullable = true)\n",
      " |    |-- shop: string (nullable = true)\n",
      " |-- courses: array (nullable = true)\n",
      " |    |-- element: long (containsNull = true)\n",
      " |-- email: string (nullable = true)\n",
      " |-- is_customer: boolean (nullable = true)\n",
      " |-- amount_paid: double (nullable = true)\n",
      " |-- customer_from: date (nullable = true)\n",
      " |-- last_updated_ts: timestamp (nullable = true)\n",
      "\n"
     ]
    }
   ],
   "source": [
    "usersDF.printSchema()"
   ]
  },
  {
   "cell_type": "code",
   "execution_count": 7,
   "id": "521214d6-1361-4000-abf1-9d2dabd1ffb0",
   "metadata": {},
   "outputs": [
    {
     "name": "stdout",
     "output_type": "stream",
     "text": [
      "Help on method filter in module pyspark.sql.dataframe:\n",
      "\n",
      "filter(condition) method of pyspark.sql.dataframe.DataFrame instance\n",
      "    Filters rows using the given condition.\n",
      "    \n",
      "    :func:`where` is an alias for :func:`filter`.\n",
      "    \n",
      "    :param condition: a :class:`Column` of :class:`types.BooleanType`\n",
      "        or a string of SQL expression.\n",
      "    \n",
      "    >>> df.filter(df.age > 3).collect()\n",
      "    [Row(age=5, name='Bob')]\n",
      "    >>> df.where(df.age == 2).collect()\n",
      "    [Row(age=2, name='Alice')]\n",
      "    \n",
      "    >>> df.filter(\"age > 3\").collect()\n",
      "    [Row(age=5, name='Bob')]\n",
      "    >>> df.where(\"age = 2\").collect()\n",
      "    [Row(age=2, name='Alice')]\n",
      "    \n",
      "    .. versionadded:: 1.3\n",
      "\n"
     ]
    }
   ],
   "source": [
    "help(usersDF.filter)"
   ]
  },
  {
   "cell_type": "markdown",
   "id": "39ac6511-2972-43ff-a9ec-49da67c1784d",
   "metadata": {},
   "source": [
    "* `where` and `filter` are synonyms\n",
    "* We can pass conditions either by using SQL Style or Non SQL Style.\n",
    "* For Non SQL Style we can pass columns using `col` function on column name as string or using the notation of df['col_name']"
   ]
  },
  {
   "cell_type": "code",
   "execution_count": 8,
   "id": "91128779-f853-42ba-995b-d86a187224f5",
   "metadata": {},
   "outputs": [
    {
     "name": "stdout",
     "output_type": "stream",
     "text": [
      "+---+----------+---------+------+------------+--------------------+------------+--------------------+-----------+-----------+-------------+-------------------+\n",
      "| id|first_name|last_name|gender|current_city|       phone_numbers|     courses|               email|is_customer|amount_paid|customer_from|    last_updated_ts|\n",
      "+---+----------+---------+------+------------+--------------------+------------+--------------------+-----------+-----------+-------------+-------------------+\n",
      "|  1|    Pheobe|   Buffay|Female|      Dallas|[82349238942, 234...|[1, 3, 5, 7]|pheobebuffay@abc.com|      false|    1000.55|   2021-01-13|2021-02-10 01:15:00|\n",
      "|  3|    Monica|   Geller|Female|            |               [,,,]|         [2]|      monica@abc.com|       true|     1000.9|   2021-02-22|2021-02-28 07:33:00|\n",
      "|  5|    Rachel|    Green|Female|     Houston|[82349238942, 234...|         [3]|      rachel@abc.com|      false|        NaN|   2021-02-24|2021-02-18 03:33:00|\n",
      "+---+----------+---------+------+------------+--------------------+------------+--------------------+-----------+-----------+-------------+-------------------+\n",
      "\n"
     ]
    }
   ],
   "source": [
    "usersDF.filter(col('gender') == 'Female').show()"
   ]
  },
  {
   "cell_type": "code",
   "execution_count": 9,
   "id": "9785c47e-74b8-4942-aa39-ae90f744249b",
   "metadata": {},
   "outputs": [
    {
     "name": "stdout",
     "output_type": "stream",
     "text": [
      "+---+----------+---------+------+------------+--------------------+------------+--------------------+-----------+-----------+-------------+-------------------+\n",
      "| id|first_name|last_name|gender|current_city|       phone_numbers|     courses|               email|is_customer|amount_paid|customer_from|    last_updated_ts|\n",
      "+---+----------+---------+------+------------+--------------------+------------+--------------------+-----------+-----------+-------------+-------------------+\n",
      "|  1|    Pheobe|   Buffay|Female|      Dallas|[82349238942, 234...|[1, 3, 5, 7]|pheobebuffay@abc.com|      false|    1000.55|   2021-01-13|2021-02-10 01:15:00|\n",
      "|  3|    Monica|   Geller|Female|            |               [,,,]|         [2]|      monica@abc.com|       true|     1000.9|   2021-02-22|2021-02-28 07:33:00|\n",
      "|  5|    Rachel|    Green|Female|     Houston|[82349238942, 234...|         [3]|      rachel@abc.com|      false|        NaN|   2021-02-24|2021-02-18 03:33:00|\n",
      "+---+----------+---------+------+------------+--------------------+------------+--------------------+-----------+-----------+-------------+-------------------+\n",
      "\n"
     ]
    }
   ],
   "source": [
    "usersDF.filter(usersDF['gender'] == 'Female').show()"
   ]
  },
  {
   "cell_type": "code",
   "execution_count": 10,
   "id": "c41aaee0-ac0c-4307-8c85-78e6acf0df18",
   "metadata": {},
   "outputs": [
    {
     "name": "stdout",
     "output_type": "stream",
     "text": [
      "+---+----------+---------+------+------------+--------------------+------------+--------------------+-----------+-----------+-------------+-------------------+\n",
      "| id|first_name|last_name|gender|current_city|       phone_numbers|     courses|               email|is_customer|amount_paid|customer_from|    last_updated_ts|\n",
      "+---+----------+---------+------+------------+--------------------+------------+--------------------+-----------+-----------+-------------+-------------------+\n",
      "|  1|    Pheobe|   Buffay|Female|      Dallas|[82349238942, 234...|[1, 3, 5, 7]|pheobebuffay@abc.com|      false|    1000.55|   2021-01-13|2021-02-10 01:15:00|\n",
      "|  3|    Monica|   Geller|Female|            |               [,,,]|         [2]|      monica@abc.com|       true|     1000.9|   2021-02-22|2021-02-28 07:33:00|\n",
      "|  5|    Rachel|    Green|Female|     Houston|[82349238942, 234...|         [3]|      rachel@abc.com|      false|        NaN|   2021-02-24|2021-02-18 03:33:00|\n",
      "+---+----------+---------+------+------------+--------------------+------------+--------------------+-----------+-----------+-------------+-------------------+\n",
      "\n"
     ]
    }
   ],
   "source": [
    "usersDF.filter(\"gender == 'Female'\").show()"
   ]
  },
  {
   "cell_type": "code",
   "execution_count": 11,
   "id": "93e297e6-09b0-4373-863f-b5c237291d45",
   "metadata": {},
   "outputs": [
    {
     "name": "stdout",
     "output_type": "stream",
     "text": [
      "+---+----------+---------+------+------------+--------------------+------------+--------------------+-----------+-----------+-------------+-------------------+\n",
      "| id|first_name|last_name|gender|current_city|       phone_numbers|     courses|               email|is_customer|amount_paid|customer_from|    last_updated_ts|\n",
      "+---+----------+---------+------+------------+--------------------+------------+--------------------+-----------+-----------+-------------+-------------------+\n",
      "|  1|    Pheobe|   Buffay|Female|      Dallas|[82349238942, 234...|[1, 3, 5, 7]|pheobebuffay@abc.com|      false|    1000.55|   2021-01-13|2021-02-10 01:15:00|\n",
      "|  3|    Monica|   Geller|Female|            |               [,,,]|         [2]|      monica@abc.com|       true|     1000.9|   2021-02-22|2021-02-28 07:33:00|\n",
      "|  5|    Rachel|    Green|Female|     Houston|[82349238942, 234...|         [3]|      rachel@abc.com|      false|        NaN|   2021-02-24|2021-02-18 03:33:00|\n",
      "+---+----------+---------+------+------------+--------------------+------------+--------------------+-----------+-----------+-------------+-------------------+\n",
      "\n"
     ]
    }
   ],
   "source": [
    "usersDF.where(col('gender') == 'Female').show()"
   ]
  },
  {
   "cell_type": "code",
   "execution_count": 12,
   "id": "a65b06ad-8f6e-4193-af06-ef9370e9f2eb",
   "metadata": {},
   "outputs": [
    {
     "name": "stdout",
     "output_type": "stream",
     "text": [
      "+---+----------+---------+------+------------+--------------------+------------+--------------------+-----------+-----------+-------------+-------------------+\n",
      "| id|first_name|last_name|gender|current_city|       phone_numbers|     courses|               email|is_customer|amount_paid|customer_from|    last_updated_ts|\n",
      "+---+----------+---------+------+------------+--------------------+------------+--------------------+-----------+-----------+-------------+-------------------+\n",
      "|  1|    Pheobe|   Buffay|Female|      Dallas|[82349238942, 234...|[1, 3, 5, 7]|pheobebuffay@abc.com|      false|    1000.55|   2021-01-13|2021-02-10 01:15:00|\n",
      "|  3|    Monica|   Geller|Female|            |               [,,,]|         [2]|      monica@abc.com|       true|     1000.9|   2021-02-22|2021-02-28 07:33:00|\n",
      "|  5|    Rachel|    Green|Female|     Houston|[82349238942, 234...|         [3]|      rachel@abc.com|      false|        NaN|   2021-02-24|2021-02-18 03:33:00|\n",
      "+---+----------+---------+------+------------+--------------------+------------+--------------------+-----------+-----------+-------------+-------------------+\n",
      "\n"
     ]
    }
   ],
   "source": [
    "usersDF.where(\"gender == 'Female'\").show()"
   ]
  },
  {
   "cell_type": "code",
   "execution_count": 13,
   "id": "d5c226de-b1bc-42a9-aac4-f406b8d8e8bf",
   "metadata": {},
   "outputs": [],
   "source": [
    "# Using spark sql syntax\n",
    "usersDF.createOrReplaceTempView('users')"
   ]
  },
  {
   "cell_type": "code",
   "execution_count": 14,
   "id": "0738566b-05a9-4519-985f-377adb4edd82",
   "metadata": {},
   "outputs": [
    {
     "name": "stdout",
     "output_type": "stream",
     "text": [
      "+---+----------+---------+------+------------+--------------------+------------+--------------------+-----------+-----------+-------------+-------------------+\n",
      "| id|first_name|last_name|gender|current_city|       phone_numbers|     courses|               email|is_customer|amount_paid|customer_from|    last_updated_ts|\n",
      "+---+----------+---------+------+------------+--------------------+------------+--------------------+-----------+-----------+-------------+-------------------+\n",
      "|  1|    Pheobe|   Buffay|Female|      Dallas|[82349238942, 234...|[1, 3, 5, 7]|pheobebuffay@abc.com|      false|    1000.55|   2021-01-13|2021-02-10 01:15:00|\n",
      "|  3|    Monica|   Geller|Female|            |               [,,,]|         [2]|      monica@abc.com|       true|     1000.9|   2021-02-22|2021-02-28 07:33:00|\n",
      "|  5|    Rachel|    Green|Female|     Houston|[82349238942, 234...|         [3]|      rachel@abc.com|      false|        NaN|   2021-02-24|2021-02-18 03:33:00|\n",
      "+---+----------+---------+------+------------+--------------------+------------+--------------------+-----------+-----------+-------------+-------------------+\n",
      "\n"
     ]
    }
   ],
   "source": [
    "spark.sql(\"SELECT * FROM users WHERE gender = 'Female'\").show()"
   ]
  },
  {
   "cell_type": "markdown",
   "id": "816d52eb",
   "metadata": {},
   "source": [
    "### Overview of Conditions and Operators"
   ]
  },
  {
   "cell_type": "markdown",
   "id": "4c0e0901",
   "metadata": {},
   "source": [
    "* Equal: `=` or `==`\n",
    "* Not Equal: `!=`\n",
    "* Greater Than: `>`\n",
    "* Less Than: `<`\n",
    "* Greater Than or Equal To: `>=`\n",
    "* Less Than or Equal To: `<=`\n",
    "* IN Operator: `isin` function or `IN` or `contains` function\n",
    "* BETWEEN Operator: `between` function or `BETWEEN` with `AND`"
   ]
  },
  {
   "cell_type": "code",
   "execution_count": 15,
   "id": "55d98ce1",
   "metadata": {},
   "outputs": [
    {
     "name": "stdout",
     "output_type": "stream",
     "text": [
      "+---+----------+---------+------+------------+--------------------+------------+--------------------+-----------+-----------+-------------+-------------------+\n",
      "| id|first_name|last_name|gender|current_city|       phone_numbers|     courses|               email|is_customer|amount_paid|customer_from|    last_updated_ts|\n",
      "+---+----------+---------+------+------------+--------------------+------------+--------------------+-----------+-----------+-------------+-------------------+\n",
      "|  1|    Pheobe|   Buffay|Female|      Dallas|[82349238942, 234...|[1, 3, 5, 7]|pheobebuffay@abc.com|      false|    1000.55|   2021-01-13|2021-02-10 01:15:00|\n",
      "|  2|      Joey|Tribbiani|  Male|    New York|[82349238942, 234...|   [2, 4, 5]|        joey@abc.com|       true|      900.0|   2021-02-14|2021-02-18 03:33:00|\n",
      "+---+----------+---------+------+------------+--------------------+------------+--------------------+-----------+-----------+-------------+-------------------+\n",
      "only showing top 2 rows\n",
      "\n"
     ]
    }
   ],
   "source": [
    "usersDF.show(2)"
   ]
  },
  {
   "cell_type": "markdown",
   "id": "f21d24eb",
   "metadata": {},
   "source": [
    "#### Equal to"
   ]
  },
  {
   "cell_type": "markdown",
   "id": "1d88b713",
   "metadata": {},
   "source": [
    "* Get list of customers(is_customer flags is set to true)"
   ]
  },
  {
   "cell_type": "code",
   "execution_count": 16,
   "id": "2694101e",
   "metadata": {},
   "outputs": [
    {
     "name": "stdout",
     "output_type": "stream",
     "text": [
      "+---+----------+---------+------+------------+--------------------+---------+--------------+-----------+-----------+-------------+-------------------+\n",
      "| id|first_name|last_name|gender|current_city|       phone_numbers|  courses|         email|is_customer|amount_paid|customer_from|    last_updated_ts|\n",
      "+---+----------+---------+------+------------+--------------------+---------+--------------+-----------+-----------+-------------+-------------------+\n",
      "|  2|      Joey|Tribbiani|  Male|    New York|[82349238942, 234...|[2, 4, 5]|  joey@abc.com|       true|      900.0|   2021-02-14|2021-02-18 03:33:00|\n",
      "|  3|    Monica|   Geller|Female|            |               [,,,]|      [2]|monica@abc.com|       true|     1000.9|   2021-02-22|2021-02-28 07:33:00|\n",
      "|  4|      Ross|   Geller|  Male|      Dallas|    [82349238942,,,]|       []|  ross@abc.com|       true|    1200.55|   2021-01-19|2021-02-18 01:10:00|\n",
      "|  6|  Chandler|     Bing|  Male|      Dallas|        [8273929,,,]|   [2, 4]|  bing@abc.com|       true|     1000.8|   2021-02-22|2021-02-25 07:33:00|\n",
      "+---+----------+---------+------+------------+--------------------+---------+--------------+-----------+-----------+-------------+-------------------+\n",
      "\n"
     ]
    }
   ],
   "source": [
    "usersDF.filter(col('is_customer') == 'true').show() # 'true' or True"
   ]
  },
  {
   "cell_type": "code",
   "execution_count": 17,
   "id": "cb7e3b4e",
   "metadata": {},
   "outputs": [
    {
     "name": "stdout",
     "output_type": "stream",
     "text": [
      "+---+----------+---------+------+------------+--------------------+---------+--------------+-----------+-----------+-------------+-------------------+\n",
      "| id|first_name|last_name|gender|current_city|       phone_numbers|  courses|         email|is_customer|amount_paid|customer_from|    last_updated_ts|\n",
      "+---+----------+---------+------+------------+--------------------+---------+--------------+-----------+-----------+-------------+-------------------+\n",
      "|  2|      Joey|Tribbiani|  Male|    New York|[82349238942, 234...|[2, 4, 5]|  joey@abc.com|       true|      900.0|   2021-02-14|2021-02-18 03:33:00|\n",
      "|  3|    Monica|   Geller|Female|            |               [,,,]|      [2]|monica@abc.com|       true|     1000.9|   2021-02-22|2021-02-28 07:33:00|\n",
      "|  4|      Ross|   Geller|  Male|      Dallas|    [82349238942,,,]|       []|  ross@abc.com|       true|    1200.55|   2021-01-19|2021-02-18 01:10:00|\n",
      "|  6|  Chandler|     Bing|  Male|      Dallas|        [8273929,,,]|   [2, 4]|  bing@abc.com|       true|     1000.8|   2021-02-22|2021-02-25 07:33:00|\n",
      "+---+----------+---------+------+------------+--------------------+---------+--------------+-----------+-----------+-------------+-------------------+\n",
      "\n"
     ]
    }
   ],
   "source": [
    "# Use sql style syntax\n",
    "usersDF.filter('is_customer = \"true\"').show() # True or \"true\" or true"
   ]
  },
  {
   "cell_type": "code",
   "execution_count": 18,
   "id": "8c873e41",
   "metadata": {},
   "outputs": [],
   "source": [
    "usersDF.createOrReplaceTempView('users')"
   ]
  },
  {
   "cell_type": "code",
   "execution_count": 19,
   "id": "1aed8b56",
   "metadata": {},
   "outputs": [
    {
     "name": "stdout",
     "output_type": "stream",
     "text": [
      "+---+----------+---------+------+------------+--------------------+---------+--------------+-----------+-----------+-------------+-------------------+\n",
      "| id|first_name|last_name|gender|current_city|       phone_numbers|  courses|         email|is_customer|amount_paid|customer_from|    last_updated_ts|\n",
      "+---+----------+---------+------+------------+--------------------+---------+--------------+-----------+-----------+-------------+-------------------+\n",
      "|  2|      Joey|Tribbiani|  Male|    New York|[82349238942, 234...|[2, 4, 5]|  joey@abc.com|       true|      900.0|   2021-02-14|2021-02-18 03:33:00|\n",
      "|  3|    Monica|   Geller|Female|            |               [,,,]|      [2]|monica@abc.com|       true|     1000.9|   2021-02-22|2021-02-28 07:33:00|\n",
      "|  4|      Ross|   Geller|  Male|      Dallas|    [82349238942,,,]|       []|  ross@abc.com|       true|    1200.55|   2021-01-19|2021-02-18 01:10:00|\n",
      "|  6|  Chandler|     Bing|  Male|      Dallas|        [8273929,,,]|   [2, 4]|  bing@abc.com|       true|     1000.8|   2021-02-22|2021-02-25 07:33:00|\n",
      "+---+----------+---------+------+------------+--------------------+---------+--------------+-----------+-----------+-------------+-------------------+\n",
      "\n"
     ]
    }
   ],
   "source": [
    "# SQL query\n",
    "spark.sql(\"\"\"SELECT * FROM users WHERE is_customer = 'true'\"\"\").show() # True or true"
   ]
  },
  {
   "cell_type": "markdown",
   "id": "30e79ae2",
   "metadata": {},
   "source": [
    "* Get users from Dallas"
   ]
  },
  {
   "cell_type": "code",
   "execution_count": 20,
   "id": "a967f406",
   "metadata": {},
   "outputs": [
    {
     "name": "stdout",
     "output_type": "stream",
     "text": [
      "+---+----------+---------+------+------------+--------------------+------------+--------------------+-----------+-----------+-------------+-------------------+\n",
      "| id|first_name|last_name|gender|current_city|       phone_numbers|     courses|               email|is_customer|amount_paid|customer_from|    last_updated_ts|\n",
      "+---+----------+---------+------+------------+--------------------+------------+--------------------+-----------+-----------+-------------+-------------------+\n",
      "|  1|    Pheobe|   Buffay|Female|      Dallas|[82349238942, 234...|[1, 3, 5, 7]|pheobebuffay@abc.com|      false|    1000.55|   2021-01-13|2021-02-10 01:15:00|\n",
      "|  4|      Ross|   Geller|  Male|      Dallas|    [82349238942,,,]|          []|        ross@abc.com|       true|    1200.55|   2021-01-19|2021-02-18 01:10:00|\n",
      "|  6|  Chandler|     Bing|  Male|      Dallas|        [8273929,,,]|      [2, 4]|        bing@abc.com|       true|     1000.8|   2021-02-22|2021-02-25 07:33:00|\n",
      "+---+----------+---------+------+------------+--------------------+------------+--------------------+-----------+-----------+-------------+-------------------+\n",
      "\n"
     ]
    }
   ],
   "source": [
    "usersDF.filter(col('current_city') == 'Dallas').show()"
   ]
  },
  {
   "cell_type": "markdown",
   "id": "57b585e9",
   "metadata": {},
   "source": [
    "* Get the customers who paid 900.0"
   ]
  },
  {
   "cell_type": "code",
   "execution_count": 21,
   "id": "d26f370e",
   "metadata": {},
   "outputs": [
    {
     "name": "stdout",
     "output_type": "stream",
     "text": [
      "+---+----------+---------+------+------------+--------------------+---------+------------+-----------+-----------+-------------+-------------------+\n",
      "| id|first_name|last_name|gender|current_city|       phone_numbers|  courses|       email|is_customer|amount_paid|customer_from|    last_updated_ts|\n",
      "+---+----------+---------+------+------------+--------------------+---------+------------+-----------+-----------+-------------+-------------------+\n",
      "|  2|      Joey|Tribbiani|  Male|    New York|[82349238942, 234...|[2, 4, 5]|joey@abc.com|       true|      900.0|   2021-02-14|2021-02-18 03:33:00|\n",
      "+---+----------+---------+------+------------+--------------------+---------+------------+-----------+-----------+-------------+-------------------+\n",
      "\n"
     ]
    }
   ],
   "source": [
    "usersDF.filter(col('amount_paid') == 900.0).show() # '900.0'"
   ]
  },
  {
   "cell_type": "markdown",
   "id": "9a18f310",
   "metadata": {},
   "source": [
    "* Get the customers where paid amount is not a number"
   ]
  },
  {
   "cell_type": "code",
   "execution_count": 22,
   "id": "0d1ed069",
   "metadata": {},
   "outputs": [
    {
     "name": "stdout",
     "output_type": "stream",
     "text": [
      "+-----------+------------------+\n",
      "|amount_paid|isnan(amount_paid)|\n",
      "+-----------+------------------+\n",
      "|    1000.55|             false|\n",
      "|      900.0|             false|\n",
      "|     1000.9|             false|\n",
      "|    1200.55|             false|\n",
      "|        NaN|              true|\n",
      "|     1000.8|             false|\n",
      "+-----------+------------------+\n",
      "\n"
     ]
    }
   ],
   "source": [
    "usersDF.select('amount_paid', isnan('amount_paid')).show()"
   ]
  },
  {
   "cell_type": "code",
   "execution_count": 23,
   "id": "33ac5d58",
   "metadata": {},
   "outputs": [
    {
     "name": "stdout",
     "output_type": "stream",
     "text": [
      "+---+----------+---------+------+------------+--------------------+-------+--------------+-----------+-----------+-------------+-------------------+\n",
      "| id|first_name|last_name|gender|current_city|       phone_numbers|courses|         email|is_customer|amount_paid|customer_from|    last_updated_ts|\n",
      "+---+----------+---------+------+------------+--------------------+-------+--------------+-----------+-----------+-------------+-------------------+\n",
      "|  5|    Rachel|    Green|Female|     Houston|[82349238942, 234...|    [3]|rachel@abc.com|      false|        NaN|   2021-02-24|2021-02-18 03:33:00|\n",
      "+---+----------+---------+------+------------+--------------------+-------+--------------+-----------+-----------+-------------+-------------------+\n",
      "\n"
     ]
    }
   ],
   "source": [
    "usersDF.filter(isnan(col('amount_paid'))).show()"
   ]
  },
  {
   "cell_type": "code",
   "execution_count": 24,
   "id": "0fda6d7f",
   "metadata": {},
   "outputs": [
    {
     "name": "stdout",
     "output_type": "stream",
     "text": [
      "+---+----------+---------+------+------------+--------------------+-------+--------------+-----------+-----------+-------------+-------------------+\n",
      "| id|first_name|last_name|gender|current_city|       phone_numbers|courses|         email|is_customer|amount_paid|customer_from|    last_updated_ts|\n",
      "+---+----------+---------+------+------------+--------------------+-------+--------------+-----------+-----------+-------------+-------------------+\n",
      "|  5|    Rachel|    Green|Female|     Houston|[82349238942, 234...|    [3]|rachel@abc.com|      false|        NaN|   2021-02-24|2021-02-18 03:33:00|\n",
      "+---+----------+---------+------+------------+--------------------+-------+--------------+-----------+-----------+-------------+-------------------+\n",
      "\n"
     ]
    }
   ],
   "source": [
    "usersDF.filter('isnan(amount_paid) = True').show()"
   ]
  },
  {
   "cell_type": "markdown",
   "id": "f1b37ec5",
   "metadata": {},
   "source": [
    "#### Not Equal to"
   ]
  },
  {
   "cell_type": "markdown",
   "id": "c70bd5e5",
   "metadata": {},
   "source": [
    "* Get all the users who are not living in Dallas"
   ]
  },
  {
   "cell_type": "code",
   "execution_count": 52,
   "id": "6ea88480",
   "metadata": {},
   "outputs": [
    {
     "name": "stdout",
     "output_type": "stream",
     "text": [
      "+---+------------+\n",
      "| id|current_city|\n",
      "+---+------------+\n",
      "|  1|      Dallas|\n",
      "|  2|        null|\n",
      "|  3|            |\n",
      "|  4|      Dallas|\n",
      "|  5|     Houston|\n",
      "|  6|      Dallas|\n",
      "+---+------------+\n",
      "\n"
     ]
    }
   ],
   "source": [
    "usersDF.select('id', 'current_city').show()"
   ]
  },
  {
   "cell_type": "code",
   "execution_count": 29,
   "id": "af0f6e95",
   "metadata": {},
   "outputs": [
    {
     "name": "stdout",
     "output_type": "stream",
     "text": [
      "+---+------------+\n",
      "| id|current_city|\n",
      "+---+------------+\n",
      "|  2|    New York|\n",
      "|  3|            |\n",
      "|  5|     Houston|\n",
      "+---+------------+\n",
      "\n"
     ]
    }
   ],
   "source": [
    "usersDF.select('id', 'current_city').filter(col('current_city') != 'Dallas').show()"
   ]
  },
  {
   "cell_type": "markdown",
   "id": "42853122",
   "metadata": {},
   "source": [
    "* Get all the users whose city name is not empty string. Null can be ignored."
   ]
  },
  {
   "cell_type": "code",
   "execution_count": 30,
   "id": "e9e15dba",
   "metadata": {},
   "outputs": [
    {
     "name": "stdout",
     "output_type": "stream",
     "text": [
      "+---+------------+\n",
      "| id|current_city|\n",
      "+---+------------+\n",
      "|  1|      Dallas|\n",
      "|  2|    New York|\n",
      "|  4|      Dallas|\n",
      "|  5|     Houston|\n",
      "|  6|      Dallas|\n",
      "+---+------------+\n",
      "\n"
     ]
    }
   ],
   "source": [
    "usersDF.select('id', 'current_city').filter(col('current_city') != '').show()"
   ]
  },
  {
   "cell_type": "code",
   "execution_count": 51,
   "id": "a633b9fb",
   "metadata": {},
   "outputs": [
    {
     "name": "stdout",
     "output_type": "stream",
     "text": [
      "+---+------------+\n",
      "| id|current_city|\n",
      "+---+------------+\n",
      "|  2|        null|\n",
      "|  3|            |\n",
      "|  5|     Houston|\n",
      "+---+------------+\n",
      "\n"
     ]
    }
   ],
   "source": [
    "# Null or Not dallas\n",
    "usersDF \\\n",
    ".select('id', 'current_city') \\\n",
    ".filter((col('current_city') != 'Dallas') | (col('current_city').isNull())).show()"
   ]
  },
  {
   "cell_type": "code",
   "execution_count": 53,
   "id": "91ebda66",
   "metadata": {},
   "outputs": [
    {
     "name": "stdout",
     "output_type": "stream",
     "text": [
      "+---+------------+\n",
      "| id|current_city|\n",
      "+---+------------+\n",
      "|  2|        null|\n",
      "|  3|            |\n",
      "|  5|     Houston|\n",
      "+---+------------+\n",
      "\n"
     ]
    }
   ],
   "source": [
    "usersDF \\\n",
    ".select('id', 'current_city') \\\n",
    ".filter(\"current_city != 'Dallas' OR current_city IS NULL\").show()"
   ]
  },
  {
   "cell_type": "code",
   "execution_count": 54,
   "id": "b0150d66",
   "metadata": {},
   "outputs": [
    {
     "name": "stdout",
     "output_type": "stream",
     "text": [
      "+---+------------+\n",
      "| id|current_city|\n",
      "+---+------------+\n",
      "|  1|      Dallas|\n",
      "|  4|      Dallas|\n",
      "|  5|     Houston|\n",
      "|  6|      Dallas|\n",
      "+---+------------+\n",
      "\n"
     ]
    }
   ],
   "source": [
    "usersDF \\\n",
    ".select('id', 'current_city') \\\n",
    ".filter((col('current_city') != '')).show()"
   ]
  },
  {
   "cell_type": "code",
   "execution_count": 57,
   "id": "3bf852bc",
   "metadata": {},
   "outputs": [
    {
     "name": "stdout",
     "output_type": "stream",
     "text": [
      "+---+------------+\n",
      "| id|current_city|\n",
      "+---+------------+\n",
      "|  1|      Dallas|\n",
      "|  3|            |\n",
      "|  4|      Dallas|\n",
      "|  5|     Houston|\n",
      "|  6|      Dallas|\n",
      "+---+------------+\n",
      "\n"
     ]
    }
   ],
   "source": [
    "usersDF \\\n",
    ".select('id', 'current_city') \\\n",
    ".filter(col('current_city') != 'None').show()"
   ]
  },
  {
   "cell_type": "markdown",
   "id": "27868c13",
   "metadata": {},
   "source": [
    "**NOTE:**\n",
    "* If we use `col('current_city') != ''`, it will ignore both `null values` and `empty` string.\n",
    "* If we use `col('current_city') != 'None'`, it will only `ignore null values`.\n",
    "* If we use `col('current_city') == ''`, it will only consider `empty strings`.\n",
    "* Check examples below."
   ]
  },
  {
   "cell_type": "code",
   "execution_count": 71,
   "id": "36050c9c",
   "metadata": {},
   "outputs": [],
   "source": [
    "city = [(1, 'Kolkata'), (2, 'Indore'), (3, 'Satna'), (4, ''), (5, ), (6, None)]"
   ]
  },
  {
   "cell_type": "code",
   "execution_count": 72,
   "id": "9d4fe43b",
   "metadata": {},
   "outputs": [
    {
     "data": {
      "text/html": [
       "<div>\n",
       "<style scoped>\n",
       "    .dataframe tbody tr th:only-of-type {\n",
       "        vertical-align: middle;\n",
       "    }\n",
       "\n",
       "    .dataframe tbody tr th {\n",
       "        vertical-align: top;\n",
       "    }\n",
       "\n",
       "    .dataframe thead th {\n",
       "        text-align: right;\n",
       "    }\n",
       "</style>\n",
       "<table border=\"1\" class=\"dataframe\">\n",
       "  <thead>\n",
       "    <tr style=\"text-align: right;\">\n",
       "      <th></th>\n",
       "      <th>0</th>\n",
       "      <th>1</th>\n",
       "    </tr>\n",
       "  </thead>\n",
       "  <tbody>\n",
       "    <tr>\n",
       "      <th>0</th>\n",
       "      <td>1</td>\n",
       "      <td>Kolkata</td>\n",
       "    </tr>\n",
       "    <tr>\n",
       "      <th>1</th>\n",
       "      <td>2</td>\n",
       "      <td>Indore</td>\n",
       "    </tr>\n",
       "    <tr>\n",
       "      <th>2</th>\n",
       "      <td>3</td>\n",
       "      <td>Satna</td>\n",
       "    </tr>\n",
       "    <tr>\n",
       "      <th>3</th>\n",
       "      <td>4</td>\n",
       "      <td></td>\n",
       "    </tr>\n",
       "    <tr>\n",
       "      <th>4</th>\n",
       "      <td>5</td>\n",
       "      <td>None</td>\n",
       "    </tr>\n",
       "    <tr>\n",
       "      <th>5</th>\n",
       "      <td>6</td>\n",
       "      <td>None</td>\n",
       "    </tr>\n",
       "  </tbody>\n",
       "</table>\n",
       "</div>"
      ],
      "text/plain": [
       "   0        1\n",
       "0  1  Kolkata\n",
       "1  2   Indore\n",
       "2  3    Satna\n",
       "3  4         \n",
       "4  5     None\n",
       "5  6     None"
      ]
     },
     "execution_count": 72,
     "metadata": {},
     "output_type": "execute_result"
    }
   ],
   "source": [
    "pd.DataFrame(city)"
   ]
  },
  {
   "cell_type": "code",
   "execution_count": 76,
   "id": "235228b7",
   "metadata": {},
   "outputs": [],
   "source": [
    "import pandas as pd\n",
    "df = spark.createDataFrame(pd.DataFrame(city), 'id INT, city STRING')"
   ]
  },
  {
   "cell_type": "code",
   "execution_count": 77,
   "id": "c064958e",
   "metadata": {},
   "outputs": [
    {
     "name": "stdout",
     "output_type": "stream",
     "text": [
      "+---+-------+\n",
      "| id|   city|\n",
      "+---+-------+\n",
      "|  1|Kolkata|\n",
      "|  2| Indore|\n",
      "|  3|  Satna|\n",
      "|  4|       |\n",
      "|  5|   null|\n",
      "|  6|   null|\n",
      "+---+-------+\n",
      "\n"
     ]
    }
   ],
   "source": [
    "df.show()"
   ]
  },
  {
   "cell_type": "code",
   "execution_count": 78,
   "id": "1e59696c",
   "metadata": {},
   "outputs": [
    {
     "name": "stdout",
     "output_type": "stream",
     "text": [
      "root\n",
      " |-- id: integer (nullable = true)\n",
      " |-- city: string (nullable = true)\n",
      "\n"
     ]
    }
   ],
   "source": [
    "df.printSchema()"
   ]
  },
  {
   "cell_type": "code",
   "execution_count": 80,
   "id": "eed9b308",
   "metadata": {},
   "outputs": [
    {
     "name": "stdout",
     "output_type": "stream",
     "text": [
      "+---+----+\n",
      "| id|city|\n",
      "+---+----+\n",
      "|  5|null|\n",
      "|  6|null|\n",
      "+---+----+\n",
      "\n"
     ]
    }
   ],
   "source": [
    "df.filter(col('city').isNull()).show()"
   ]
  },
  {
   "cell_type": "code",
   "execution_count": 81,
   "id": "5e3c2d42",
   "metadata": {},
   "outputs": [
    {
     "name": "stdout",
     "output_type": "stream",
     "text": [
      "+---+----+\n",
      "| id|city|\n",
      "+---+----+\n",
      "|  4|    |\n",
      "|  5|null|\n",
      "|  6|null|\n",
      "+---+----+\n",
      "\n"
     ]
    }
   ],
   "source": [
    "df.filter((col('city').isNull()) | (col('city') == '')).show()"
   ]
  },
  {
   "cell_type": "code",
   "execution_count": 83,
   "id": "04e2cdb2",
   "metadata": {},
   "outputs": [
    {
     "name": "stdout",
     "output_type": "stream",
     "text": [
      "+---+-------+\n",
      "| id|   city|\n",
      "+---+-------+\n",
      "|  1|Kolkata|\n",
      "|  2| Indore|\n",
      "|  3|  Satna|\n",
      "+---+-------+\n",
      "\n"
     ]
    }
   ],
   "source": [
    "df.filter((col('city') != '')).show()"
   ]
  },
  {
   "cell_type": "code",
   "execution_count": 84,
   "id": "5ec900e8",
   "metadata": {
    "scrolled": true
   },
   "outputs": [
    {
     "name": "stdout",
     "output_type": "stream",
     "text": [
      "+---+----+\n",
      "| id|city|\n",
      "+---+----+\n",
      "|  4|    |\n",
      "+---+----+\n",
      "\n"
     ]
    }
   ],
   "source": [
    "df.filter((col('city') == '')).show()"
   ]
  },
  {
   "cell_type": "markdown",
   "id": "8e1680ee",
   "metadata": {},
   "source": [
    "#### BETWEEN"
   ]
  },
  {
   "cell_type": "code",
   "execution_count": 85,
   "id": "99e126d1",
   "metadata": {},
   "outputs": [
    {
     "name": "stdout",
     "output_type": "stream",
     "text": [
      "+---+----------+---------+------+------------+--------------------+------------+--------------------+-----------+-----------+-------------+-------------------+\n",
      "| id|first_name|last_name|gender|current_city|       phone_numbers|     courses|               email|is_customer|amount_paid|customer_from|    last_updated_ts|\n",
      "+---+----------+---------+------+------------+--------------------+------------+--------------------+-----------+-----------+-------------+-------------------+\n",
      "|  1|    Pheobe|   Buffay|Female|      Dallas|[82349238942, 234...|[1, 3, 5, 7]|pheobebuffay@abc.com|      false|    1000.55|   2021-01-13|2021-02-10 01:15:00|\n",
      "|  2|      Joey|Tribbiani|  Male|        null|[82349238942, 234...|   [2, 4, 5]|        joey@abc.com|       true|      900.0|   2021-02-14|2021-02-18 03:33:00|\n",
      "|  3|    Monica|   Geller|Female|            |               [,,,]|         [2]|      monica@abc.com|       true|     1000.9|   2021-02-22|2021-02-28 07:33:00|\n",
      "|  4|      Ross|   Geller|  Male|      Dallas|    [82349238942,,,]|          []|        ross@abc.com|       true|    1200.55|   2021-01-19|2021-02-18 01:10:00|\n",
      "|  5|    Rachel|    Green|Female|     Houston|[82349238942, 234...|         [3]|      rachel@abc.com|      false|        NaN|   2021-02-24|2021-02-18 03:33:00|\n",
      "|  6|  Chandler|     Bing|  Male|      Dallas|        [8273929,,,]|      [2, 4]|        bing@abc.com|       true|     1000.8|   2021-02-22|2021-02-25 07:33:00|\n",
      "+---+----------+---------+------+------------+--------------------+------------+--------------------+-----------+-----------+-------------+-------------------+\n",
      "\n"
     ]
    }
   ],
   "source": [
    "usersDF.show()"
   ]
  },
  {
   "cell_type": "markdown",
   "id": "b2034587",
   "metadata": {},
   "source": [
    "* Get user_id and email whose last updated timestamp is between 2021 Feb 15th and 2021 March 15th"
   ]
  },
  {
   "cell_type": "code",
   "execution_count": 92,
   "id": "54b4f097",
   "metadata": {},
   "outputs": [
    {
     "name": "stdout",
     "output_type": "stream",
     "text": [
      "Help on method between in module pyspark.sql.column:\n",
      "\n",
      "between(lowerBound, upperBound) method of pyspark.sql.column.Column instance\n",
      "    A boolean expression that is evaluated to true if the value of this\n",
      "    expression is between the given columns.\n",
      "    \n",
      "    >>> df.select(df.name, df.age.between(2, 4)).show()\n",
      "    +-----+---------------------------+\n",
      "    | name|((age >= 2) AND (age <= 4))|\n",
      "    +-----+---------------------------+\n",
      "    |Alice|                       true|\n",
      "    |  Bob|                      false|\n",
      "    +-----+---------------------------+\n",
      "    \n",
      "    .. versionadded:: 1.3\n",
      "\n"
     ]
    }
   ],
   "source": [
    "help(usersDF['last_updated_ts'].between)"
   ]
  },
  {
   "cell_type": "code",
   "execution_count": 96,
   "id": "e0b1c0d4",
   "metadata": {
    "scrolled": true
   },
   "outputs": [
    {
     "name": "stdout",
     "output_type": "stream",
     "text": [
      "+---+--------------+-------------------+\n",
      "| id|         email|    last_updated_ts|\n",
      "+---+--------------+-------------------+\n",
      "|  2|  joey@abc.com|2021-02-18 03:33:00|\n",
      "|  4|  ross@abc.com|2021-02-18 01:10:00|\n",
      "|  5|rachel@abc.com|2021-02-18 03:33:00|\n",
      "|  6|  bing@abc.com|2021-02-25 07:33:00|\n",
      "+---+--------------+-------------------+\n",
      "\n"
     ]
    }
   ],
   "source": [
    "# BUG: should return 5 rows\n",
    "usersDF \\\n",
    ".select('id', 'email', 'last_updated_ts') \\\n",
    ".filter(col('last_updated_ts').between('2021-02-15', '2021-02-28')) \\\n",
    ".show()"
   ]
  },
  {
   "cell_type": "code",
   "execution_count": 99,
   "id": "b4ecc7ed",
   "metadata": {},
   "outputs": [
    {
     "name": "stdout",
     "output_type": "stream",
     "text": [
      "+---+--------------+-------------------+\n",
      "| id|         email|    last_updated_ts|\n",
      "+---+--------------+-------------------+\n",
      "|  2|  joey@abc.com|2021-02-18 03:33:00|\n",
      "|  3|monica@abc.com|2021-02-28 07:33:00|\n",
      "|  4|  ross@abc.com|2021-02-18 01:10:00|\n",
      "|  5|rachel@abc.com|2021-02-18 03:33:00|\n",
      "|  6|  bing@abc.com|2021-02-25 07:33:00|\n",
      "+---+--------------+-------------------+\n",
      "\n"
     ]
    }
   ],
   "source": [
    "# FIX: specify full timestamp\n",
    "usersDF \\\n",
    ".select('id', 'email', 'last_updated_ts') \\\n",
    ".filter(col('last_updated_ts').between('2021-02-15 00:00:00', '2021-02-28 23:59:59')) \\\n",
    ".show()"
   ]
  },
  {
   "cell_type": "code",
   "execution_count": 100,
   "id": "07d69034",
   "metadata": {},
   "outputs": [
    {
     "name": "stdout",
     "output_type": "stream",
     "text": [
      "+---+--------------+-------------------+\n",
      "| id|         email|    last_updated_ts|\n",
      "+---+--------------+-------------------+\n",
      "|  2|  joey@abc.com|2021-02-18 03:33:00|\n",
      "|  3|monica@abc.com|2021-02-28 07:33:00|\n",
      "|  4|  ross@abc.com|2021-02-18 01:10:00|\n",
      "|  5|rachel@abc.com|2021-02-18 03:33:00|\n",
      "|  6|  bing@abc.com|2021-02-25 07:33:00|\n",
      "+---+--------------+-------------------+\n",
      "\n"
     ]
    }
   ],
   "source": [
    "# SQL like syntax\n",
    "usersDF \\\n",
    ".select('id', 'email', 'last_updated_ts') \\\n",
    ".filter(\"last_updated_ts BETWEEN '2021-02-15 00:00:00' AND '2021-02-28 23:59:59'\") \\\n",
    ".show()"
   ]
  },
  {
   "cell_type": "markdown",
   "id": "6fcf53c6",
   "metadata": {},
   "source": [
    "* Get all the users whose payment is in the range of 850 and 900"
   ]
  },
  {
   "cell_type": "code",
   "execution_count": 101,
   "id": "dd8bcca8",
   "metadata": {},
   "outputs": [
    {
     "name": "stdout",
     "output_type": "stream",
     "text": [
      "+---+----------+---------+------+------------+--------------------+---------+------------+-----------+-----------+-------------+-------------------+\n",
      "| id|first_name|last_name|gender|current_city|       phone_numbers|  courses|       email|is_customer|amount_paid|customer_from|    last_updated_ts|\n",
      "+---+----------+---------+------+------------+--------------------+---------+------------+-----------+-----------+-------------+-------------------+\n",
      "|  2|      Joey|Tribbiani|  Male|        null|[82349238942, 234...|[2, 4, 5]|joey@abc.com|       true|      900.0|   2021-02-14|2021-02-18 03:33:00|\n",
      "+---+----------+---------+------+------------+--------------------+---------+------------+-----------+-----------+-------------+-------------------+\n",
      "\n"
     ]
    }
   ],
   "source": [
    "usersDF.filter(col('amount_paid').between(850, 900)).show()"
   ]
  },
  {
   "cell_type": "code",
   "execution_count": 102,
   "id": "2237bae9",
   "metadata": {
    "scrolled": false
   },
   "outputs": [
    {
     "name": "stdout",
     "output_type": "stream",
     "text": [
      "+---+----------+---------+------+------------+--------------------+---------+------------+-----------+-----------+-------------+-------------------+\n",
      "| id|first_name|last_name|gender|current_city|       phone_numbers|  courses|       email|is_customer|amount_paid|customer_from|    last_updated_ts|\n",
      "+---+----------+---------+------+------------+--------------------+---------+------------+-----------+-----------+-------------+-------------------+\n",
      "|  2|      Joey|Tribbiani|  Male|        null|[82349238942, 234...|[2, 4, 5]|joey@abc.com|       true|      900.0|   2021-02-14|2021-02-18 03:33:00|\n",
      "+---+----------+---------+------+------------+--------------------+---------+------------+-----------+-----------+-------------+-------------------+\n",
      "\n"
     ]
    }
   ],
   "source": [
    "# SQL like syntax\n",
    "usersDF.filter(\"amount_paid BETWEEN 850 AND 900\").show()"
   ]
  },
  {
   "cell_type": "code",
   "execution_count": 103,
   "id": "8d095d23",
   "metadata": {},
   "outputs": [
    {
     "name": "stdout",
     "output_type": "stream",
     "text": [
      "+---+----------+---------+------+------------+--------------------+---------+------------+-----------+-----------+-------------+-------------------+\n",
      "| id|first_name|last_name|gender|current_city|       phone_numbers|  courses|       email|is_customer|amount_paid|customer_from|    last_updated_ts|\n",
      "+---+----------+---------+------+------------+--------------------+---------+------------+-----------+-----------+-------------+-------------------+\n",
      "|  2|      Joey|Tribbiani|  Male|        null|[82349238942, 234...|[2, 4, 5]|joey@abc.com|       true|      900.0|   2021-02-14|2021-02-18 03:33:00|\n",
      "+---+----------+---------+------+------------+--------------------+---------+------------+-----------+-----------+-------------+-------------------+\n",
      "\n"
     ]
    }
   ],
   "source": [
    "# If you pass 850 and 900 as string, it will implicitly get converted into float or int or double\n",
    "usersDF.filter(\"amount_paid BETWEEN '850' AND '900'\").show()"
   ]
  },
  {
   "cell_type": "markdown",
   "id": "9e3e934a",
   "metadata": {},
   "source": [
    "### Boolean Operations\n",
    "* Boolean OR\n",
    "* Boolean AND\n",
    "* Negation"
   ]
  },
  {
   "cell_type": "code",
   "execution_count": 104,
   "id": "fd7a3a24",
   "metadata": {},
   "outputs": [
    {
     "data": {
      "text/plain": [
       "True"
      ]
     },
     "execution_count": 104,
     "metadata": {},
     "output_type": "execute_result"
    }
   ],
   "source": [
    "# True or True\n",
    "True or True"
   ]
  },
  {
   "cell_type": "code",
   "execution_count": 105,
   "id": "c457dba9",
   "metadata": {},
   "outputs": [
    {
     "data": {
      "text/plain": [
       "True"
      ]
     },
     "execution_count": 105,
     "metadata": {},
     "output_type": "execute_result"
    }
   ],
   "source": [
    "# True or False\n",
    "True or False"
   ]
  },
  {
   "cell_type": "code",
   "execution_count": 106,
   "id": "a5367773",
   "metadata": {},
   "outputs": [
    {
     "data": {
      "text/plain": [
       "True"
      ]
     },
     "execution_count": 106,
     "metadata": {},
     "output_type": "execute_result"
    }
   ],
   "source": [
    "# False or True\n",
    "False or True"
   ]
  },
  {
   "cell_type": "code",
   "execution_count": 107,
   "id": "97ddc544",
   "metadata": {},
   "outputs": [
    {
     "data": {
      "text/plain": [
       "False"
      ]
     },
     "execution_count": 107,
     "metadata": {},
     "output_type": "execute_result"
    }
   ],
   "source": [
    "# False or False\n",
    "False or False"
   ]
  },
  {
   "cell_type": "code",
   "execution_count": 108,
   "id": "bf0ce7fc",
   "metadata": {},
   "outputs": [
    {
     "data": {
      "text/plain": [
       "True"
      ]
     },
     "execution_count": 108,
     "metadata": {},
     "output_type": "execute_result"
    }
   ],
   "source": [
    "# True and True\n",
    "True and True"
   ]
  },
  {
   "cell_type": "code",
   "execution_count": 109,
   "id": "d370cc2b",
   "metadata": {},
   "outputs": [
    {
     "data": {
      "text/plain": [
       "False"
      ]
     },
     "execution_count": 109,
     "metadata": {},
     "output_type": "execute_result"
    }
   ],
   "source": [
    "# True and False\n",
    "True and False"
   ]
  },
  {
   "cell_type": "code",
   "execution_count": 110,
   "id": "7ac0220b",
   "metadata": {},
   "outputs": [
    {
     "data": {
      "text/plain": [
       "False"
      ]
     },
     "execution_count": 110,
     "metadata": {},
     "output_type": "execute_result"
    }
   ],
   "source": [
    "# False and True\n",
    "False and True"
   ]
  },
  {
   "cell_type": "code",
   "execution_count": 111,
   "id": "4c3bee10",
   "metadata": {},
   "outputs": [
    {
     "data": {
      "text/plain": [
       "False"
      ]
     },
     "execution_count": 111,
     "metadata": {},
     "output_type": "execute_result"
    }
   ],
   "source": [
    "# False and False\n",
    "False and False"
   ]
  },
  {
   "cell_type": "code",
   "execution_count": 112,
   "id": "3f98df24",
   "metadata": {},
   "outputs": [
    {
     "data": {
      "text/plain": [
       "False"
      ]
     },
     "execution_count": 112,
     "metadata": {},
     "output_type": "execute_result"
    }
   ],
   "source": [
    "not True"
   ]
  },
  {
   "cell_type": "code",
   "execution_count": 113,
   "id": "e75ed814",
   "metadata": {},
   "outputs": [
    {
     "data": {
      "text/plain": [
       "True"
      ]
     },
     "execution_count": 113,
     "metadata": {},
     "output_type": "execute_result"
    }
   ],
   "source": [
    "not False"
   ]
  },
  {
   "cell_type": "code",
   "execution_count": 114,
   "id": "c30b9d41",
   "metadata": {},
   "outputs": [
    {
     "name": "stdout",
     "output_type": "stream",
     "text": [
      "+---+----------+---------+------+------------+--------------------+------------+--------------------+-----------+-----------+-------------+-------------------+\n",
      "| id|first_name|last_name|gender|current_city|       phone_numbers|     courses|               email|is_customer|amount_paid|customer_from|    last_updated_ts|\n",
      "+---+----------+---------+------+------------+--------------------+------------+--------------------+-----------+-----------+-------------+-------------------+\n",
      "|  1|    Pheobe|   Buffay|Female|      Dallas|[82349238942, 234...|[1, 3, 5, 7]|pheobebuffay@abc.com|      false|    1000.55|   2021-01-13|2021-02-10 01:15:00|\n",
      "|  2|      Joey|Tribbiani|  Male|        null|[82349238942, 234...|   [2, 4, 5]|        joey@abc.com|       true|      900.0|   2021-02-14|2021-02-18 03:33:00|\n",
      "|  3|    Monica|   Geller|Female|            |               [,,,]|         [2]|      monica@abc.com|       true|     1000.9|   2021-02-22|2021-02-28 07:33:00|\n",
      "|  4|      Ross|   Geller|  Male|      Dallas|    [82349238942,,,]|          []|        ross@abc.com|       true|    1200.55|   2021-01-19|2021-02-18 01:10:00|\n",
      "|  5|    Rachel|    Green|Female|     Houston|[82349238942, 234...|         [3]|      rachel@abc.com|      false|        NaN|   2021-02-24|2021-02-18 03:33:00|\n",
      "|  6|  Chandler|     Bing|  Male|      Dallas|        [8273929,,,]|      [2, 4]|        bing@abc.com|       true|     1000.8|   2021-02-22|2021-02-25 07:33:00|\n",
      "+---+----------+---------+------+------------+--------------------+------------+--------------------+-----------+-----------+-------------+-------------------+\n",
      "\n"
     ]
    }
   ],
   "source": [
    "usersDF.show()"
   ]
  },
  {
   "cell_type": "markdown",
   "id": "3e62a1a4",
   "metadata": {},
   "source": [
    "* Get list of users whose city is null or empty string"
   ]
  },
  {
   "cell_type": "code",
   "execution_count": 115,
   "id": "73719a7e",
   "metadata": {},
   "outputs": [
    {
     "name": "stdout",
     "output_type": "stream",
     "text": [
      "+---+------------+\n",
      "| id|current_city|\n",
      "+---+------------+\n",
      "|  1|      Dallas|\n",
      "|  2|        null|\n",
      "|  3|            |\n",
      "|  4|      Dallas|\n",
      "|  5|     Houston|\n",
      "|  6|      Dallas|\n",
      "+---+------------+\n",
      "\n"
     ]
    }
   ],
   "source": [
    "usersDF.select('id', 'current_city').show()"
   ]
  },
  {
   "cell_type": "code",
   "execution_count": 117,
   "id": "c3de317b",
   "metadata": {},
   "outputs": [
    {
     "name": "stdout",
     "output_type": "stream",
     "text": [
      "+---+------------+\n",
      "| id|current_city|\n",
      "+---+------------+\n",
      "|  2|        null|\n",
      "|  3|            |\n",
      "+---+------------+\n",
      "\n"
     ]
    }
   ],
   "source": [
    "usersDF \\\n",
    ".select('id', 'current_city') \\\n",
    ".filter((col('current_city').isNull()) | (col('current_city') == '')).show()"
   ]
  },
  {
   "cell_type": "code",
   "execution_count": 118,
   "id": "946be7c2",
   "metadata": {},
   "outputs": [
    {
     "name": "stdout",
     "output_type": "stream",
     "text": [
      "+---+------------+\n",
      "| id|current_city|\n",
      "+---+------------+\n",
      "|  2|        null|\n",
      "|  3|            |\n",
      "+---+------------+\n",
      "\n"
     ]
    }
   ],
   "source": [
    "# SQL style syntax\n",
    "usersDF \\\n",
    ".select('id', 'current_city') \\\n",
    ".filter(\"current_city IS NULL OR current_city = '' \").show()"
   ]
  },
  {
   "cell_type": "markdown",
   "id": "179e450f",
   "metadata": {},
   "source": [
    "* Get list of users whose city is either Houston or Dallas"
   ]
  },
  {
   "cell_type": "code",
   "execution_count": 125,
   "id": "793b7451",
   "metadata": {},
   "outputs": [
    {
     "name": "stdout",
     "output_type": "stream",
     "text": [
      "+---+------------+\n",
      "| id|current_city|\n",
      "+---+------------+\n",
      "|  1|      Dallas|\n",
      "|  4|      Dallas|\n",
      "|  5|     Houston|\n",
      "|  6|      Dallas|\n",
      "+---+------------+\n",
      "\n"
     ]
    }
   ],
   "source": [
    "usersDF \\\n",
    ".select('id', 'current_city') \\\n",
    ".filter((col('current_city') == 'Dallas') | (col('current_city') == 'Houston')).show()"
   ]
  },
  {
   "cell_type": "code",
   "execution_count": 121,
   "id": "77d26cfa",
   "metadata": {},
   "outputs": [
    {
     "name": "stdout",
     "output_type": "stream",
     "text": [
      "+---+------------+\n",
      "| id|current_city|\n",
      "+---+------------+\n",
      "|  1|      Dallas|\n",
      "|  4|      Dallas|\n",
      "|  5|     Houston|\n",
      "|  6|      Dallas|\n",
      "+---+------------+\n",
      "\n"
     ]
    }
   ],
   "source": [
    "usersDF \\\n",
    ".select('id', 'current_city') \\\n",
    ".filter(col('current_city').isin('Houston', 'Dallas')).show()"
   ]
  },
  {
   "cell_type": "code",
   "execution_count": 126,
   "id": "606109fc",
   "metadata": {},
   "outputs": [
    {
     "name": "stdout",
     "output_type": "stream",
     "text": [
      "+---+------------+\n",
      "| id|current_city|\n",
      "+---+------------+\n",
      "|  1|      Dallas|\n",
      "|  3|            |\n",
      "|  4|      Dallas|\n",
      "|  5|     Houston|\n",
      "|  6|      Dallas|\n",
      "+---+------------+\n",
      "\n"
     ]
    }
   ],
   "source": [
    "usersDF \\\n",
    ".select('id', 'current_city') \\\n",
    ".filter(col('current_city').isin('Houston', 'Dallas', '')).show()"
   ]
  },
  {
   "cell_type": "code",
   "execution_count": 124,
   "id": "9bffdd04",
   "metadata": {},
   "outputs": [
    {
     "name": "stdout",
     "output_type": "stream",
     "text": [
      "+---+------------+\n",
      "| id|current_city|\n",
      "+---+------------+\n",
      "|  1|      Dallas|\n",
      "|  4|      Dallas|\n",
      "|  5|     Houston|\n",
      "|  6|      Dallas|\n",
      "+---+------------+\n",
      "\n"
     ]
    }
   ],
   "source": [
    "# SQL style syntax\n",
    "usersDF \\\n",
    ".select('id', 'current_city') \\\n",
    ".filter(\"current_city IN ('Houston', 'Dallas')\").show()"
   ]
  },
  {
   "cell_type": "code",
   "execution_count": 128,
   "id": "0e980e55",
   "metadata": {},
   "outputs": [
    {
     "name": "stdout",
     "output_type": "stream",
     "text": [
      "+---+------------+\n",
      "| id|current_city|\n",
      "+---+------------+\n",
      "|  1|      Dallas|\n",
      "|  3|            |\n",
      "|  4|      Dallas|\n",
      "|  5|     Houston|\n",
      "|  6|      Dallas|\n",
      "+---+------------+\n",
      "\n"
     ]
    }
   ],
   "source": [
    "# SQL style syntax\n",
    "usersDF \\\n",
    ".select('id', 'current_city') \\\n",
    ".filter(\"current_city IN ('Houston', 'Dallas', '')\").show()"
   ]
  },
  {
   "cell_type": "markdown",
   "id": "50643166",
   "metadata": {},
   "source": [
    "* Get list of users whose city is either Houston or Dallas or empty string or Null"
   ]
  },
  {
   "cell_type": "code",
   "execution_count": 131,
   "id": "7431e4cc",
   "metadata": {},
   "outputs": [
    {
     "name": "stdout",
     "output_type": "stream",
     "text": [
      "+---+------------+\n",
      "| id|current_city|\n",
      "+---+------------+\n",
      "|  1|      Dallas|\n",
      "|  2|        null|\n",
      "|  3|            |\n",
      "|  4|      Dallas|\n",
      "|  5|     Houston|\n",
      "|  6|      Dallas|\n",
      "+---+------------+\n",
      "\n"
     ]
    }
   ],
   "source": [
    "usersDF \\\n",
    ".select('id', 'current_city') \\\n",
    ".filter((col('current_city').isin('Houston', 'Dallas', '')) | (col('current_city').isNull())).show()"
   ]
  },
  {
   "cell_type": "code",
   "execution_count": 132,
   "id": "512988e4",
   "metadata": {
    "scrolled": true
   },
   "outputs": [
    {
     "name": "stdout",
     "output_type": "stream",
     "text": [
      "+---+------------+\n",
      "| id|current_city|\n",
      "+---+------------+\n",
      "|  1|      Dallas|\n",
      "|  2|        null|\n",
      "|  3|            |\n",
      "|  4|      Dallas|\n",
      "|  5|     Houston|\n",
      "|  6|      Dallas|\n",
      "+---+------------+\n",
      "\n"
     ]
    }
   ],
   "source": [
    "# SQL style syntax\n",
    "usersDF \\\n",
    ".select('id', 'current_city') \\\n",
    ".filter(\"current_city IN ('Houston', 'Dallas', '') OR current_city IS NULL\").show()"
   ]
  },
  {
   "cell_type": "markdown",
   "id": "e2feac42",
   "metadata": {},
   "source": [
    "* `>`\n",
    "* `<`\n",
    "* `>=` (equivalent to boolean with `col1 > val1 or cal1 = val1`)\n",
    "* `<=` (equivalent to boolean with `col1 < val1 or cal1 = val1`)"
   ]
  },
  {
   "cell_type": "markdown",
   "id": "0812fba8",
   "metadata": {},
   "source": [
    "* Get customers who paid greater than 900"
   ]
  },
  {
   "cell_type": "code",
   "execution_count": 6,
   "id": "4f32cabf",
   "metadata": {},
   "outputs": [
    {
     "name": "stdout",
     "output_type": "stream",
     "text": [
      "+---+----------+---------+------+------------+--------------------+------------+--------------------+-----------+-----------+-------------+-------------------+\n",
      "| id|first_name|last_name|gender|current_city|       phone_numbers|     courses|               email|is_customer|amount_paid|customer_from|    last_updated_ts|\n",
      "+---+----------+---------+------+------------+--------------------+------------+--------------------+-----------+-----------+-------------+-------------------+\n",
      "|  1|    Pheobe|   Buffay|Female|      Dallas|[82349238942, 234...|[1, 3, 5, 7]|pheobebuffay@abc.com|      false|    1000.55|   2021-01-13|2021-02-10 01:15:00|\n",
      "|  2|      Joey|Tribbiani|  Male|        null|[82349238942, 234...|   [2, 4, 5]|        joey@abc.com|       true|      900.0|   2021-02-14|2021-02-18 03:33:00|\n",
      "|  3|    Monica|   Geller|Female|            |               [,,,]|         [2]|      monica@abc.com|       true|     1000.9|   2021-02-22|2021-02-28 07:33:00|\n",
      "|  4|      Ross|   Geller|  Male|      Dallas|    [82349238942,,,]|          []|        ross@abc.com|       true|    1200.55|   2021-01-19|2021-02-18 01:10:00|\n",
      "|  5|    Rachel|    Green|Female|     Houston|[82349238942, 234...|         [3]|      rachel@abc.com|      false|        NaN|   2021-02-24|2021-02-18 03:33:00|\n",
      "|  6|  Chandler|     Bing|  Male|      Dallas|        [8273929,,,]|      [2, 4]|        bing@abc.com|       true|     1000.8|   2021-02-22|2021-02-25 07:33:00|\n",
      "+---+----------+---------+------+------------+--------------------+------------+--------------------+-----------+-----------+-------------+-------------------+\n",
      "\n"
     ]
    }
   ],
   "source": [
    "usersDF.show()"
   ]
  },
  {
   "cell_type": "code",
   "execution_count": 12,
   "id": "f543c4d4",
   "metadata": {},
   "outputs": [
    {
     "name": "stdout",
     "output_type": "stream",
     "text": [
      "+---+-----------+\n",
      "| id|amount_paid|\n",
      "+---+-----------+\n",
      "|  1|    1000.55|\n",
      "|  3|     1000.9|\n",
      "|  4|    1200.55|\n",
      "|  6|     1000.8|\n",
      "+---+-----------+\n",
      "\n"
     ]
    }
   ],
   "source": [
    "usersDF.select('id', 'amount_paid') \\\n",
    ".filter((col('amount_paid') > 900) & (isnan(col('amount_paid')) == False)).show()"
   ]
  },
  {
   "cell_type": "markdown",
   "id": "ee31d19e",
   "metadata": {},
   "source": [
    "* Get customers who paid less than 900"
   ]
  },
  {
   "cell_type": "code",
   "execution_count": 15,
   "id": "a86fc1a2",
   "metadata": {},
   "outputs": [
    {
     "name": "stdout",
     "output_type": "stream",
     "text": [
      "+---+-----------+\n",
      "| id|amount_paid|\n",
      "+---+-----------+\n",
      "+---+-----------+\n",
      "\n"
     ]
    }
   ],
   "source": [
    "usersDF.select('id', 'amount_paid') \\\n",
    ".filter((col('amount_paid') < 900)  & (isnan(col('amount_paid')) == False)).show()"
   ]
  },
  {
   "cell_type": "markdown",
   "id": "99570255",
   "metadata": {},
   "source": [
    "* Get customers who paid greater than or equal to 900"
   ]
  },
  {
   "cell_type": "code",
   "execution_count": 17,
   "id": "b5478bd1",
   "metadata": {},
   "outputs": [
    {
     "name": "stdout",
     "output_type": "stream",
     "text": [
      "+---+-----------+\n",
      "| id|amount_paid|\n",
      "+---+-----------+\n",
      "|  1|    1000.55|\n",
      "|  2|      900.0|\n",
      "|  3|     1000.9|\n",
      "|  4|    1200.55|\n",
      "|  6|     1000.8|\n",
      "+---+-----------+\n",
      "\n"
     ]
    }
   ],
   "source": [
    "usersDF.select('id', 'amount_paid') \\\n",
    ".filter((col('amount_paid') >= 900) & (isnan(col('amount_paid')) == False)).show()"
   ]
  },
  {
   "cell_type": "markdown",
   "id": "99c75bfd",
   "metadata": {},
   "source": [
    "* Get the users who became customers after `2021-01-21`"
   ]
  },
  {
   "cell_type": "code",
   "execution_count": 18,
   "id": "1066753c",
   "metadata": {},
   "outputs": [
    {
     "name": "stdout",
     "output_type": "stream",
     "text": [
      "+---+-------------+\n",
      "| id|customer_from|\n",
      "+---+-------------+\n",
      "|  2|   2021-02-14|\n",
      "|  3|   2021-02-22|\n",
      "|  5|   2021-02-24|\n",
      "|  6|   2021-02-22|\n",
      "+---+-------------+\n",
      "\n"
     ]
    }
   ],
   "source": [
    "usersDF.select('id', 'customer_from') \\\n",
    ".filter((col('customer_from') >= '2021-01-21 00:00:00')).show()"
   ]
  },
  {
   "cell_type": "code",
   "execution_count": 21,
   "id": "f57dc316",
   "metadata": {},
   "outputs": [
    {
     "name": "stdout",
     "output_type": "stream",
     "text": [
      "+---+-------------+\n",
      "| id|customer_from|\n",
      "+---+-------------+\n",
      "|  2|   2021-02-14|\n",
      "|  3|   2021-02-22|\n",
      "|  5|   2021-02-24|\n",
      "|  6|   2021-02-22|\n",
      "+---+-------------+\n",
      "\n"
     ]
    }
   ],
   "source": [
    "usersDF.select('id', 'customer_from') \\\n",
    ".filter(\"customer_from > '2021-01-21'\").show()"
   ]
  },
  {
   "cell_type": "markdown",
   "id": "d230b5cb",
   "metadata": {},
   "source": [
    "### Boolean AND Condition "
   ]
  },
  {
   "cell_type": "code",
   "execution_count": 22,
   "id": "4502fcc1",
   "metadata": {},
   "outputs": [
    {
     "name": "stdout",
     "output_type": "stream",
     "text": [
      "+---+----------+---------+------+------------+--------------------+------------+--------------------+-----------+-----------+-------------+-------------------+\n",
      "| id|first_name|last_name|gender|current_city|       phone_numbers|     courses|               email|is_customer|amount_paid|customer_from|    last_updated_ts|\n",
      "+---+----------+---------+------+------------+--------------------+------------+--------------------+-----------+-----------+-------------+-------------------+\n",
      "|  1|    Pheobe|   Buffay|Female|      Dallas|[82349238942, 234...|[1, 3, 5, 7]|pheobebuffay@abc.com|      false|    1000.55|   2021-01-13|2021-02-10 01:15:00|\n",
      "|  2|      Joey|Tribbiani|  Male|        null|[82349238942, 234...|   [2, 4, 5]|        joey@abc.com|       true|      900.0|   2021-02-14|2021-02-18 03:33:00|\n",
      "+---+----------+---------+------+------------+--------------------+------------+--------------------+-----------+-----------+-------------+-------------------+\n",
      "only showing top 2 rows\n",
      "\n"
     ]
    }
   ],
   "source": [
    "usersDF.show(2)"
   ]
  },
  {
   "cell_type": "code",
   "execution_count": 25,
   "id": "5e169e35",
   "metadata": {},
   "outputs": [
    {
     "name": "stdout",
     "output_type": "stream",
     "text": [
      "root\n",
      " |-- id: long (nullable = true)\n",
      " |-- first_name: string (nullable = true)\n",
      " |-- last_name: string (nullable = true)\n",
      " |-- gender: string (nullable = true)\n",
      " |-- current_city: string (nullable = true)\n",
      " |-- phone_numbers: struct (nullable = true)\n",
      " |    |-- mobile: string (nullable = true)\n",
      " |    |-- home: string (nullable = true)\n",
      " |    |-- office: string (nullable = true)\n",
      " |    |-- shop: string (nullable = true)\n",
      " |-- courses: array (nullable = true)\n",
      " |    |-- element: long (containsNull = true)\n",
      " |-- email: string (nullable = true)\n",
      " |-- is_customer: boolean (nullable = true)\n",
      " |-- amount_paid: double (nullable = true)\n",
      " |-- customer_from: date (nullable = true)\n",
      " |-- last_updated_ts: timestamp (nullable = true)\n",
      "\n"
     ]
    }
   ],
   "source": [
    "usersDF.printSchema()"
   ]
  },
  {
   "cell_type": "markdown",
   "id": "b7e63ec8",
   "metadata": {},
   "source": [
    "* Get Male Customers (is_customer = true)"
   ]
  },
  {
   "cell_type": "code",
   "execution_count": 29,
   "id": "756c3fc7",
   "metadata": {},
   "outputs": [
    {
     "name": "stdout",
     "output_type": "stream",
     "text": [
      "+---+------+-----------+\n",
      "| id|gender|is_customer|\n",
      "+---+------+-----------+\n",
      "|  2|  Male|       true|\n",
      "|  4|  Male|       true|\n",
      "|  6|  Male|       true|\n",
      "+---+------+-----------+\n",
      "\n"
     ]
    }
   ],
   "source": [
    "usersDF. \\\n",
    "select('id', 'gender', 'is_customer'). \\\n",
    "filter((col('gender') == 'Male') & (col('is_customer') == True)).show()"
   ]
  },
  {
   "cell_type": "code",
   "execution_count": 30,
   "id": "47aa7854",
   "metadata": {},
   "outputs": [
    {
     "name": "stdout",
     "output_type": "stream",
     "text": [
      "+---+------+-----------+\n",
      "| id|gender|is_customer|\n",
      "+---+------+-----------+\n",
      "|  2|  Male|       true|\n",
      "|  4|  Male|       true|\n",
      "|  6|  Male|       true|\n",
      "+---+------+-----------+\n",
      "\n"
     ]
    }
   ],
   "source": [
    "usersDF. \\\n",
    "select('id', 'gender', 'is_customer'). \\\n",
    "filter(\"gender = 'Male' AND is_customer = True\").show()"
   ]
  },
  {
   "cell_type": "markdown",
   "id": "9805b35a",
   "metadata": {},
   "source": [
    "* Get users who become customers between 2021 Jan 20th and 2021 Feb 15th"
   ]
  },
  {
   "cell_type": "code",
   "execution_count": 31,
   "id": "00755619",
   "metadata": {},
   "outputs": [
    {
     "name": "stdout",
     "output_type": "stream",
     "text": [
      "+---+-------------+\n",
      "| id|customer_from|\n",
      "+---+-------------+\n",
      "|  2|   2021-02-14|\n",
      "+---+-------------+\n",
      "\n"
     ]
    }
   ],
   "source": [
    "usersDF. \\\n",
    "select('id', 'customer_from'). \\\n",
    "filter((col('customer_from') >= '2021-01-20') & (col('customer_from') <= '2021-02-15')).show()"
   ]
  },
  {
   "cell_type": "markdown",
   "id": "547aac40",
   "metadata": {},
   "source": [
    "### Boolean OR Condition \n"
   ]
  },
  {
   "cell_type": "markdown",
   "id": "b503c060",
   "metadata": {},
   "source": [
    "* Get id and email of users who are not customers or city contain empty string."
   ]
  },
  {
   "cell_type": "code",
   "execution_count": 32,
   "id": "5cf37a46",
   "metadata": {},
   "outputs": [
    {
     "name": "stdout",
     "output_type": "stream",
     "text": [
      "+---+--------------------+------------+-----------+\n",
      "| id|               email|current_city|is_customer|\n",
      "+---+--------------------+------------+-----------+\n",
      "|  1|pheobebuffay@abc.com|      Dallas|      false|\n",
      "|  2|        joey@abc.com|        null|       true|\n",
      "|  3|      monica@abc.com|            |       true|\n",
      "|  4|        ross@abc.com|      Dallas|       true|\n",
      "|  5|      rachel@abc.com|     Houston|      false|\n",
      "|  6|        bing@abc.com|      Dallas|       true|\n",
      "+---+--------------------+------------+-----------+\n",
      "\n"
     ]
    }
   ],
   "source": [
    "usersDF.select('id', 'email', 'current_city', 'is_customer').show()"
   ]
  },
  {
   "cell_type": "code",
   "execution_count": 33,
   "id": "02977e11",
   "metadata": {},
   "outputs": [
    {
     "name": "stdout",
     "output_type": "stream",
     "text": [
      "+---+--------------------+------------+-----------+\n",
      "| id|               email|current_city|is_customer|\n",
      "+---+--------------------+------------+-----------+\n",
      "|  1|pheobebuffay@abc.com|      Dallas|      false|\n",
      "|  3|      monica@abc.com|            |       true|\n",
      "|  5|      rachel@abc.com|     Houston|      false|\n",
      "+---+--------------------+------------+-----------+\n",
      "\n"
     ]
    }
   ],
   "source": [
    "usersDF.select('id', 'email', 'current_city', 'is_customer') \\\n",
    ".filter((col('is_customer') == False) | (col('current_city') == '')).show()"
   ]
  },
  {
   "cell_type": "markdown",
   "id": "05494a67",
   "metadata": {},
   "source": [
    "* Get id and email of users who are not customers or customer whose last updated time is before 2021-03-01."
   ]
  },
  {
   "cell_type": "code",
   "execution_count": 37,
   "id": "16e5ae95",
   "metadata": {
    "scrolled": true
   },
   "outputs": [
    {
     "name": "stdout",
     "output_type": "stream",
     "text": [
      "+---+--------------------+-----------+-------------------+\n",
      "| id|               email|is_customer|    last_updated_ts|\n",
      "+---+--------------------+-----------+-------------------+\n",
      "|  1|pheobebuffay@abc.com|      false|2021-02-10 01:15:00|\n",
      "|  2|        joey@abc.com|       true|2021-02-18 03:33:00|\n",
      "|  3|      monica@abc.com|       true|2021-02-28 07:33:00|\n",
      "|  4|        ross@abc.com|       true|2021-02-18 01:10:00|\n",
      "|  5|      rachel@abc.com|      false|2021-02-18 03:33:00|\n",
      "|  6|        bing@abc.com|       true|2021-02-25 07:33:00|\n",
      "+---+--------------------+-----------+-------------------+\n",
      "\n"
     ]
    }
   ],
   "source": [
    "usersDF.select('id', 'email', 'is_customer', 'last_updated_ts') \\\n",
    ".filter((col('is_customer') == False) | (col('last_updated_ts') < '2021-03-01')).show()"
   ]
  }
 ],
 "metadata": {
  "kernelspec": {
   "display_name": "Python 3 (ipykernel)",
   "language": "python",
   "name": "python3"
  },
  "language_info": {
   "codemirror_mode": {
    "name": "ipython",
    "version": 3
   },
   "file_extension": ".py",
   "mimetype": "text/x-python",
   "name": "python",
   "nbconvert_exporter": "python",
   "pygments_lexer": "ipython3",
   "version": "3.9.7"
  }
 },
 "nbformat": 4,
 "nbformat_minor": 5
}
