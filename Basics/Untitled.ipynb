{
 "cells": [
  {
   "cell_type": "markdown",
   "id": "dad808f3-772f-428b-92ec-fe50be1b24da",
   "metadata": {},
   "source": [
    "### Overview of Filter or Where Function on Spark DataFrame"
   ]
  },
  {
   "cell_type": "code",
   "execution_count": 8,
   "id": "118a3271-a677-4982-9fd0-7cb52e21e84e",
   "metadata": {},
   "outputs": [],
   "source": [
    "# Import libraries\n",
    "from pyspark.sql import SparkSession, Row\n",
    "from pyspark.sql.functions import *\n",
    "import datetime"
   ]
  },
  {
   "cell_type": "code",
   "execution_count": 4,
   "id": "45063196-3ef8-4129-829a-e0e6b9ac2b8e",
   "metadata": {},
   "outputs": [],
   "source": [
    "spark = SparkSession \\\n",
    "        .builder \\\n",
    "        .appName('SparkFunctions') \\\n",
    "        .getOrCreate()"
   ]
  },
  {
   "cell_type": "code",
   "execution_count": 19,
   "id": "f4247651-5e97-4108-a3bd-35588d023c91",
   "metadata": {},
   "outputs": [],
   "source": [
    "users = [\n",
    "            {\n",
    "                \"id\": 1,\n",
    "                \"first_name\": \"Pheobe\",\n",
    "                \"last_name\": \"Buffay\",\n",
    "                \"gender\": \"Female\",\n",
    "                \"phone_numbers\": Row(mobile= \"82349238942\", home= \"2348910249\", office= \"8273929\", shop=None),\n",
    "                \"courses\": [1, 3, 5, 7],\n",
    "                \"email\": \"pheobebuffay@abc.com\",\n",
    "                \"is_customer\": True,\n",
    "                \"amount_paid\": 1000.55,\n",
    "                \"customer_from\": datetime.date(2021, 1, 13),\n",
    "                \"last_updated_ts\": datetime.datetime(2021, 2, 10, 1, 15, 0)\n",
    "            },\n",
    "            {\n",
    "                \"id\": 2,\n",
    "                \"first_name\": \"Joey\",\n",
    "                \"last_name\": \"Tribbiani\",\n",
    "                \"gender\": \"Male\",\n",
    "                \"phone_numbers\": Row(mobile= \"82349238942\", home= \"2348910249\", office= None, shop=None),\n",
    "                \"courses\": [2, 4, 5],\n",
    "                \"email\": \"joey@abc.com\",\n",
    "                \"is_customer\": True,\n",
    "                \"amount_paid\": 900.0,\n",
    "                \"customer_from\": datetime.date(2021, 2, 14),\n",
    "                \"last_updated_ts\": datetime.datetime(2021, 2, 18, 3, 33, 0)\n",
    "            },\n",
    "            {\n",
    "                \"id\": 3,\n",
    "                \"first_name\": \"Monica\",\n",
    "                \"last_name\": \"Geller\",\n",
    "                \"gender\": \"Female\",\n",
    "                \"phone_numbers\": Row(mobile= None, home= None, office= None, shop=None),\n",
    "                \"courses\": [2],\n",
    "                \"email\": \"monica@abc.com\",\n",
    "                \"is_customer\": True,\n",
    "                \"amount_paid\": 1000.90,\n",
    "                \"customer_from\": datetime.date(2021, 2, 22),\n",
    "                \"last_updated_ts\": datetime.datetime(2021, 2, 28, 7, 33, 0)\n",
    "            },\n",
    "            {\n",
    "                \"id\": 4,\n",
    "                \"first_name\": \"Ross\",\n",
    "                \"last_name\": \"Geller\",\n",
    "                \"gender\": \"Male\",\n",
    "                \"phone_numbers\": Row(mobile= \"82349238942\", home= None, office= None, shop=None),\n",
    "                \"courses\": [],\n",
    "                \"email\": \"ross@abc.com\",\n",
    "                \"is_customer\": True,\n",
    "                \"amount_paid\": 1200.55,\n",
    "                \"customer_from\": datetime.date(2021, 1, 19),\n",
    "                \"last_updated_ts\": datetime.datetime(2021, 2, 18, 1, 10, 0)\n",
    "            },\n",
    "            {\n",
    "                \"id\": 5,\n",
    "                \"first_name\": \"Rachel\",\n",
    "                \"last_name\": \"Green\",\n",
    "                \"gender\": \"Female\",\n",
    "                \"phone_numbers\": Row(mobile= \"82349238942\", home= \"2348910249\", office= \"8273929\", shop= \"5343434654\"),\n",
    "                \"courses\": [3],\n",
    "                \"email\": \"rachel@abc.com\",\n",
    "                \"is_customer\": True,\n",
    "                \"amount_paid\": None,\n",
    "                \"customer_from\": datetime.date(2021, 2, 24),\n",
    "                \"last_updated_ts\": datetime.datetime(2021, 2, 18, 3, 33, 0)\n",
    "            },\n",
    "            {\n",
    "                \"id\": 6,\n",
    "                \"first_name\": \"Chandler\",\n",
    "                \"last_name\": \"Bing\",\n",
    "                \"gender\": \"Male\",\n",
    "                \"phone_numbers\": Row(mobile= \"8273929\", home= None, office= None, shop=None),\n",
    "                \"courses\": [2, 4],\n",
    "                \"email\": \"bing@abc.com\",\n",
    "                \"is_customer\": True,\n",
    "                \"amount_paid\": 1000.80,\n",
    "                \"customer_from\": datetime.date(2021, 2, 22),\n",
    "                \"last_updated_ts\": datetime.datetime(2021, 2, 25, 7, 33, 0)\n",
    "            }\n",
    "        ]"
   ]
  },
  {
   "cell_type": "code",
   "execution_count": 20,
   "id": "b5b35786-9b95-48d6-b361-0c07f83a3220",
   "metadata": {},
   "outputs": [],
   "source": [
    "usersDF = spark.createDataFrame([Row(**user) for user in users])"
   ]
  },
  {
   "cell_type": "code",
   "execution_count": 21,
   "id": "01bfd749-9213-4fae-87e4-981e14aa34f0",
   "metadata": {},
   "outputs": [
    {
     "name": "stdout",
     "output_type": "stream",
     "text": [
      "+---+----------+---------+------+--------------------+------------+--------------------+-----------+-----------+-------------+-------------------+\n",
      "| id|first_name|last_name|gender|       phone_numbers|     courses|               email|is_customer|amount_paid|customer_from|    last_updated_ts|\n",
      "+---+----------+---------+------+--------------------+------------+--------------------+-----------+-----------+-------------+-------------------+\n",
      "|  1|    Pheobe|   Buffay|Female|[82349238942, 234...|[1, 3, 5, 7]|pheobebuffay@abc.com|       true|    1000.55|   2021-01-13|2021-02-10 01:15:00|\n",
      "|  2|      Joey|Tribbiani|  Male|[82349238942, 234...|   [2, 4, 5]|        joey@abc.com|       true|      900.0|   2021-02-14|2021-02-18 03:33:00|\n",
      "|  3|    Monica|   Geller|Female|               [,,,]|         [2]|      monica@abc.com|       true|     1000.9|   2021-02-22|2021-02-28 07:33:00|\n",
      "|  4|      Ross|   Geller|  Male|    [82349238942,,,]|          []|        ross@abc.com|       true|    1200.55|   2021-01-19|2021-02-18 01:10:00|\n",
      "|  5|    Rachel|    Green|Female|[82349238942, 234...|         [3]|      rachel@abc.com|       true|       null|   2021-02-24|2021-02-18 03:33:00|\n",
      "|  6|  Chandler|     Bing|  Male|        [8273929,,,]|      [2, 4]|        bing@abc.com|       true|     1000.8|   2021-02-22|2021-02-25 07:33:00|\n",
      "+---+----------+---------+------+--------------------+------------+--------------------+-----------+-----------+-------------+-------------------+\n",
      "\n"
     ]
    }
   ],
   "source": [
    "usersDF.show()"
   ]
  },
  {
   "cell_type": "code",
   "execution_count": 14,
   "id": "a3a34c7b-3872-4724-9723-8af02da5b9d7",
   "metadata": {},
   "outputs": [
    {
     "name": "stdout",
     "output_type": "stream",
     "text": [
      "root\n",
      " |-- id: long (nullable = true)\n",
      " |-- first_name: string (nullable = true)\n",
      " |-- last_name: string (nullable = true)\n",
      " |-- phone_numbers: struct (nullable = true)\n",
      " |    |-- mobile: string (nullable = true)\n",
      " |    |-- home: string (nullable = true)\n",
      " |    |-- office: string (nullable = true)\n",
      " |    |-- shop: string (nullable = true)\n",
      " |-- courses: array (nullable = true)\n",
      " |    |-- element: long (containsNull = true)\n",
      " |-- email: string (nullable = true)\n",
      " |-- is_customer: boolean (nullable = true)\n",
      " |-- amount_paid: double (nullable = true)\n",
      " |-- customer_from: date (nullable = true)\n",
      " |-- last_updated_ts: timestamp (nullable = true)\n",
      "\n"
     ]
    }
   ],
   "source": [
    "usersDF.printSchema()"
   ]
  },
  {
   "cell_type": "code",
   "execution_count": 15,
   "id": "521214d6-1361-4000-abf1-9d2dabd1ffb0",
   "metadata": {},
   "outputs": [
    {
     "name": "stdout",
     "output_type": "stream",
     "text": [
      "Help on method filter in module pyspark.sql.dataframe:\n",
      "\n",
      "filter(condition) method of pyspark.sql.dataframe.DataFrame instance\n",
      "    Filters rows using the given condition.\n",
      "    \n",
      "    :func:`where` is an alias for :func:`filter`.\n",
      "    \n",
      "    :param condition: a :class:`Column` of :class:`types.BooleanType`\n",
      "        or a string of SQL expression.\n",
      "    \n",
      "    >>> df.filter(df.age > 3).collect()\n",
      "    [Row(age=5, name='Bob')]\n",
      "    >>> df.where(df.age == 2).collect()\n",
      "    [Row(age=2, name='Alice')]\n",
      "    \n",
      "    >>> df.filter(\"age > 3\").collect()\n",
      "    [Row(age=5, name='Bob')]\n",
      "    >>> df.where(\"age = 2\").collect()\n",
      "    [Row(age=2, name='Alice')]\n",
      "    \n",
      "    .. versionadded:: 1.3\n",
      "\n"
     ]
    }
   ],
   "source": [
    "help(usersDF.filter)"
   ]
  },
  {
   "cell_type": "markdown",
   "id": "39ac6511-2972-43ff-a9ec-49da67c1784d",
   "metadata": {},
   "source": [
    "* `where` and `filter` are synonyms\n",
    "* We can pass conditions either by using SQL Style or Non SQL Style.\n",
    "* For Non SQL Style we can pass columns using `col` function on column name as string or using the notation of df['col_name']"
   ]
  },
  {
   "cell_type": "code",
   "execution_count": 22,
   "id": "91128779-f853-42ba-995b-d86a187224f5",
   "metadata": {},
   "outputs": [
    {
     "name": "stdout",
     "output_type": "stream",
     "text": [
      "+---+----------+---------+------+--------------------+------------+--------------------+-----------+-----------+-------------+-------------------+\n",
      "| id|first_name|last_name|gender|       phone_numbers|     courses|               email|is_customer|amount_paid|customer_from|    last_updated_ts|\n",
      "+---+----------+---------+------+--------------------+------------+--------------------+-----------+-----------+-------------+-------------------+\n",
      "|  1|    Pheobe|   Buffay|Female|[82349238942, 234...|[1, 3, 5, 7]|pheobebuffay@abc.com|       true|    1000.55|   2021-01-13|2021-02-10 01:15:00|\n",
      "|  3|    Monica|   Geller|Female|               [,,,]|         [2]|      monica@abc.com|       true|     1000.9|   2021-02-22|2021-02-28 07:33:00|\n",
      "|  5|    Rachel|    Green|Female|[82349238942, 234...|         [3]|      rachel@abc.com|       true|       null|   2021-02-24|2021-02-18 03:33:00|\n",
      "+---+----------+---------+------+--------------------+------------+--------------------+-----------+-----------+-------------+-------------------+\n",
      "\n"
     ]
    }
   ],
   "source": [
    "usersDF.filter(col('gender') == 'Female').show()"
   ]
  },
  {
   "cell_type": "code",
   "execution_count": 25,
   "id": "9785c47e-74b8-4942-aa39-ae90f744249b",
   "metadata": {},
   "outputs": [
    {
     "name": "stdout",
     "output_type": "stream",
     "text": [
      "+---+----------+---------+------+--------------------+------------+--------------------+-----------+-----------+-------------+-------------------+\n",
      "| id|first_name|last_name|gender|       phone_numbers|     courses|               email|is_customer|amount_paid|customer_from|    last_updated_ts|\n",
      "+---+----------+---------+------+--------------------+------------+--------------------+-----------+-----------+-------------+-------------------+\n",
      "|  1|    Pheobe|   Buffay|Female|[82349238942, 234...|[1, 3, 5, 7]|pheobebuffay@abc.com|       true|    1000.55|   2021-01-13|2021-02-10 01:15:00|\n",
      "|  3|    Monica|   Geller|Female|               [,,,]|         [2]|      monica@abc.com|       true|     1000.9|   2021-02-22|2021-02-28 07:33:00|\n",
      "|  5|    Rachel|    Green|Female|[82349238942, 234...|         [3]|      rachel@abc.com|       true|       null|   2021-02-24|2021-02-18 03:33:00|\n",
      "+---+----------+---------+------+--------------------+------------+--------------------+-----------+-----------+-------------+-------------------+\n",
      "\n"
     ]
    }
   ],
   "source": [
    "usersDF.filter(usersDF['gender'] == 'Female').show()"
   ]
  },
  {
   "cell_type": "code",
   "execution_count": 29,
   "id": "c41aaee0-ac0c-4307-8c85-78e6acf0df18",
   "metadata": {},
   "outputs": [
    {
     "name": "stdout",
     "output_type": "stream",
     "text": [
      "+---+----------+---------+------+--------------------+------------+--------------------+-----------+-----------+-------------+-------------------+\n",
      "| id|first_name|last_name|gender|       phone_numbers|     courses|               email|is_customer|amount_paid|customer_from|    last_updated_ts|\n",
      "+---+----------+---------+------+--------------------+------------+--------------------+-----------+-----------+-------------+-------------------+\n",
      "|  1|    Pheobe|   Buffay|Female|[82349238942, 234...|[1, 3, 5, 7]|pheobebuffay@abc.com|       true|    1000.55|   2021-01-13|2021-02-10 01:15:00|\n",
      "|  3|    Monica|   Geller|Female|               [,,,]|         [2]|      monica@abc.com|       true|     1000.9|   2021-02-22|2021-02-28 07:33:00|\n",
      "|  5|    Rachel|    Green|Female|[82349238942, 234...|         [3]|      rachel@abc.com|       true|       null|   2021-02-24|2021-02-18 03:33:00|\n",
      "+---+----------+---------+------+--------------------+------------+--------------------+-----------+-----------+-------------+-------------------+\n",
      "\n"
     ]
    }
   ],
   "source": [
    "usersDF.filter(\"gender == 'Female'\").show()"
   ]
  },
  {
   "cell_type": "code",
   "execution_count": 30,
   "id": "93e297e6-09b0-4373-863f-b5c237291d45",
   "metadata": {},
   "outputs": [
    {
     "name": "stdout",
     "output_type": "stream",
     "text": [
      "+---+----------+---------+------+--------------------+------------+--------------------+-----------+-----------+-------------+-------------------+\n",
      "| id|first_name|last_name|gender|       phone_numbers|     courses|               email|is_customer|amount_paid|customer_from|    last_updated_ts|\n",
      "+---+----------+---------+------+--------------------+------------+--------------------+-----------+-----------+-------------+-------------------+\n",
      "|  1|    Pheobe|   Buffay|Female|[82349238942, 234...|[1, 3, 5, 7]|pheobebuffay@abc.com|       true|    1000.55|   2021-01-13|2021-02-10 01:15:00|\n",
      "|  3|    Monica|   Geller|Female|               [,,,]|         [2]|      monica@abc.com|       true|     1000.9|   2021-02-22|2021-02-28 07:33:00|\n",
      "|  5|    Rachel|    Green|Female|[82349238942, 234...|         [3]|      rachel@abc.com|       true|       null|   2021-02-24|2021-02-18 03:33:00|\n",
      "+---+----------+---------+------+--------------------+------------+--------------------+-----------+-----------+-------------+-------------------+\n",
      "\n"
     ]
    }
   ],
   "source": [
    "usersDF.where(col('gender') == 'Female').show()"
   ]
  },
  {
   "cell_type": "code",
   "execution_count": 31,
   "id": "a65b06ad-8f6e-4193-af06-ef9370e9f2eb",
   "metadata": {},
   "outputs": [
    {
     "name": "stdout",
     "output_type": "stream",
     "text": [
      "+---+----------+---------+------+--------------------+------------+--------------------+-----------+-----------+-------------+-------------------+\n",
      "| id|first_name|last_name|gender|       phone_numbers|     courses|               email|is_customer|amount_paid|customer_from|    last_updated_ts|\n",
      "+---+----------+---------+------+--------------------+------------+--------------------+-----------+-----------+-------------+-------------------+\n",
      "|  1|    Pheobe|   Buffay|Female|[82349238942, 234...|[1, 3, 5, 7]|pheobebuffay@abc.com|       true|    1000.55|   2021-01-13|2021-02-10 01:15:00|\n",
      "|  3|    Monica|   Geller|Female|               [,,,]|         [2]|      monica@abc.com|       true|     1000.9|   2021-02-22|2021-02-28 07:33:00|\n",
      "|  5|    Rachel|    Green|Female|[82349238942, 234...|         [3]|      rachel@abc.com|       true|       null|   2021-02-24|2021-02-18 03:33:00|\n",
      "+---+----------+---------+------+--------------------+------------+--------------------+-----------+-----------+-------------+-------------------+\n",
      "\n"
     ]
    }
   ],
   "source": [
    "usersDF.where(\"gender == 'Female'\").show()"
   ]
  },
  {
   "cell_type": "code",
   "execution_count": 32,
   "id": "d5c226de-b1bc-42a9-aac4-f406b8d8e8bf",
   "metadata": {},
   "outputs": [],
   "source": [
    "# Using spark sql syntax\n",
    "usersDF.createOrReplaceTempView('users')"
   ]
  },
  {
   "cell_type": "code",
   "execution_count": 33,
   "id": "0738566b-05a9-4519-985f-377adb4edd82",
   "metadata": {},
   "outputs": [
    {
     "name": "stdout",
     "output_type": "stream",
     "text": [
      "+---+----------+---------+------+--------------------+------------+--------------------+-----------+-----------+-------------+-------------------+\n",
      "| id|first_name|last_name|gender|       phone_numbers|     courses|               email|is_customer|amount_paid|customer_from|    last_updated_ts|\n",
      "+---+----------+---------+------+--------------------+------------+--------------------+-----------+-----------+-------------+-------------------+\n",
      "|  1|    Pheobe|   Buffay|Female|[82349238942, 234...|[1, 3, 5, 7]|pheobebuffay@abc.com|       true|    1000.55|   2021-01-13|2021-02-10 01:15:00|\n",
      "|  3|    Monica|   Geller|Female|               [,,,]|         [2]|      monica@abc.com|       true|     1000.9|   2021-02-22|2021-02-28 07:33:00|\n",
      "|  5|    Rachel|    Green|Female|[82349238942, 234...|         [3]|      rachel@abc.com|       true|       null|   2021-02-24|2021-02-18 03:33:00|\n",
      "+---+----------+---------+------+--------------------+------------+--------------------+-----------+-----------+-------------+-------------------+\n",
      "\n"
     ]
    }
   ],
   "source": [
    "spark.sql(\"SELECT * FROM users WHERE gender = 'Female'\").show()"
   ]
  },
  {
   "cell_type": "code",
   "execution_count": null,
   "id": "c12c5bf9-bbc5-438a-973c-68e2b2981ed0",
   "metadata": {},
   "outputs": [],
   "source": []
  }
 ],
 "metadata": {
  "kernelspec": {
   "display_name": "Python 3 (ipykernel)",
   "language": "python",
   "name": "python3"
  },
  "language_info": {
   "codemirror_mode": {
    "name": "ipython",
    "version": 3
   },
   "file_extension": ".py",
   "mimetype": "text/x-python",
   "name": "python",
   "nbconvert_exporter": "python",
   "pygments_lexer": "ipython3",
   "version": "3.9.7"
  }
 },
 "nbformat": 4,
 "nbformat_minor": 5
}
